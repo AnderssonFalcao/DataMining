{
 "cells": [
  {
   "cell_type": "markdown",
   "metadata": {},
   "source": [
    "<h3>Aplique duas técnicas de redução ou transformação em seus dados. Comente os resultados. Poste o link.</h3>"
   ]
  },
  {
   "cell_type": "markdown",
   "metadata": {},
   "source": [
    "<b>Sobre a base de dados usada:</b>\n",
    "\n",
    "Steam is the world's most popular PC Gaming hub. With a massive collection that includes everything from AAA blockbusters to small indie titles, great discovery tools can be super valuable for Steam. How can we make them better?\n",
    "\n",
    "This dataset is a list of user behaviors, with columns: user-id, game-title, behavior-name, value. The behaviors included are 'purchase' and 'play'. The value indicates the degree to which the behavior was performed - in the case of 'purchase' the value is always 1, and in the case of 'play' the value represents the number of hours the user has played the game.\n",
    "\n",
    "<b>Importante:</b> Não usaremos a coluna 'Other'."
   ]
  },
  {
   "cell_type": "code",
   "execution_count": 1,
   "metadata": {
    "collapsed": true
   },
   "outputs": [],
   "source": [
    "#importando libs\n",
    "%matplotlib inline\n",
    "import pandas as pd\n",
    "import matplotlib.pyplot as plt"
   ]
  },
  {
   "cell_type": "code",
   "execution_count": 2,
   "metadata": {},
   "outputs": [
    {
     "data": {
      "text/html": [
       "<div>\n",
       "<style>\n",
       "    .dataframe thead tr:only-child th {\n",
       "        text-align: right;\n",
       "    }\n",
       "\n",
       "    .dataframe thead th {\n",
       "        text-align: left;\n",
       "    }\n",
       "\n",
       "    .dataframe tbody tr th {\n",
       "        vertical-align: top;\n",
       "    }\n",
       "</style>\n",
       "<table border=\"1\" class=\"dataframe\">\n",
       "  <thead>\n",
       "    <tr style=\"text-align: right;\">\n",
       "      <th></th>\n",
       "      <th>UserID</th>\n",
       "      <th>Game</th>\n",
       "      <th>Action</th>\n",
       "      <th>Hours</th>\n",
       "      <th>Other</th>\n",
       "    </tr>\n",
       "  </thead>\n",
       "  <tbody>\n",
       "    <tr>\n",
       "      <th>0</th>\n",
       "      <td>151603712</td>\n",
       "      <td>The Elder Scrolls V Skyrim</td>\n",
       "      <td>purchase</td>\n",
       "      <td>1.0</td>\n",
       "      <td>0</td>\n",
       "    </tr>\n",
       "    <tr>\n",
       "      <th>1</th>\n",
       "      <td>151603712</td>\n",
       "      <td>The Elder Scrolls V Skyrim</td>\n",
       "      <td>play</td>\n",
       "      <td>273.0</td>\n",
       "      <td>0</td>\n",
       "    </tr>\n",
       "    <tr>\n",
       "      <th>2</th>\n",
       "      <td>151603712</td>\n",
       "      <td>Fallout 4</td>\n",
       "      <td>purchase</td>\n",
       "      <td>1.0</td>\n",
       "      <td>0</td>\n",
       "    </tr>\n",
       "    <tr>\n",
       "      <th>3</th>\n",
       "      <td>151603712</td>\n",
       "      <td>Fallout 4</td>\n",
       "      <td>play</td>\n",
       "      <td>87.0</td>\n",
       "      <td>0</td>\n",
       "    </tr>\n",
       "    <tr>\n",
       "      <th>4</th>\n",
       "      <td>151603712</td>\n",
       "      <td>Spore</td>\n",
       "      <td>purchase</td>\n",
       "      <td>1.0</td>\n",
       "      <td>0</td>\n",
       "    </tr>\n",
       "    <tr>\n",
       "      <th>5</th>\n",
       "      <td>151603712</td>\n",
       "      <td>Spore</td>\n",
       "      <td>play</td>\n",
       "      <td>14.9</td>\n",
       "      <td>0</td>\n",
       "    </tr>\n",
       "    <tr>\n",
       "      <th>6</th>\n",
       "      <td>151603712</td>\n",
       "      <td>Fallout New Vegas</td>\n",
       "      <td>purchase</td>\n",
       "      <td>1.0</td>\n",
       "      <td>0</td>\n",
       "    </tr>\n",
       "    <tr>\n",
       "      <th>7</th>\n",
       "      <td>151603712</td>\n",
       "      <td>Fallout New Vegas</td>\n",
       "      <td>play</td>\n",
       "      <td>12.1</td>\n",
       "      <td>0</td>\n",
       "    </tr>\n",
       "    <tr>\n",
       "      <th>8</th>\n",
       "      <td>151603712</td>\n",
       "      <td>Left 4 Dead 2</td>\n",
       "      <td>purchase</td>\n",
       "      <td>1.0</td>\n",
       "      <td>0</td>\n",
       "    </tr>\n",
       "    <tr>\n",
       "      <th>9</th>\n",
       "      <td>151603712</td>\n",
       "      <td>Left 4 Dead 2</td>\n",
       "      <td>play</td>\n",
       "      <td>8.9</td>\n",
       "      <td>0</td>\n",
       "    </tr>\n",
       "  </tbody>\n",
       "</table>\n",
       "</div>"
      ],
      "text/plain": [
       "      UserID                        Game    Action  Hours  Other\n",
       "0  151603712  The Elder Scrolls V Skyrim  purchase    1.0      0\n",
       "1  151603712  The Elder Scrolls V Skyrim      play  273.0      0\n",
       "2  151603712                   Fallout 4  purchase    1.0      0\n",
       "3  151603712                   Fallout 4      play   87.0      0\n",
       "4  151603712                       Spore  purchase    1.0      0\n",
       "5  151603712                       Spore      play   14.9      0\n",
       "6  151603712           Fallout New Vegas  purchase    1.0      0\n",
       "7  151603712           Fallout New Vegas      play   12.1      0\n",
       "8  151603712               Left 4 Dead 2  purchase    1.0      0\n",
       "9  151603712               Left 4 Dead 2      play    8.9      0"
      ]
     },
     "execution_count": 2,
     "metadata": {},
     "output_type": "execute_result"
    }
   ],
   "source": [
    "#Carregando os dados\n",
    "dados = pd.read_csv(\"./Dados/steam-200k.csv\", header=None, index_col=None,\n",
    "                 names=['UserID', 'Game', 'Action', 'Hours', 'Other'])\n",
    "dados.head(10)"
   ]
  },
  {
   "cell_type": "code",
   "execution_count": 16,
   "metadata": {},
   "outputs": [],
   "source": [
    "df_dados = dados.drop('Other', axis=1)"
   ]
  },
  {
   "cell_type": "code",
   "execution_count": 17,
   "metadata": {},
   "outputs": [
    {
     "data": {
      "text/plain": [
       "UserID    0\n",
       "Game      0\n",
       "Action    0\n",
       "Hours     0\n",
       "dtype: int64"
      ]
     },
     "execution_count": 17,
     "metadata": {},
     "output_type": "execute_result"
    }
   ],
   "source": [
    "#Verificando dados nulos\n",
    "df_dados.isnull().sum()"
   ]
  },
  {
   "cell_type": "code",
   "execution_count": 18,
   "metadata": {},
   "outputs": [
    {
     "data": {
      "text/html": [
       "<div>\n",
       "<style>\n",
       "    .dataframe thead tr:only-child th {\n",
       "        text-align: right;\n",
       "    }\n",
       "\n",
       "    .dataframe thead th {\n",
       "        text-align: left;\n",
       "    }\n",
       "\n",
       "    .dataframe tbody tr th {\n",
       "        vertical-align: top;\n",
       "    }\n",
       "</style>\n",
       "<table border=\"1\" class=\"dataframe\">\n",
       "  <thead>\n",
       "    <tr style=\"text-align: right;\">\n",
       "      <th></th>\n",
       "      <th>UserID</th>\n",
       "      <th>Game</th>\n",
       "      <th>Action</th>\n",
       "      <th>Hours</th>\n",
       "    </tr>\n",
       "  </thead>\n",
       "  <tbody>\n",
       "    <tr>\n",
       "      <th>0</th>\n",
       "      <td>151603712</td>\n",
       "      <td>The Elder Scrolls V Skyrim</td>\n",
       "      <td>purchase</td>\n",
       "      <td>1.0</td>\n",
       "    </tr>\n",
       "    <tr>\n",
       "      <th>2</th>\n",
       "      <td>151603712</td>\n",
       "      <td>Fallout 4</td>\n",
       "      <td>purchase</td>\n",
       "      <td>1.0</td>\n",
       "    </tr>\n",
       "    <tr>\n",
       "      <th>4</th>\n",
       "      <td>151603712</td>\n",
       "      <td>Spore</td>\n",
       "      <td>purchase</td>\n",
       "      <td>1.0</td>\n",
       "    </tr>\n",
       "    <tr>\n",
       "      <th>6</th>\n",
       "      <td>151603712</td>\n",
       "      <td>Fallout New Vegas</td>\n",
       "      <td>purchase</td>\n",
       "      <td>1.0</td>\n",
       "    </tr>\n",
       "    <tr>\n",
       "      <th>8</th>\n",
       "      <td>151603712</td>\n",
       "      <td>Left 4 Dead 2</td>\n",
       "      <td>purchase</td>\n",
       "      <td>1.0</td>\n",
       "    </tr>\n",
       "    <tr>\n",
       "      <th>10</th>\n",
       "      <td>151603712</td>\n",
       "      <td>HuniePop</td>\n",
       "      <td>purchase</td>\n",
       "      <td>1.0</td>\n",
       "    </tr>\n",
       "    <tr>\n",
       "      <th>12</th>\n",
       "      <td>151603712</td>\n",
       "      <td>Path of Exile</td>\n",
       "      <td>purchase</td>\n",
       "      <td>1.0</td>\n",
       "    </tr>\n",
       "    <tr>\n",
       "      <th>14</th>\n",
       "      <td>151603712</td>\n",
       "      <td>Poly Bridge</td>\n",
       "      <td>purchase</td>\n",
       "      <td>1.0</td>\n",
       "    </tr>\n",
       "    <tr>\n",
       "      <th>16</th>\n",
       "      <td>151603712</td>\n",
       "      <td>Left 4 Dead</td>\n",
       "      <td>purchase</td>\n",
       "      <td>1.0</td>\n",
       "    </tr>\n",
       "    <tr>\n",
       "      <th>18</th>\n",
       "      <td>151603712</td>\n",
       "      <td>Team Fortress 2</td>\n",
       "      <td>purchase</td>\n",
       "      <td>1.0</td>\n",
       "    </tr>\n",
       "    <tr>\n",
       "      <th>20</th>\n",
       "      <td>151603712</td>\n",
       "      <td>Tomb Raider</td>\n",
       "      <td>purchase</td>\n",
       "      <td>1.0</td>\n",
       "    </tr>\n",
       "    <tr>\n",
       "      <th>22</th>\n",
       "      <td>151603712</td>\n",
       "      <td>The Banner Saga</td>\n",
       "      <td>purchase</td>\n",
       "      <td>1.0</td>\n",
       "    </tr>\n",
       "    <tr>\n",
       "      <th>24</th>\n",
       "      <td>151603712</td>\n",
       "      <td>Dead Island Epidemic</td>\n",
       "      <td>purchase</td>\n",
       "      <td>1.0</td>\n",
       "    </tr>\n",
       "    <tr>\n",
       "      <th>26</th>\n",
       "      <td>151603712</td>\n",
       "      <td>BioShock Infinite</td>\n",
       "      <td>purchase</td>\n",
       "      <td>1.0</td>\n",
       "    </tr>\n",
       "    <tr>\n",
       "      <th>28</th>\n",
       "      <td>151603712</td>\n",
       "      <td>Dragon Age Origins - Ultimate Edition</td>\n",
       "      <td>purchase</td>\n",
       "      <td>1.0</td>\n",
       "    </tr>\n",
       "  </tbody>\n",
       "</table>\n",
       "</div>"
      ],
      "text/plain": [
       "       UserID                                   Game    Action  Hours\n",
       "0   151603712             The Elder Scrolls V Skyrim  purchase    1.0\n",
       "2   151603712                              Fallout 4  purchase    1.0\n",
       "4   151603712                                  Spore  purchase    1.0\n",
       "6   151603712                      Fallout New Vegas  purchase    1.0\n",
       "8   151603712                          Left 4 Dead 2  purchase    1.0\n",
       "10  151603712                               HuniePop  purchase    1.0\n",
       "12  151603712                          Path of Exile  purchase    1.0\n",
       "14  151603712                            Poly Bridge  purchase    1.0\n",
       "16  151603712                            Left 4 Dead  purchase    1.0\n",
       "18  151603712                        Team Fortress 2  purchase    1.0\n",
       "20  151603712                            Tomb Raider  purchase    1.0\n",
       "22  151603712                        The Banner Saga  purchase    1.0\n",
       "24  151603712                   Dead Island Epidemic  purchase    1.0\n",
       "26  151603712                      BioShock Infinite  purchase    1.0\n",
       "28  151603712  Dragon Age Origins - Ultimate Edition  purchase    1.0"
      ]
     },
     "execution_count": 18,
     "metadata": {},
     "output_type": "execute_result"
    }
   ],
   "source": [
    "#Separando apedas dados de compras\n",
    "compras = df_dados.loc[df_dados['Action']=='purchase']\n",
    "compras.head(15)"
   ]
  },
  {
   "cell_type": "code",
   "execution_count": 30,
   "metadata": {},
   "outputs": [
    {
     "data": {
      "text/plain": [
       "UserID    129511\n",
       "Game      129511\n",
       "Action    129511\n",
       "Hours     129511\n",
       "dtype: int64"
      ]
     },
     "execution_count": 30,
     "metadata": {},
     "output_type": "execute_result"
    }
   ],
   "source": [
    "compras.count()"
   ]
  },
  {
   "cell_type": "code",
   "execution_count": 70,
   "metadata": {},
   "outputs": [
    {
     "data": {
      "text/html": [
       "<div>\n",
       "<style>\n",
       "    .dataframe thead tr:only-child th {\n",
       "        text-align: right;\n",
       "    }\n",
       "\n",
       "    .dataframe thead th {\n",
       "        text-align: left;\n",
       "    }\n",
       "\n",
       "    .dataframe tbody tr th {\n",
       "        vertical-align: top;\n",
       "    }\n",
       "</style>\n",
       "<table border=\"1\" class=\"dataframe\">\n",
       "  <thead>\n",
       "    <tr style=\"text-align: right;\">\n",
       "      <th></th>\n",
       "      <th>UserID</th>\n",
       "      <th>Game</th>\n",
       "      <th>Action</th>\n",
       "      <th>Hours</th>\n",
       "    </tr>\n",
       "  </thead>\n",
       "  <tbody>\n",
       "    <tr>\n",
       "      <th>107415</th>\n",
       "      <td>27279261</td>\n",
       "      <td>Metro 2033</td>\n",
       "      <td>purchase</td>\n",
       "      <td>1.0</td>\n",
       "    </tr>\n",
       "    <tr>\n",
       "      <th>134113</th>\n",
       "      <td>298242221</td>\n",
       "      <td>Arma 3 Zeus</td>\n",
       "      <td>purchase</td>\n",
       "      <td>1.0</td>\n",
       "    </tr>\n",
       "    <tr>\n",
       "      <th>15792</th>\n",
       "      <td>78341587</td>\n",
       "      <td>Aquaria</td>\n",
       "      <td>purchase</td>\n",
       "      <td>1.0</td>\n",
       "    </tr>\n",
       "    <tr>\n",
       "      <th>138235</th>\n",
       "      <td>14126086</td>\n",
       "      <td>Borderlands 2</td>\n",
       "      <td>purchase</td>\n",
       "      <td>1.0</td>\n",
       "    </tr>\n",
       "    <tr>\n",
       "      <th>192738</th>\n",
       "      <td>36404933</td>\n",
       "      <td>Fractal Make Blooms Not War</td>\n",
       "      <td>purchase</td>\n",
       "      <td>1.0</td>\n",
       "    </tr>\n",
       "    <tr>\n",
       "      <th>124632</th>\n",
       "      <td>36557643</td>\n",
       "      <td>No Time To Explain Remastered</td>\n",
       "      <td>purchase</td>\n",
       "      <td>1.0</td>\n",
       "    </tr>\n",
       "    <tr>\n",
       "      <th>9539</th>\n",
       "      <td>196223620</td>\n",
       "      <td>Among Ripples</td>\n",
       "      <td>purchase</td>\n",
       "      <td>1.0</td>\n",
       "    </tr>\n",
       "    <tr>\n",
       "      <th>198146</th>\n",
       "      <td>154230723</td>\n",
       "      <td>Shank 2</td>\n",
       "      <td>purchase</td>\n",
       "      <td>1.0</td>\n",
       "    </tr>\n",
       "    <tr>\n",
       "      <th>35702</th>\n",
       "      <td>239544929</td>\n",
       "      <td>Revolution Ace</td>\n",
       "      <td>purchase</td>\n",
       "      <td>1.0</td>\n",
       "    </tr>\n",
       "    <tr>\n",
       "      <th>157334</th>\n",
       "      <td>258531019</td>\n",
       "      <td>Realm of the Mad God</td>\n",
       "      <td>purchase</td>\n",
       "      <td>1.0</td>\n",
       "    </tr>\n",
       "    <tr>\n",
       "      <th>59198</th>\n",
       "      <td>86055705</td>\n",
       "      <td>Half-Life Source</td>\n",
       "      <td>purchase</td>\n",
       "      <td>1.0</td>\n",
       "    </tr>\n",
       "    <tr>\n",
       "      <th>169676</th>\n",
       "      <td>114324869</td>\n",
       "      <td>Ascend Hand of Kul</td>\n",
       "      <td>purchase</td>\n",
       "      <td>1.0</td>\n",
       "    </tr>\n",
       "    <tr>\n",
       "      <th>130977</th>\n",
       "      <td>98848653</td>\n",
       "      <td>Valiant Hearts The Great War / Soldats Inconnu...</td>\n",
       "      <td>purchase</td>\n",
       "      <td>1.0</td>\n",
       "    </tr>\n",
       "    <tr>\n",
       "      <th>59966</th>\n",
       "      <td>66255019</td>\n",
       "      <td>FINAL FANTASY VII</td>\n",
       "      <td>purchase</td>\n",
       "      <td>1.0</td>\n",
       "    </tr>\n",
       "    <tr>\n",
       "      <th>117174</th>\n",
       "      <td>94936385</td>\n",
       "      <td>Killing Floor</td>\n",
       "      <td>purchase</td>\n",
       "      <td>1.0</td>\n",
       "    </tr>\n",
       "  </tbody>\n",
       "</table>\n",
       "</div>"
      ],
      "text/plain": [
       "           UserID                                               Game  \\\n",
       "107415   27279261                                         Metro 2033   \n",
       "134113  298242221                                        Arma 3 Zeus   \n",
       "15792    78341587                                            Aquaria   \n",
       "138235   14126086                                      Borderlands 2   \n",
       "192738   36404933                        Fractal Make Blooms Not War   \n",
       "124632   36557643                      No Time To Explain Remastered   \n",
       "9539    196223620                                      Among Ripples   \n",
       "198146  154230723                                            Shank 2   \n",
       "35702   239544929                                     Revolution Ace   \n",
       "157334  258531019                               Realm of the Mad God   \n",
       "59198    86055705                                   Half-Life Source   \n",
       "169676  114324869                                 Ascend Hand of Kul   \n",
       "130977   98848653  Valiant Hearts The Great War / Soldats Inconnu...   \n",
       "59966    66255019                                  FINAL FANTASY VII   \n",
       "117174   94936385                                      Killing Floor   \n",
       "\n",
       "          Action  Hours  \n",
       "107415  purchase    1.0  \n",
       "134113  purchase    1.0  \n",
       "15792   purchase    1.0  \n",
       "138235  purchase    1.0  \n",
       "192738  purchase    1.0  \n",
       "124632  purchase    1.0  \n",
       "9539    purchase    1.0  \n",
       "198146  purchase    1.0  \n",
       "35702   purchase    1.0  \n",
       "157334  purchase    1.0  \n",
       "59198   purchase    1.0  \n",
       "169676  purchase    1.0  \n",
       "130977  purchase    1.0  \n",
       "59966   purchase    1.0  \n",
       "117174  purchase    1.0  "
      ]
     },
     "execution_count": 70,
     "metadata": {},
     "output_type": "execute_result"
    }
   ],
   "source": [
    "#Amostragem com 5% dos dados de compra\n",
    "amostraCompras = compras.sample(6475)\n",
    "amostraCompras.head(15)"
   ]
  },
  {
   "cell_type": "code",
   "execution_count": 71,
   "metadata": {},
   "outputs": [
    {
     "data": {
      "text/plain": [
       "<matplotlib.axes._subplots.AxesSubplot at 0x1f86d983080>"
      ]
     },
     "execution_count": 71,
     "metadata": {},
     "output_type": "execute_result"
    },
    {
     "data": {
      "image/png": "[encoded data removed]",
      "text/plain": [
       "<matplotlib.figure.Figure at 0x1f86d90f898>"
      ]
     },
     "metadata": {},
     "output_type": "display_data"
    }
   ],
   "source": [
    "amostraCompras['Game'].value_counts().head(15).plot(kind='barh', figsize=(20, 5), grid=True)"
   ]
  },
  {
   "cell_type": "code",
   "execution_count": 60,
   "metadata": {},
   "outputs": [
    {
     "data": {
      "text/plain": [
       "3600"
      ]
     },
     "execution_count": 60,
     "metadata": {},
     "output_type": "execute_result"
    }
   ],
   "source": [
    "#Separando dados apenas de tempo jogado\n",
    "tempoJogado = df_dados.loc[df_dados['Action']=='play']\n",
    "somaHoras = tempoJogado.groupby('Game').Hours.aggregate('sum').sort_values(ascending=False)\n",
    "somaHoras.count()"
   ]
  },
  {
   "cell_type": "code",
   "execution_count": 68,
   "metadata": {},
   "outputs": [
    {
     "data": {
      "text/plain": [
       "Game\n",
       "Call of Duty Modern Warfare 2 - Multiplayer    42009.9\n",
       "Borderlands 2                                  22667.9\n",
       "Clicker Heroes                                 12937.4\n",
       "APB Reloaded                                    9237.2\n",
       "Rocket League                                   7827.2\n",
       "DARK SOULS II                                   6193.8\n",
       "METAL GEAR SOLID V THE PHANTOM PAIN             4751.1\n",
       "Stronghold Kingdoms                             4703.1\n",
       "Mafia II                                        2893.4\n",
       "Saints Row IV                                   2563.0\n",
       "Spiral Knights                                  2360.7\n",
       "HAWKEN                                          1416.3\n",
       "Dirty Bomb                                      1390.3\n",
       "Nosgoth                                         1320.9\n",
       "RAGE                                            1207.8\n",
       "Name: Hours, dtype: float64"
      ]
     },
     "execution_count": 68,
     "metadata": {},
     "output_type": "execute_result"
    }
   ],
   "source": [
    "#Amostragem de 5% dos jogos\n",
    "amostraJogos = somaHoras.sample(180).sort_values(ascending=False)\n",
    "amostraJogos.head(15)"
   ]
  },
  {
   "cell_type": "code",
   "execution_count": 69,
   "metadata": {},
   "outputs": [
    {
     "data": {
      "text/plain": [
       "<matplotlib.axes._subplots.AxesSubplot at 0x1f86d8e72b0>"
      ]
     },
     "execution_count": 69,
     "metadata": {},
     "output_type": "execute_result"
    },
    {
     "data": {
      "image/png": "[encoded data removed]",
      "text/plain": [
       "<matplotlib.figure.Figure at 0x1f86d9045f8>"
      ]
     },
     "metadata": {},
     "output_type": "display_data"
    }
   ],
   "source": [
    "amostraJogos.head(20).plot(kind='barh', figsize=(15, 5), grid=True)"
   ]
  },
  {
   "cell_type": "code",
   "execution_count": null,
   "metadata": {
    "collapsed": true
   },
   "outputs": [],
   "source": []
  }
 ],
 "metadata": {
  "kernelspec": {
   "display_name": "Python 3",
   "language": "python",
   "name": "python3"
  },
  "language_info": {
   "codemirror_mode": {
    "name": "ipython",
    "version": 3
   },
   "file_extension": ".py",
   "mimetype": "text/x-python",
   "name": "python",
   "nbconvert_exporter": "python",
   "pygments_lexer": "ipython3",
   "version": "3.6.3"
  }
 },
 "nbformat": 4,
 "nbformat_minor": 2
}
