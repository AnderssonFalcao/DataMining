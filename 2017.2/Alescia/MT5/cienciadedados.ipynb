{
 "cells": [
  {
   "cell_type": "markdown",
   "metadata": {},
   "source": [
    "<h4>Calcule a media das variaveis que fazem sentido ser calculadas e justifique o\n",
    "porque nao fazer sentido para as outras;</h4>\n",
    "\n",
    "<h6>Variavel datas: Nao ha sentido em calcular media de datas;</h6>\n",
    "<h6>Variavel Horas dormidas: media 7;</h6>\n",
    "<h6>Variavel recognition score: Existem inconformidades nos dados (dados faltantes, \n",
    "dados com formatos diferentes), o que impossibilita o calculo direto da media;</h6>\n",
    "<h6>Variavel temporary memory score: similar a variavel anterior, existem inconformidades\n",
    "e dados ausentes, o que impossibilita o calculo direto da media;</h6>"
   ]
  },
  {
   "cell_type": "code",
   "execution_count": null,
   "metadata": {},
   "outputs": [],
   "source": []
  }
 ],
 "metadata": {
  "kernelspec": {
   "display_name": "Python 3",
   "language": "python",
   "name": "python3"
  },
  "language_info": {
   "codemirror_mode": {
    "name": "ipython",
    "version": 3
   },
   "file_extension": ".py",
   "mimetype": "text/x-python",
   "name": "python",
   "nbconvert_exporter": "python",
   "pygments_lexer": "ipython3",
   "version": "3.6.3"
  }
 },
 "nbformat": 4,
 "nbformat_minor": 2
}
