{
 "cells": [
  {
   "cell_type": "code",
   "execution_count": 81,
   "metadata": {
    "collapsed": true
   },
   "outputs": [],
   "source": [
    "%matplotlib inline\n",
    "import pandas as pd\n",
    "import numpy\n",
    "import matplotlib.pyplot as plt\n",
    "import matplotlib.patches as mpatches"
   ]
  },
  {
   "cell_type": "code",
   "execution_count": 82,
   "metadata": {
    "collapsed": true
   },
   "outputs": [],
   "source": [
    "df_eventos = pd.read_csv(\"F:/Bibliotecas/Documentos/football-events/events.csv\") #dt\n",
    "df_dados_partida = pd.read_csv(\"F:/Bibliotecas/Documentos/football-events/ginf.csv\") #dtt"
   ]
  },
  {
   "cell_type": "code",
   "execution_count": 83,
   "metadata": {},
   "outputs": [
    {
     "data": {
      "text/plain": [
       "Index(['id_odsp', 'id_event', 'sort_order', 'time', 'text', 'event_type',\n",
       "       'event_type2', 'side', 'event_team', 'opponent', 'player', 'player2',\n",
       "       'player_in', 'player_out', 'shot_place', 'shot_outcome', 'is_goal',\n",
       "       'location', 'bodypart', 'assist_method', 'situation', 'fast_break'],\n",
       "      dtype='object')"
      ]
     },
     "execution_count": 83,
     "metadata": {},
     "output_type": "execute_result"
    }
   ],
   "source": [
    "df_eventos.columns"
   ]
  },
  {
   "cell_type": "code",
   "execution_count": 84,
   "metadata": {
    "collapsed": true
   },
   "outputs": [],
   "source": [
    "evento_tentativa = 1 #Define o evento como tentativa de gol\n",
    "na_meta = 1 \n",
    "gol_true = 1         #Define o evento como gol\n",
    "gol_false = 0        #Define que o evento não foi gol\n",
    "penalti_concedido = 11  #Define que o 'event_type' foi penalti\n",
    "alema = 'D1'\n",
    "inglesa = 'E0'\n",
    "espanhola = 'SP1'\n",
    "italiana = 'I1'\n",
    "francesa = 'F1'"
   ]
  },
  {
   "cell_type": "code",
   "execution_count": 85,
   "metadata": {
    "collapsed": true
   },
   "outputs": [],
   "source": [
    "##TRABALHANDO NOS VALORES DOS GOLS E TENTATIVAS"
   ]
  },
  {
   "cell_type": "code",
   "execution_count": 86,
   "metadata": {
    "collapsed": true
   },
   "outputs": [],
   "source": [
    "##Pegar colunas especificas do DataFrame, correspondente as finalizações\n",
    "df_nova_eventos = df_eventos[['id_odsp', 'id_event', 'sort_order', 'text', 'event_type', 'event_type2','side', 'event_team',\n",
    "                              'opponent','player', 'player2', 'shot_place', 'shot_outcome', 'is_goal', 'location', 'bodypart',\n",
    "                              'assist_method', 'situation']] #dct"
   ]
  },
  {
   "cell_type": "code",
   "execution_count": 87,
   "metadata": {
    "collapsed": true
   },
   "outputs": [],
   "source": [
    "df_dados_partida = df_dados_partida[['id_odsp', 'link_odsp', 'adv_stats', 'date', 'league', 'season',\n",
    "       'country', 'ht', 'at', 'fthg', 'ftag']]"
   ]
  },
  {
   "cell_type": "markdown",
   "metadata": {
    "collapsed": true
   },
   "source": [
    "# 1.\tQUAL O PERCENTUAL DE ACERTOS NOS CHUTES DOS CLUBES?"
   ]
  },
  {
   "cell_type": "markdown",
   "metadata": {},
   "source": [
    "## Reduzindo os dados do DataFrame para os desejados"
   ]
  },
  {
   "cell_type": "markdown",
   "metadata": {},
   "source": [
    "### Guardando os valores de tentativas que foram gols"
   ]
  },
  {
   "cell_type": "code",
   "execution_count": 88,
   "metadata": {
    "collapsed": true
   },
   "outputs": [],
   "source": [
    "df_gols = df_nova_eventos[(df_nova_eventos['event_type'] == evento_tentativa) & (df_nova_eventos['is_goal'] == gol_true)\n",
    "                          & (df_nova_eventos['shot_outcome'] >= na_meta)]"
   ]
  },
  {
   "cell_type": "markdown",
   "metadata": {},
   "source": [
    "### Guardando os registros de tentativas que não foram gols"
   ]
  },
  {
   "cell_type": "code",
   "execution_count": 89,
   "metadata": {
    "collapsed": true
   },
   "outputs": [],
   "source": [
    "df_tentativas = df_nova_eventos[(df_nova_eventos['event_type'] == evento_tentativa)]\n",
    "## &(df_nova_eventos['is_goal'] == gol_false)"
   ]
  },
  {
   "cell_type": "code",
   "execution_count": 90,
   "metadata": {},
   "outputs": [
    {
     "data": {
      "text/plain": [
       "Index(['id_odsp', 'id_event', 'sort_order', 'text', 'event_type',\n",
       "       'event_type2', 'side', 'event_team', 'opponent', 'player', 'player2',\n",
       "       'shot_place', 'shot_outcome', 'is_goal', 'location', 'bodypart',\n",
       "       'assist_method', 'situation'],\n",
       "      dtype='object')"
      ]
     },
     "execution_count": 90,
     "metadata": {},
     "output_type": "execute_result"
    }
   ],
   "source": [
    "df_gols.columns\n"
   ]
  },
  {
   "cell_type": "code",
   "execution_count": 91,
   "metadata": {
    "collapsed": true
   },
   "outputs": [],
   "source": [
    "##ACIMA A TENTATIVA DE RESPONDER A QUESTÃO 1 (EM ANDAMENTO)"
   ]
  },
  {
   "cell_type": "code",
   "execution_count": 92,
   "metadata": {
    "collapsed": true
   },
   "outputs": [],
   "source": [
    "##Construindo um DataFrame com os valores necessários da tabela Ginf\n",
    "dados_partida = df_dados_partida.columns[:-9] ##Não funciona (DESSA FORMA SÓ COPIA OS INDEXS)"
   ]
  },
  {
   "cell_type": "code",
   "execution_count": 93,
   "metadata": {},
   "outputs": [
    {
     "data": {
      "text/html": [
       "<div>\n",
       "<style>\n",
       "    .dataframe thead tr:only-child th {\n",
       "        text-align: right;\n",
       "    }\n",
       "\n",
       "    .dataframe thead th {\n",
       "        text-align: left;\n",
       "    }\n",
       "\n",
       "    .dataframe tbody tr th {\n",
       "        vertical-align: top;\n",
       "    }\n",
       "</style>\n",
       "<table border=\"1\" class=\"dataframe\">\n",
       "  <thead>\n",
       "    <tr style=\"text-align: right;\">\n",
       "      <th></th>\n",
       "      <th>id_odsp</th>\n",
       "      <th>link_odsp</th>\n",
       "      <th>adv_stats</th>\n",
       "      <th>date</th>\n",
       "      <th>league</th>\n",
       "      <th>season</th>\n",
       "      <th>country</th>\n",
       "      <th>ht</th>\n",
       "      <th>at</th>\n",
       "      <th>fthg</th>\n",
       "      <th>ftag</th>\n",
       "    </tr>\n",
       "  </thead>\n",
       "  <tbody>\n",
       "    <tr>\n",
       "      <th>0</th>\n",
       "      <td>UFot0hit/</td>\n",
       "      <td>/soccer/germany/bundesliga-2011-2012/dortmund-...</td>\n",
       "      <td>True</td>\n",
       "      <td>2011-08-05</td>\n",
       "      <td>D1</td>\n",
       "      <td>2012</td>\n",
       "      <td>germany</td>\n",
       "      <td>Borussia Dortmund</td>\n",
       "      <td>Hamburg SV</td>\n",
       "      <td>3</td>\n",
       "      <td>1</td>\n",
       "    </tr>\n",
       "    <tr>\n",
       "      <th>1</th>\n",
       "      <td>Aw5DflLH/</td>\n",
       "      <td>/soccer/germany/bundesliga-2011-2012/augsburg-...</td>\n",
       "      <td>True</td>\n",
       "      <td>2011-08-06</td>\n",
       "      <td>D1</td>\n",
       "      <td>2012</td>\n",
       "      <td>germany</td>\n",
       "      <td>FC Augsburg</td>\n",
       "      <td>SC Freiburg</td>\n",
       "      <td>2</td>\n",
       "      <td>2</td>\n",
       "    </tr>\n",
       "    <tr>\n",
       "      <th>2</th>\n",
       "      <td>bkjpaC6n/</td>\n",
       "      <td>/soccer/germany/bundesliga-2011-2012/werder-br...</td>\n",
       "      <td>True</td>\n",
       "      <td>2011-08-06</td>\n",
       "      <td>D1</td>\n",
       "      <td>2012</td>\n",
       "      <td>germany</td>\n",
       "      <td>Werder Bremen</td>\n",
       "      <td>Kaiserslautern</td>\n",
       "      <td>2</td>\n",
       "      <td>0</td>\n",
       "    </tr>\n",
       "    <tr>\n",
       "      <th>3</th>\n",
       "      <td>CzPV312a/</td>\n",
       "      <td>/soccer/france/ligue-1-2011-2012/paris-sg-lori...</td>\n",
       "      <td>True</td>\n",
       "      <td>2011-08-06</td>\n",
       "      <td>F1</td>\n",
       "      <td>2012</td>\n",
       "      <td>france</td>\n",
       "      <td>Paris Saint-Germain</td>\n",
       "      <td>Lorient</td>\n",
       "      <td>0</td>\n",
       "      <td>1</td>\n",
       "    </tr>\n",
       "    <tr>\n",
       "      <th>4</th>\n",
       "      <td>GUOdmtII/</td>\n",
       "      <td>/soccer/france/ligue-1-2011-2012/caen-valencie...</td>\n",
       "      <td>True</td>\n",
       "      <td>2011-08-06</td>\n",
       "      <td>F1</td>\n",
       "      <td>2012</td>\n",
       "      <td>france</td>\n",
       "      <td>Caen</td>\n",
       "      <td>Valenciennes</td>\n",
       "      <td>1</td>\n",
       "      <td>0</td>\n",
       "    </tr>\n",
       "  </tbody>\n",
       "</table>\n",
       "</div>"
      ],
      "text/plain": [
       "     id_odsp                                          link_odsp  adv_stats  \\\n",
       "0  UFot0hit/  /soccer/germany/bundesliga-2011-2012/dortmund-...       True   \n",
       "1  Aw5DflLH/  /soccer/germany/bundesliga-2011-2012/augsburg-...       True   \n",
       "2  bkjpaC6n/  /soccer/germany/bundesliga-2011-2012/werder-br...       True   \n",
       "3  CzPV312a/  /soccer/france/ligue-1-2011-2012/paris-sg-lori...       True   \n",
       "4  GUOdmtII/  /soccer/france/ligue-1-2011-2012/caen-valencie...       True   \n",
       "\n",
       "         date league  season  country                   ht              at  \\\n",
       "0  2011-08-05     D1    2012  germany    Borussia Dortmund      Hamburg SV   \n",
       "1  2011-08-06     D1    2012  germany          FC Augsburg     SC Freiburg   \n",
       "2  2011-08-06     D1    2012  germany        Werder Bremen  Kaiserslautern   \n",
       "3  2011-08-06     F1    2012   france  Paris Saint-Germain         Lorient   \n",
       "4  2011-08-06     F1    2012   france                 Caen    Valenciennes   \n",
       "\n",
       "   fthg  ftag  \n",
       "0     3     1  \n",
       "1     2     2  \n",
       "2     2     0  \n",
       "3     0     1  \n",
       "4     1     0  "
      ]
     },
     "execution_count": 93,
     "metadata": {},
     "output_type": "execute_result"
    }
   ],
   "source": [
    "df_dados_partida.head()"
   ]
  },
  {
   "cell_type": "markdown",
   "metadata": {},
   "source": [
    "## Criando uma junção natural entre os dois dataframes"
   ]
  },
  {
   "cell_type": "code",
   "execution_count": 94,
   "metadata": {
    "collapsed": true
   },
   "outputs": [],
   "source": [
    "gols = pd.merge(df_gols, df_dados_partida, how='inner', on=['id_odsp', 'id_odsp'])"
   ]
  },
  {
   "cell_type": "code",
   "execution_count": 95,
   "metadata": {},
   "outputs": [
    {
     "data": {
      "text/html": [
       "<div>\n",
       "<style>\n",
       "    .dataframe thead tr:only-child th {\n",
       "        text-align: right;\n",
       "    }\n",
       "\n",
       "    .dataframe thead th {\n",
       "        text-align: left;\n",
       "    }\n",
       "\n",
       "    .dataframe tbody tr th {\n",
       "        vertical-align: top;\n",
       "    }\n",
       "</style>\n",
       "<table border=\"1\" class=\"dataframe\">\n",
       "  <thead>\n",
       "    <tr style=\"text-align: right;\">\n",
       "      <th></th>\n",
       "      <th>id_odsp</th>\n",
       "      <th>id_event</th>\n",
       "      <th>sort_order</th>\n",
       "      <th>text</th>\n",
       "      <th>event_type</th>\n",
       "      <th>event_type2</th>\n",
       "      <th>side</th>\n",
       "      <th>event_team</th>\n",
       "      <th>opponent</th>\n",
       "      <th>player</th>\n",
       "      <th>...</th>\n",
       "      <th>link_odsp</th>\n",
       "      <th>adv_stats</th>\n",
       "      <th>date</th>\n",
       "      <th>league</th>\n",
       "      <th>season</th>\n",
       "      <th>country</th>\n",
       "      <th>ht</th>\n",
       "      <th>at</th>\n",
       "      <th>fthg</th>\n",
       "      <th>ftag</th>\n",
       "    </tr>\n",
       "  </thead>\n",
       "  <tbody>\n",
       "  </tbody>\n",
       "</table>\n",
       "<p>0 rows × 28 columns</p>\n",
       "</div>"
      ],
      "text/plain": [
       "Empty DataFrame\n",
       "Columns: [id_odsp, id_event, sort_order, text, event_type, event_type2, side, event_team, opponent, player, player2, shot_place, shot_outcome, is_goal, location, bodypart, assist_method, situation, link_odsp, adv_stats, date, league, season, country, ht, at, fthg, ftag]\n",
       "Index: []\n",
       "\n",
       "[0 rows x 28 columns]"
      ]
     },
     "execution_count": 95,
     "metadata": {},
     "output_type": "execute_result"
    }
   ],
   "source": [
    "gols[(gols['season'] == 2013) & (gols['league'] == inglesa)]"
   ]
  },
  {
   "cell_type": "markdown",
   "metadata": {},
   "source": [
    "#### Devido a falta de informações do campeonato inglês das temporadas de 2012 e 2013, decidi retirar da análise geral com os outros campeonatos. "
   ]
  },
  {
   "cell_type": "code",
   "execution_count": 96,
   "metadata": {
    "collapsed": true
   },
   "outputs": [],
   "source": [
    "gols.drop(gols[(gols.league == inglesa)].index, inplace = True)  ## (inplace = True) Substitui o dataframe pela saída do método"
   ]
  },
  {
   "cell_type": "markdown",
   "metadata": {
    "collapsed": true
   },
   "source": [
    "## Agrupando os dados por time e temporada"
   ]
  },
  {
   "cell_type": "code",
   "execution_count": 97,
   "metadata": {
    "collapsed": true
   },
   "outputs": [],
   "source": [
    "##Agrupando o quantitativo de gols de cada time por temporada\n",
    "gols_temporada = gols.groupby(['event_team', 'season']).count()\n",
    "\n",
    "gols_temp_geral = gols_temporada = gols.groupby(['event_team']).count()"
   ]
  },
  {
   "cell_type": "markdown",
   "metadata": {},
   "source": [
    "### Exibindo os gols de cada time por temporada"
   ]
  },
  {
   "cell_type": "code",
   "execution_count": 98,
   "metadata": {},
   "outputs": [
    {
     "data": {
      "text/html": [
       "<div>\n",
       "<style>\n",
       "    .dataframe thead tr:only-child th {\n",
       "        text-align: right;\n",
       "    }\n",
       "\n",
       "    .dataframe thead th {\n",
       "        text-align: left;\n",
       "    }\n",
       "\n",
       "    .dataframe tbody tr th {\n",
       "        vertical-align: top;\n",
       "    }\n",
       "</style>\n",
       "<table border=\"1\" class=\"dataframe\">\n",
       "  <thead>\n",
       "    <tr style=\"text-align: right;\">\n",
       "      <th></th>\n",
       "      <th>id_odsp</th>\n",
       "      <th>id_event</th>\n",
       "      <th>sort_order</th>\n",
       "      <th>text</th>\n",
       "      <th>event_type</th>\n",
       "      <th>event_type2</th>\n",
       "      <th>side</th>\n",
       "      <th>opponent</th>\n",
       "      <th>player</th>\n",
       "      <th>player2</th>\n",
       "      <th>...</th>\n",
       "      <th>link_odsp</th>\n",
       "      <th>adv_stats</th>\n",
       "      <th>date</th>\n",
       "      <th>league</th>\n",
       "      <th>season</th>\n",
       "      <th>country</th>\n",
       "      <th>ht</th>\n",
       "      <th>at</th>\n",
       "      <th>fthg</th>\n",
       "      <th>ftag</th>\n",
       "    </tr>\n",
       "    <tr>\n",
       "      <th>event_team</th>\n",
       "      <th></th>\n",
       "      <th></th>\n",
       "      <th></th>\n",
       "      <th></th>\n",
       "      <th></th>\n",
       "      <th></th>\n",
       "      <th></th>\n",
       "      <th></th>\n",
       "      <th></th>\n",
       "      <th></th>\n",
       "      <th></th>\n",
       "      <th></th>\n",
       "      <th></th>\n",
       "      <th></th>\n",
       "      <th></th>\n",
       "      <th></th>\n",
       "      <th></th>\n",
       "      <th></th>\n",
       "      <th></th>\n",
       "      <th></th>\n",
       "      <th></th>\n",
       "    </tr>\n",
       "  </thead>\n",
       "  <tbody>\n",
       "    <tr>\n",
       "      <th>AC Ajaccio</th>\n",
       "      <td>110</td>\n",
       "      <td>110</td>\n",
       "      <td>110</td>\n",
       "      <td>110</td>\n",
       "      <td>110</td>\n",
       "      <td>76</td>\n",
       "      <td>110</td>\n",
       "      <td>110</td>\n",
       "      <td>110</td>\n",
       "      <td>76</td>\n",
       "      <td>...</td>\n",
       "      <td>110</td>\n",
       "      <td>110</td>\n",
       "      <td>110</td>\n",
       "      <td>110</td>\n",
       "      <td>110</td>\n",
       "      <td>110</td>\n",
       "      <td>110</td>\n",
       "      <td>110</td>\n",
       "      <td>110</td>\n",
       "      <td>110</td>\n",
       "    </tr>\n",
       "    <tr>\n",
       "      <th>AC Milan</th>\n",
       "      <td>320</td>\n",
       "      <td>320</td>\n",
       "      <td>320</td>\n",
       "      <td>320</td>\n",
       "      <td>320</td>\n",
       "      <td>203</td>\n",
       "      <td>320</td>\n",
       "      <td>320</td>\n",
       "      <td>320</td>\n",
       "      <td>201</td>\n",
       "      <td>...</td>\n",
       "      <td>320</td>\n",
       "      <td>320</td>\n",
       "      <td>320</td>\n",
       "      <td>320</td>\n",
       "      <td>320</td>\n",
       "      <td>320</td>\n",
       "      <td>320</td>\n",
       "      <td>320</td>\n",
       "      <td>320</td>\n",
       "      <td>320</td>\n",
       "    </tr>\n",
       "    <tr>\n",
       "      <th>AJ Auxerre</th>\n",
       "      <td>46</td>\n",
       "      <td>46</td>\n",
       "      <td>46</td>\n",
       "      <td>46</td>\n",
       "      <td>46</td>\n",
       "      <td>29</td>\n",
       "      <td>46</td>\n",
       "      <td>46</td>\n",
       "      <td>46</td>\n",
       "      <td>29</td>\n",
       "      <td>...</td>\n",
       "      <td>46</td>\n",
       "      <td>46</td>\n",
       "      <td>46</td>\n",
       "      <td>46</td>\n",
       "      <td>46</td>\n",
       "      <td>46</td>\n",
       "      <td>46</td>\n",
       "      <td>46</td>\n",
       "      <td>46</td>\n",
       "      <td>46</td>\n",
       "    </tr>\n",
       "    <tr>\n",
       "      <th>AS Monaco</th>\n",
       "      <td>228</td>\n",
       "      <td>228</td>\n",
       "      <td>228</td>\n",
       "      <td>228</td>\n",
       "      <td>228</td>\n",
       "      <td>149</td>\n",
       "      <td>228</td>\n",
       "      <td>228</td>\n",
       "      <td>228</td>\n",
       "      <td>147</td>\n",
       "      <td>...</td>\n",
       "      <td>228</td>\n",
       "      <td>228</td>\n",
       "      <td>228</td>\n",
       "      <td>228</td>\n",
       "      <td>228</td>\n",
       "      <td>228</td>\n",
       "      <td>228</td>\n",
       "      <td>228</td>\n",
       "      <td>228</td>\n",
       "      <td>228</td>\n",
       "    </tr>\n",
       "    <tr>\n",
       "      <th>AS Nancy Lorraine</th>\n",
       "      <td>87</td>\n",
       "      <td>87</td>\n",
       "      <td>87</td>\n",
       "      <td>87</td>\n",
       "      <td>87</td>\n",
       "      <td>63</td>\n",
       "      <td>87</td>\n",
       "      <td>87</td>\n",
       "      <td>87</td>\n",
       "      <td>63</td>\n",
       "      <td>...</td>\n",
       "      <td>87</td>\n",
       "      <td>87</td>\n",
       "      <td>87</td>\n",
       "      <td>87</td>\n",
       "      <td>87</td>\n",
       "      <td>87</td>\n",
       "      <td>87</td>\n",
       "      <td>87</td>\n",
       "      <td>87</td>\n",
       "      <td>87</td>\n",
       "    </tr>\n",
       "  </tbody>\n",
       "</table>\n",
       "<p>5 rows × 27 columns</p>\n",
       "</div>"
      ],
      "text/plain": [
       "                   id_odsp  id_event  sort_order  text  event_type  \\\n",
       "event_team                                                           \n",
       "AC Ajaccio             110       110         110   110         110   \n",
       "AC Milan               320       320         320   320         320   \n",
       "AJ Auxerre              46        46          46    46          46   \n",
       "AS Monaco              228       228         228   228         228   \n",
       "AS Nancy Lorraine       87        87          87    87          87   \n",
       "\n",
       "                   event_type2  side  opponent  player  player2  ...   \\\n",
       "event_team                                                       ...    \n",
       "AC Ajaccio                  76   110       110     110       76  ...    \n",
       "AC Milan                   203   320       320     320      201  ...    \n",
       "AJ Auxerre                  29    46        46      46       29  ...    \n",
       "AS Monaco                  149   228       228     228      147  ...    \n",
       "AS Nancy Lorraine           63    87        87      87       63  ...    \n",
       "\n",
       "                   link_odsp  adv_stats  date  league  season  country   ht  \\\n",
       "event_team                                                                    \n",
       "AC Ajaccio               110        110   110     110     110      110  110   \n",
       "AC Milan                 320        320   320     320     320      320  320   \n",
       "AJ Auxerre                46         46    46      46      46       46   46   \n",
       "AS Monaco                228        228   228     228     228      228  228   \n",
       "AS Nancy Lorraine         87         87    87      87      87       87   87   \n",
       "\n",
       "                    at  fthg  ftag  \n",
       "event_team                          \n",
       "AC Ajaccio         110   110   110  \n",
       "AC Milan           320   320   320  \n",
       "AJ Auxerre          46    46    46  \n",
       "AS Monaco          228   228   228  \n",
       "AS Nancy Lorraine   87    87    87  \n",
       "\n",
       "[5 rows x 27 columns]"
      ]
     },
     "execution_count": 98,
     "metadata": {},
     "output_type": "execute_result"
    }
   ],
   "source": [
    "gols_temporada.head()"
   ]
  },
  {
   "cell_type": "markdown",
   "metadata": {},
   "source": [
    "## Reazlizando uma junção dos dataframes"
   ]
  },
  {
   "cell_type": "code",
   "execution_count": 99,
   "metadata": {
    "collapsed": true
   },
   "outputs": [],
   "source": [
    "##Agrupando o quantitativo de gols de cada time por temporada\n",
    "df_tentativas_temporada = pd.merge(df_tentativas, df_dados_partida, how='inner', on=['id_odsp', 'id_odsp'])"
   ]
  },
  {
   "cell_type": "markdown",
   "metadata": {},
   "source": [
    "##### Removendo as tentativas do campeonato Inglês"
   ]
  },
  {
   "cell_type": "code",
   "execution_count": 100,
   "metadata": {
    "collapsed": true
   },
   "outputs": [],
   "source": [
    "df_tentativas_temporada.drop(df_tentativas_temporada[(df_tentativas_temporada.league == inglesa)].index, inplace = True)"
   ]
  },
  {
   "cell_type": "markdown",
   "metadata": {},
   "source": [
    "#### Separando 2 dataframes, um agrupado por clube e outro por clube e emporada"
   ]
  },
  {
   "cell_type": "code",
   "execution_count": 101,
   "metadata": {
    "collapsed": true
   },
   "outputs": [],
   "source": [
    "tentativas_temporada = df_tentativas_temporada.groupby(['event_team', 'season']).count()\n",
    "\n",
    "tentativas_temp_geral = df_tentativas_temporada.groupby(['event_team']).count()"
   ]
  },
  {
   "cell_type": "code",
   "execution_count": 102,
   "metadata": {},
   "outputs": [
    {
     "data": {
      "text/html": [
       "<div>\n",
       "<style>\n",
       "    .dataframe thead tr:only-child th {\n",
       "        text-align: right;\n",
       "    }\n",
       "\n",
       "    .dataframe thead th {\n",
       "        text-align: left;\n",
       "    }\n",
       "\n",
       "    .dataframe tbody tr th {\n",
       "        vertical-align: top;\n",
       "    }\n",
       "</style>\n",
       "<table border=\"1\" class=\"dataframe\">\n",
       "  <thead>\n",
       "    <tr style=\"text-align: right;\">\n",
       "      <th></th>\n",
       "      <th>id_odsp</th>\n",
       "      <th>id_event</th>\n",
       "      <th>sort_order</th>\n",
       "      <th>text</th>\n",
       "      <th>event_type</th>\n",
       "      <th>event_type2</th>\n",
       "      <th>side</th>\n",
       "      <th>opponent</th>\n",
       "      <th>player</th>\n",
       "      <th>player2</th>\n",
       "      <th>...</th>\n",
       "      <th>link_odsp</th>\n",
       "      <th>adv_stats</th>\n",
       "      <th>date</th>\n",
       "      <th>league</th>\n",
       "      <th>season</th>\n",
       "      <th>country</th>\n",
       "      <th>ht</th>\n",
       "      <th>at</th>\n",
       "      <th>fthg</th>\n",
       "      <th>ftag</th>\n",
       "    </tr>\n",
       "    <tr>\n",
       "      <th>event_team</th>\n",
       "      <th></th>\n",
       "      <th></th>\n",
       "      <th></th>\n",
       "      <th></th>\n",
       "      <th></th>\n",
       "      <th></th>\n",
       "      <th></th>\n",
       "      <th></th>\n",
       "      <th></th>\n",
       "      <th></th>\n",
       "      <th></th>\n",
       "      <th></th>\n",
       "      <th></th>\n",
       "      <th></th>\n",
       "      <th></th>\n",
       "      <th></th>\n",
       "      <th></th>\n",
       "      <th></th>\n",
       "      <th></th>\n",
       "      <th></th>\n",
       "      <th></th>\n",
       "    </tr>\n",
       "  </thead>\n",
       "  <tbody>\n",
       "    <tr>\n",
       "      <th>AC Ajaccio</th>\n",
       "      <td>1106</td>\n",
       "      <td>1106</td>\n",
       "      <td>1106</td>\n",
       "      <td>1106</td>\n",
       "      <td>1106</td>\n",
       "      <td>766</td>\n",
       "      <td>1106</td>\n",
       "      <td>1106</td>\n",
       "      <td>1106</td>\n",
       "      <td>762</td>\n",
       "      <td>...</td>\n",
       "      <td>1106</td>\n",
       "      <td>1106</td>\n",
       "      <td>1106</td>\n",
       "      <td>1106</td>\n",
       "      <td>1106</td>\n",
       "      <td>1106</td>\n",
       "      <td>1106</td>\n",
       "      <td>1106</td>\n",
       "      <td>1106</td>\n",
       "      <td>1106</td>\n",
       "    </tr>\n",
       "    <tr>\n",
       "      <th>AC Milan</th>\n",
       "      <td>3065</td>\n",
       "      <td>3065</td>\n",
       "      <td>3065</td>\n",
       "      <td>3065</td>\n",
       "      <td>3065</td>\n",
       "      <td>2211</td>\n",
       "      <td>3065</td>\n",
       "      <td>3065</td>\n",
       "      <td>3065</td>\n",
       "      <td>2200</td>\n",
       "      <td>...</td>\n",
       "      <td>3065</td>\n",
       "      <td>3065</td>\n",
       "      <td>3065</td>\n",
       "      <td>3065</td>\n",
       "      <td>3065</td>\n",
       "      <td>3065</td>\n",
       "      <td>3065</td>\n",
       "      <td>3065</td>\n",
       "      <td>3065</td>\n",
       "      <td>3065</td>\n",
       "    </tr>\n",
       "    <tr>\n",
       "      <th>AJ Auxerre</th>\n",
       "      <td>446</td>\n",
       "      <td>446</td>\n",
       "      <td>446</td>\n",
       "      <td>446</td>\n",
       "      <td>446</td>\n",
       "      <td>302</td>\n",
       "      <td>446</td>\n",
       "      <td>446</td>\n",
       "      <td>446</td>\n",
       "      <td>302</td>\n",
       "      <td>...</td>\n",
       "      <td>446</td>\n",
       "      <td>446</td>\n",
       "      <td>446</td>\n",
       "      <td>446</td>\n",
       "      <td>446</td>\n",
       "      <td>446</td>\n",
       "      <td>446</td>\n",
       "      <td>446</td>\n",
       "      <td>446</td>\n",
       "      <td>446</td>\n",
       "    </tr>\n",
       "    <tr>\n",
       "      <th>AS Monaco</th>\n",
       "      <td>1665</td>\n",
       "      <td>1665</td>\n",
       "      <td>1665</td>\n",
       "      <td>1665</td>\n",
       "      <td>1665</td>\n",
       "      <td>1226</td>\n",
       "      <td>1665</td>\n",
       "      <td>1665</td>\n",
       "      <td>1665</td>\n",
       "      <td>1219</td>\n",
       "      <td>...</td>\n",
       "      <td>1665</td>\n",
       "      <td>1665</td>\n",
       "      <td>1665</td>\n",
       "      <td>1665</td>\n",
       "      <td>1665</td>\n",
       "      <td>1665</td>\n",
       "      <td>1665</td>\n",
       "      <td>1665</td>\n",
       "      <td>1665</td>\n",
       "      <td>1665</td>\n",
       "    </tr>\n",
       "    <tr>\n",
       "      <th>AS Nancy Lorraine</th>\n",
       "      <td>1058</td>\n",
       "      <td>1058</td>\n",
       "      <td>1058</td>\n",
       "      <td>1058</td>\n",
       "      <td>1058</td>\n",
       "      <td>792</td>\n",
       "      <td>1058</td>\n",
       "      <td>1058</td>\n",
       "      <td>1058</td>\n",
       "      <td>789</td>\n",
       "      <td>...</td>\n",
       "      <td>1058</td>\n",
       "      <td>1058</td>\n",
       "      <td>1058</td>\n",
       "      <td>1058</td>\n",
       "      <td>1058</td>\n",
       "      <td>1058</td>\n",
       "      <td>1058</td>\n",
       "      <td>1058</td>\n",
       "      <td>1058</td>\n",
       "      <td>1058</td>\n",
       "    </tr>\n",
       "  </tbody>\n",
       "</table>\n",
       "<p>5 rows × 27 columns</p>\n",
       "</div>"
      ],
      "text/plain": [
       "                   id_odsp  id_event  sort_order  text  event_type  \\\n",
       "event_team                                                           \n",
       "AC Ajaccio            1106      1106        1106  1106        1106   \n",
       "AC Milan              3065      3065        3065  3065        3065   \n",
       "AJ Auxerre             446       446         446   446         446   \n",
       "AS Monaco             1665      1665        1665  1665        1665   \n",
       "AS Nancy Lorraine     1058      1058        1058  1058        1058   \n",
       "\n",
       "                   event_type2  side  opponent  player  player2  ...   \\\n",
       "event_team                                                       ...    \n",
       "AC Ajaccio                 766  1106      1106    1106      762  ...    \n",
       "AC Milan                  2211  3065      3065    3065     2200  ...    \n",
       "AJ Auxerre                 302   446       446     446      302  ...    \n",
       "AS Monaco                 1226  1665      1665    1665     1219  ...    \n",
       "AS Nancy Lorraine          792  1058      1058    1058      789  ...    \n",
       "\n",
       "                   link_odsp  adv_stats  date  league  season  country    ht  \\\n",
       "event_team                                                                     \n",
       "AC Ajaccio              1106       1106  1106    1106    1106     1106  1106   \n",
       "AC Milan                3065       3065  3065    3065    3065     3065  3065   \n",
       "AJ Auxerre               446        446   446     446     446      446   446   \n",
       "AS Monaco               1665       1665  1665    1665    1665     1665  1665   \n",
       "AS Nancy Lorraine       1058       1058  1058    1058    1058     1058  1058   \n",
       "\n",
       "                     at  fthg  ftag  \n",
       "event_team                           \n",
       "AC Ajaccio         1106  1106  1106  \n",
       "AC Milan           3065  3065  3065  \n",
       "AJ Auxerre          446   446   446  \n",
       "AS Monaco          1665  1665  1665  \n",
       "AS Nancy Lorraine  1058  1058  1058  \n",
       "\n",
       "[5 rows x 27 columns]"
      ]
     },
     "execution_count": 102,
     "metadata": {},
     "output_type": "execute_result"
    }
   ],
   "source": [
    "tentativas_temp_geral.head()"
   ]
  },
  {
   "cell_type": "markdown",
   "metadata": {},
   "source": [
    "#### Medindo a eficiencia por clube e temporada"
   ]
  },
  {
   "cell_type": "code",
   "execution_count": 103,
   "metadata": {
    "collapsed": true
   },
   "outputs": [],
   "source": [
    "eficiencia = (gols_temporada['id_event']/tentativas_temporada['id_event']) ##Questionar ao professor"
   ]
  },
  {
   "cell_type": "code",
   "execution_count": 104,
   "metadata": {},
   "outputs": [
    {
     "data": {
      "text/plain": [
       "event_team  season\n",
       "AC Ajaccio  2012      0.310734\n",
       "            2013      0.273632\n",
       "            2014      0.314286\n",
       "AC Milan    2012      0.573477\n",
       "            2013      0.501567\n",
       "Name: id_event, dtype: float64"
      ]
     },
     "execution_count": 104,
     "metadata": {},
     "output_type": "execute_result"
    }
   ],
   "source": [
    "eficiencia.head()"
   ]
  },
  {
   "cell_type": "markdown",
   "metadata": {},
   "source": [
    "#### Medindo a eficiencia geral por clube"
   ]
  },
  {
   "cell_type": "code",
   "execution_count": 105,
   "metadata": {
    "collapsed": true
   },
   "outputs": [],
   "source": [
    "eficiencia_geral = (gols_temporada['id_event']/tentativas_temp_geral['id_event'])"
   ]
  },
  {
   "cell_type": "code",
   "execution_count": 106,
   "metadata": {},
   "outputs": [
    {
     "data": {
      "text/plain": [
       "event_team\n",
       "AC Ajaccio           0.099458\n",
       "AC Milan             0.104405\n",
       "AJ Auxerre           0.103139\n",
       "AS Monaco            0.136937\n",
       "AS Nancy Lorraine    0.082231\n",
       "Name: id_event, dtype: float64"
      ]
     },
     "execution_count": 106,
     "metadata": {},
     "output_type": "execute_result"
    }
   ],
   "source": [
    "eficiencia_geral.head()"
   ]
  },
  {
   "cell_type": "markdown",
   "metadata": {},
   "source": [
    "#### Convertendo os objetos de Series para Frames, para poder utilizar os métodos da biblioteca matplotlib"
   ]
  },
  {
   "cell_type": "code",
   "execution_count": 107,
   "metadata": {
    "collapsed": true
   },
   "outputs": [],
   "source": [
    "df_eficiencia_geral = eficiencia_geral.to_frame()"
   ]
  },
  {
   "cell_type": "code",
   "execution_count": 108,
   "metadata": {},
   "outputs": [
    {
     "data": {
      "text/plain": [
       "Index(['id_event'], dtype='object')"
      ]
     },
     "execution_count": 108,
     "metadata": {},
     "output_type": "execute_result"
    }
   ],
   "source": [
    "df_eficiencia_geral.columns"
   ]
  },
  {
   "cell_type": "code",
   "execution_count": 109,
   "metadata": {
    "collapsed": true
   },
   "outputs": [],
   "source": [
    "df_eficiencia = eficiencia.to_frame()"
   ]
  },
  {
   "cell_type": "markdown",
   "metadata": {},
   "source": [
    "#### Dados gerais do DataFrame de eficiencia geral"
   ]
  },
  {
   "cell_type": "code",
   "execution_count": 110,
   "metadata": {},
   "outputs": [
    {
     "data": {
      "text/html": [
       "<div>\n",
       "<style>\n",
       "    .dataframe thead tr:only-child th {\n",
       "        text-align: right;\n",
       "    }\n",
       "\n",
       "    .dataframe thead th {\n",
       "        text-align: left;\n",
       "    }\n",
       "\n",
       "    .dataframe tbody tr th {\n",
       "        vertical-align: top;\n",
       "    }\n",
       "</style>\n",
       "<table border=\"1\" class=\"dataframe\">\n",
       "  <thead>\n",
       "    <tr style=\"text-align: right;\">\n",
       "      <th></th>\n",
       "      <th>id_event</th>\n",
       "    </tr>\n",
       "  </thead>\n",
       "  <tbody>\n",
       "    <tr>\n",
       "      <th>count</th>\n",
       "      <td>116.000000</td>\n",
       "    </tr>\n",
       "    <tr>\n",
       "      <th>mean</th>\n",
       "      <td>0.097970</td>\n",
       "    </tr>\n",
       "    <tr>\n",
       "      <th>std</th>\n",
       "      <td>0.019987</td>\n",
       "    </tr>\n",
       "    <tr>\n",
       "      <th>min</th>\n",
       "      <td>0.046341</td>\n",
       "    </tr>\n",
       "    <tr>\n",
       "      <th>25%</th>\n",
       "      <td>0.084944</td>\n",
       "    </tr>\n",
       "    <tr>\n",
       "      <th>50%</th>\n",
       "      <td>0.099255</td>\n",
       "    </tr>\n",
       "    <tr>\n",
       "      <th>75%</th>\n",
       "      <td>0.107677</td>\n",
       "    </tr>\n",
       "    <tr>\n",
       "      <th>max</th>\n",
       "      <td>0.177219</td>\n",
       "    </tr>\n",
       "  </tbody>\n",
       "</table>\n",
       "</div>"
      ],
      "text/plain": [
       "         id_event\n",
       "count  116.000000\n",
       "mean     0.097970\n",
       "std      0.019987\n",
       "min      0.046341\n",
       "25%      0.084944\n",
       "50%      0.099255\n",
       "75%      0.107677\n",
       "max      0.177219"
      ]
     },
     "execution_count": 110,
     "metadata": {},
     "output_type": "execute_result"
    }
   ],
   "source": [
    "df_eficiencia_geral.describe()"
   ]
  },
  {
   "cell_type": "markdown",
   "metadata": {},
   "source": [
    "#### Reduzindo os dados por meio do histograma de eficiencia geral dos campeonatos"
   ]
  },
  {
   "cell_type": "code",
   "execution_count": 111,
   "metadata": {},
   "outputs": [
    {
     "data": {
      "image/png": "[encoded data removed]",
      "text/plain": [
       "<matplotlib.figure.Figure at 0x22dc43bc0b8>"
      ]
     },
     "metadata": {},
     "output_type": "display_data"
    }
   ],
   "source": [
    "plt.title(\"Histograma de Eficiência de Finalizações\")\n",
    "plt.xlabel('Eficiência')\n",
    "plt.ylabel('Frequência')\n",
    "\n",
    "hist_eficiencia = plt.hist(df_eficiencia_geral['id_event'], facecolor=\"green\", bins = 50)\n"
   ]
  },
  {
   "cell_type": "code",
   "execution_count": 112,
   "metadata": {
    "collapsed": true
   },
   "outputs": [],
   "source": [
    "plt.show()"
   ]
  },
  {
   "cell_type": "code",
   "execution_count": 113,
   "metadata": {},
   "outputs": [
    {
     "data": {
      "text/plain": [
       "<matplotlib.axes._subplots.AxesSubplot at 0x22dac295cf8>"
      ]
     },
     "execution_count": 113,
     "metadata": {},
     "output_type": "execute_result"
    },
    {
     "data": {
      "image/png": "[encoded data removed]",
      "text/plain": [
       "<matplotlib.figure.Figure at 0x22dc43bc1d0>"
      ]
     },
     "metadata": {},
     "output_type": "display_data"
    }
   ],
   "source": [
    "df_eficiencia_geral.boxplot(column='id_event')"
   ]
  },
  {
   "cell_type": "code",
   "execution_count": 114,
   "metadata": {
    "collapsed": true
   },
   "outputs": [],
   "source": [
    "dfe = eficiencia_geral.to_frame()"
   ]
  },
  {
   "cell_type": "markdown",
   "metadata": {},
   "source": [
    "#### Time com maior eficiência"
   ]
  },
  {
   "cell_type": "code",
   "execution_count": 115,
   "metadata": {},
   "outputs": [
    {
     "data": {
      "text/html": [
       "<div>\n",
       "<style>\n",
       "    .dataframe thead tr:only-child th {\n",
       "        text-align: right;\n",
       "    }\n",
       "\n",
       "    .dataframe thead th {\n",
       "        text-align: left;\n",
       "    }\n",
       "\n",
       "    .dataframe tbody tr th {\n",
       "        vertical-align: top;\n",
       "    }\n",
       "</style>\n",
       "<table border=\"1\" class=\"dataframe\">\n",
       "  <thead>\n",
       "    <tr style=\"text-align: right;\">\n",
       "      <th></th>\n",
       "      <th>id_event</th>\n",
       "    </tr>\n",
       "    <tr>\n",
       "      <th>event_team</th>\n",
       "      <th></th>\n",
       "    </tr>\n",
       "  </thead>\n",
       "  <tbody>\n",
       "    <tr>\n",
       "      <th>Barcelona</th>\n",
       "      <td>0.177219</td>\n",
       "    </tr>\n",
       "  </tbody>\n",
       "</table>\n",
       "</div>"
      ],
      "text/plain": [
       "            id_event\n",
       "event_team          \n",
       "Barcelona   0.177219"
      ]
     },
     "execution_count": 115,
     "metadata": {},
     "output_type": "execute_result"
    }
   ],
   "source": [
    "dfe[(dfe['id_event'] == dfe['id_event'].max() )]\n"
   ]
  },
  {
   "cell_type": "markdown",
   "metadata": {},
   "source": [
    "#### Time com menor eficiência"
   ]
  },
  {
   "cell_type": "code",
   "execution_count": 116,
   "metadata": {},
   "outputs": [
    {
     "data": {
      "text/html": [
       "<div>\n",
       "<style>\n",
       "    .dataframe thead tr:only-child th {\n",
       "        text-align: right;\n",
       "    }\n",
       "\n",
       "    .dataframe thead th {\n",
       "        text-align: left;\n",
       "    }\n",
       "\n",
       "    .dataframe tbody tr th {\n",
       "        vertical-align: top;\n",
       "    }\n",
       "</style>\n",
       "<table border=\"1\" class=\"dataframe\">\n",
       "  <thead>\n",
       "    <tr style=\"text-align: right;\">\n",
       "      <th></th>\n",
       "      <th>id_event</th>\n",
       "    </tr>\n",
       "    <tr>\n",
       "      <th>event_team</th>\n",
       "      <th></th>\n",
       "    </tr>\n",
       "  </thead>\n",
       "  <tbody>\n",
       "    <tr>\n",
       "      <th>Kaiserslautern</th>\n",
       "      <td>0.046341</td>\n",
       "    </tr>\n",
       "  </tbody>\n",
       "</table>\n",
       "</div>"
      ],
      "text/plain": [
       "                id_event\n",
       "event_team              \n",
       "Kaiserslautern  0.046341"
      ]
     },
     "execution_count": 116,
     "metadata": {},
     "output_type": "execute_result"
    }
   ],
   "source": [
    "dfe[(dfe['id_event'] == dfe['id_event'].min() )]"
   ]
  },
  {
   "cell_type": "markdown",
   "metadata": {},
   "source": [
    "##### Percebe-se que um dos prováveis motivos de o Barcelona ser um dos melhores clubes do mundo pode estar diretamente relacionado ao alto índice de precisão em finalizações, acima da média dos demais clubes, sendo visto como outlier, conseguindo marcar 2 gols a cada 10 finalizações, em um quantitativo de 5 temporadas."
   ]
  },
  {
   "cell_type": "code",
   "execution_count": null,
   "metadata": {
    "collapsed": true
   },
   "outputs": [],
   "source": []
  },
  {
   "cell_type": "markdown",
   "metadata": {},
   "source": [
    "# 2.\tQUAIS LIGAS TEM OS JOGOS MAIS VIOLENTOS?\n"
   ]
  },
  {
   "cell_type": "code",
   "execution_count": null,
   "metadata": {
    "collapsed": true
   },
   "outputs": [],
   "source": []
  },
  {
   "cell_type": "code",
   "execution_count": 117,
   "metadata": {
    "collapsed": true
   },
   "outputs": [],
   "source": [
    "falta = 3\n",
    "df_faltas = df_nova_eventos[(df_nova_eventos['event_type'] == falta)]"
   ]
  },
  {
   "cell_type": "markdown",
   "metadata": {},
   "source": [
    "#### Criando um DT associativo entre os dataframes"
   ]
  },
  {
   "cell_type": "code",
   "execution_count": 118,
   "metadata": {
    "collapsed": true
   },
   "outputs": [],
   "source": [
    "##df_ff = df_faltas[(df_faltas['id_odsp'] == 'UFot0hit/')]"
   ]
  },
  {
   "cell_type": "code",
   "execution_count": 119,
   "metadata": {
    "collapsed": true
   },
   "outputs": [],
   "source": [
    "df_faltas_union = pd.merge(df_faltas, df_dados_partida, how='inner', on=['id_odsp', 'id_odsp'])"
   ]
  },
  {
   "cell_type": "code",
   "execution_count": 120,
   "metadata": {
    "collapsed": true
   },
   "outputs": [],
   "source": [
    "df_faltas_agrupadas = df_faltas_union.groupby(['event_team'])"
   ]
  },
  {
   "cell_type": "code",
   "execution_count": 121,
   "metadata": {
    "collapsed": true
   },
   "outputs": [],
   "source": [
    " #DATAFRAMES DE FALTAS DO CAMPEONATO ALEMÃO\n",
    "df_faltas_alema_2012 = df_faltas_union[(df_faltas_union['league'] == alema) & \n",
    "                                       (df_faltas_union['season'] == 2012)]\n",
    "df_faltas_alema_2013 = df_faltas_union[(df_faltas_union['league'] == alema) & \n",
    "                                       (df_faltas_union['season'] == 2013)]\n",
    "df_faltas_alema_2014 = df_faltas_union[(df_faltas_union['league'] == alema) & \n",
    "                                       (df_faltas_union['season'] == 2014)]\n",
    "df_faltas_alema_2015 = df_faltas_union[(df_faltas_union['league'] == alema) & \n",
    "                                       (df_faltas_union['season'] == 2015)]\n",
    "df_faltas_alema_2016 = df_faltas_union[(df_faltas_union['league'] == alema) & \n",
    "                                       (df_faltas_union['season'] == 2016)]\n",
    "\n",
    "#DATAFRAMES DE FALTAS DO CAMPEONATO INGLES\n",
    "df_faltas_inglesa_2012 = df_faltas_union[(df_faltas_union['league'] == inglesa) & \n",
    "                                       (df_faltas_union['season'] == 2012)]\n",
    "df_faltas_inglesa_2013 = df_faltas_union[(df_faltas_union['league'] == inglesa) & \n",
    "                                       (df_faltas_union['season'] == 2013)]\n",
    "df_faltas_inglesa_2014 = df_faltas_union[(df_faltas_union['league'] == inglesa) & \n",
    "                                       (df_faltas_union['season'] == 2014)]\n",
    "df_faltas_inglesa_2015 = df_faltas_union[(df_faltas_union['league'] == inglesa) & \n",
    "                                       (df_faltas_union['season'] == 2015)]\n",
    "df_faltas_inglesa_2016 = df_faltas_union[(df_faltas_union['league'] == inglesa) & \n",
    "                                       (df_faltas_union['season'] == 2016)]\n",
    "    \n",
    "#DATAFRAMES DE FALTAS DO CAMPEONATO ESPANHOL\n",
    "df_faltas_espanhola_2012 = df_faltas_union[(df_faltas_union['league'] == espanhola) & \n",
    "                                       (df_faltas_union['season'] == 2012)]\n",
    "df_faltas_espanhola_2013 = df_faltas_union[(df_faltas_union['league'] == espanhola) & \n",
    "                                       (df_faltas_union['season'] == 2013)]\n",
    "df_faltas_espanhola_2014 = df_faltas_union[(df_faltas_union['league'] == espanhola) & \n",
    "                                       (df_faltas_union['season'] == 2014)]\n",
    "df_faltas_espanhola_2015 = df_faltas_union[(df_faltas_union['league'] == espanhola) & \n",
    "                                       (df_faltas_union['season'] == 2015)]\n",
    "df_faltas_espanhola_2016 = df_faltas_union[(df_faltas_union['league'] == espanhola) & \n",
    "                                       (df_faltas_union['season'] == 2016)]\n",
    "\n",
    "#DATAFRAMES DE FALTAS DO CAMPEONATO ITALIANO  \n",
    "df_faltas_italiana_2012 = df_faltas_union[(df_faltas_union['league'] == italiana) & \n",
    "                                       (df_faltas_union['season'] == 2012)]\n",
    "df_faltas_italiana_2013 = df_faltas_union[(df_faltas_union['league'] == italiana) & \n",
    "                                       (df_faltas_union['season'] == 2013)]\n",
    "df_faltas_italiana_2014 = df_faltas_union[(df_faltas_union['league'] == italiana) & \n",
    "                                       (df_faltas_union['season'] == 2014)]\n",
    "df_faltas_italiana_2015 = df_faltas_union[(df_faltas_union['league'] == italiana) & \n",
    "                                       (df_faltas_union['season'] == 2015)]\n",
    "df_faltas_italiana_2016 = df_faltas_union[(df_faltas_union['league'] == italiana) & \n",
    "                                       (df_faltas_union['season'] == 2016)]\n",
    "    \n",
    "#DATAFRAMES DE FALTAS DO CAMPEONATO FRANCES\n",
    "df_faltas_francesa_2012 = df_faltas_union[(df_faltas_union['league'] == francesa) & \n",
    "                                       (df_faltas_union['season'] == 2012)]\n",
    "df_faltas_francesa_2013 = df_faltas_union[(df_faltas_union['league'] == francesa) & \n",
    "                                       (df_faltas_union['season'] == 2013)]\n",
    "df_faltas_francesa_2014 = df_faltas_union[(df_faltas_union['league'] == francesa) & \n",
    "                                       (df_faltas_union['season'] == 2014)]\n",
    "df_faltas_francesa_2015 = df_faltas_union[(df_faltas_union['league'] == francesa) & \n",
    "                                       (df_faltas_union['season'] == 2015)]\n",
    "df_faltas_francesa_2016 = df_faltas_union[(df_faltas_union['league'] == francesa) & \n",
    "                                       (df_faltas_union['season'] == 2016)]"
   ]
  },
  {
   "cell_type": "markdown",
   "metadata": {},
   "source": [
    "#### Contando as partidas do campeonato alemão"
   ]
  },
  {
   "cell_type": "code",
   "execution_count": 122,
   "metadata": {
    "collapsed": true
   },
   "outputs": [],
   "source": [
    "df_partidas_alema_2012 = df_dados_partida[(df_dados_partida['league'] == alema) & (df_dados_partida['season'] == 2012)]\n",
    "df_partidas_alema_2013 = df_dados_partida[(df_dados_partida['league'] == alema) & (df_dados_partida['season'] == 2013)]\n",
    "df_partidas_alema_2014 = df_dados_partida[(df_dados_partida['league'] == alema) & (df_dados_partida['season'] == 2014)]\n",
    "df_partidas_alema_2015 = df_dados_partida[(df_dados_partida['league'] == alema) & (df_dados_partida['season'] == 2015)]\n",
    "df_partidas_alema_2016 = df_dados_partida[(df_dados_partida['league'] == alema) & (df_dados_partida['season'] == 2016)]\n",
    "\n",
    "alema_league_2012 = df_partidas_alema_2012['id_odsp'].count()\n",
    "alema_league_2013 = df_partidas_alema_2012['id_odsp'].count()\n",
    "alema_league_2014 = df_partidas_alema_2012['id_odsp'].count()\n",
    "alema_league_2015 = df_partidas_alema_2012['id_odsp'].count()\n",
    "alema_league_2016 = df_partidas_alema_2012['id_odsp'].count()\n"
   ]
  },
  {
   "cell_type": "code",
   "execution_count": 123,
   "metadata": {
    "collapsed": true
   },
   "outputs": [],
   "source": [
    "indice_alema_2012 = df_faltas_alema_2012['id_odsp'].count()/alema_league_2012\n",
    "indice_alema_2013 = df_faltas_alema_2013['id_odsp'].count()/alema_league_2013\n",
    "indice_alema_2014 = df_faltas_alema_2014['id_odsp'].count()/alema_league_2014\n",
    "indice_alema_2015 = df_faltas_alema_2015['id_odsp'].count()/alema_league_2015\n",
    "indice_alema_2016 = df_faltas_alema_2016['id_odsp'].count()/alema_league_2016"
   ]
  },
  {
   "cell_type": "markdown",
   "metadata": {},
   "source": [
    "#### Contando as partidas do campeonato Inglês"
   ]
  },
  {
   "cell_type": "code",
   "execution_count": 124,
   "metadata": {
    "collapsed": true
   },
   "outputs": [],
   "source": [
    "df_partidas_inglesa_2012 = df_dados_partida[(df_dados_partida['league'] == inglesa) & (df_dados_partida['season'] == 2012)]\n",
    "df_partidas_inglesa_2013 = df_dados_partida[(df_dados_partida['league'] == inglesa) & (df_dados_partida['season'] == 2013)]\n",
    "df_partidas_inglesa_2014 = df_dados_partida[(df_dados_partida['league'] == inglesa) & (df_dados_partida['season'] == 2014)]\n",
    "df_partidas_inglesa_2015 = df_dados_partida[(df_dados_partida['league'] == inglesa) & (df_dados_partida['season'] == 2015)]\n",
    "df_partidas_inglesa_2016 = df_dados_partida[(df_dados_partida['league'] == inglesa) & (df_dados_partida['season'] == 2016)]\n",
    "\n",
    "inglesa_league_2012 = df_partidas_inglesa_2012['id_odsp'].count()\n",
    "inglesa_league_2013 = df_partidas_inglesa_2012['id_odsp'].count()\n",
    "inglesa_league_2014 = df_partidas_inglesa_2012['id_odsp'].count()\n",
    "inglesa_league_2015 = df_partidas_inglesa_2012['id_odsp'].count()\n",
    "inglesa_league_2016 = df_partidas_inglesa_2012['id_odsp'].count()"
   ]
  },
  {
   "cell_type": "code",
   "execution_count": 125,
   "metadata": {
    "collapsed": true
   },
   "outputs": [],
   "source": [
    "indice_inglesa_2012 = df_faltas_inglesa_2012['id_odsp'].count()/inglesa_league_2012\n",
    "indice_inglesa_2013 = df_faltas_inglesa_2013['id_odsp'].count()/inglesa_league_2013\n",
    "indice_inglesa_2014 = df_faltas_inglesa_2014['id_odsp'].count()/inglesa_league_2014\n",
    "indice_inglesa_2015 = df_faltas_inglesa_2015['id_odsp'].count()/inglesa_league_2015\n",
    "indice_inglesa_2016 = df_faltas_inglesa_2016['id_odsp'].count()/inglesa_league_2016"
   ]
  },
  {
   "cell_type": "markdown",
   "metadata": {},
   "source": [
    "#### Contando as partidas do campeonato Espanhol"
   ]
  },
  {
   "cell_type": "code",
   "execution_count": 126,
   "metadata": {
    "collapsed": true
   },
   "outputs": [],
   "source": [
    "df_partidas_espanhola_2012 = df_dados_partida[(df_dados_partida['league'] == espanhola) & (df_dados_partida['season'] == 2012)]\n",
    "df_partidas_espanhola_2013 = df_dados_partida[(df_dados_partida['league'] == espanhola) & (df_dados_partida['season'] == 2013)]\n",
    "df_partidas_espanhola_2014 = df_dados_partida[(df_dados_partida['league'] == espanhola) & (df_dados_partida['season'] == 2014)]\n",
    "df_partidas_espanhola_2015 = df_dados_partida[(df_dados_partida['league'] == espanhola) & (df_dados_partida['season'] == 2015)]\n",
    "df_partidas_espanhola_2016 = df_dados_partida[(df_dados_partida['league'] == espanhola) & (df_dados_partida['season'] == 2016)]\n",
    "\n",
    "espanhola_league_2012 = df_partidas_espanhola_2012['id_odsp'].count()\n",
    "espanhola_league_2013 = df_partidas_espanhola_2012['id_odsp'].count()\n",
    "espanhola_league_2014 = df_partidas_espanhola_2012['id_odsp'].count()\n",
    "espanhola_league_2015 = df_partidas_espanhola_2012['id_odsp'].count()\n",
    "espanhola_league_2016 = df_partidas_espanhola_2012['id_odsp'].count()"
   ]
  },
  {
   "cell_type": "code",
   "execution_count": 127,
   "metadata": {
    "collapsed": true
   },
   "outputs": [],
   "source": [
    "indice_espanhola_2012 = df_faltas_espanhola_2012['id_odsp'].count()/espanhola_league_2012\n",
    "indice_espanhola_2013 = df_faltas_espanhola_2013['id_odsp'].count()/espanhola_league_2013\n",
    "indice_espanhola_2014 = df_faltas_espanhola_2014['id_odsp'].count()/espanhola_league_2014\n",
    "indice_espanhola_2015 = df_faltas_espanhola_2015['id_odsp'].count()/espanhola_league_2015\n",
    "indice_espanhola_2016 = df_faltas_espanhola_2016['id_odsp'].count()/espanhola_league_2016"
   ]
  },
  {
   "cell_type": "markdown",
   "metadata": {},
   "source": [
    "#### Contando partidas do campeonato Italiano"
   ]
  },
  {
   "cell_type": "code",
   "execution_count": 128,
   "metadata": {
    "collapsed": true
   },
   "outputs": [],
   "source": [
    "df_partidas_italiana_2012 = df_dados_partida[(df_dados_partida['league'] == italiana) & (df_dados_partida['season'] == 2012)]\n",
    "df_partidas_italiana_2013 = df_dados_partida[(df_dados_partida['league'] == italiana) & (df_dados_partida['season'] == 2013)]\n",
    "df_partidas_italiana_2014 = df_dados_partida[(df_dados_partida['league'] == italiana) & (df_dados_partida['season'] == 2014)]\n",
    "df_partidas_italiana_2015 = df_dados_partida[(df_dados_partida['league'] == italiana) & (df_dados_partida['season'] == 2015)]\n",
    "df_partidas_italiana_2016 = df_dados_partida[(df_dados_partida['league'] == italiana) & (df_dados_partida['season'] == 2016)]\n",
    "\n",
    "italiana_league_2012 = df_partidas_italiana_2012['id_odsp'].count()\n",
    "italiana_league_2013 = df_partidas_italiana_2012['id_odsp'].count()\n",
    "italiana_league_2014 = df_partidas_italiana_2012['id_odsp'].count()\n",
    "italiana_league_2015 = df_partidas_italiana_2012['id_odsp'].count()\n",
    "italiana_league_2016 = df_partidas_italiana_2012['id_odsp'].count()"
   ]
  },
  {
   "cell_type": "code",
   "execution_count": 129,
   "metadata": {
    "collapsed": true
   },
   "outputs": [],
   "source": [
    "indice_italiana_2012 = df_faltas_italiana_2012['id_odsp'].count()/italiana_league_2012\n",
    "indice_italiana_2013 = df_faltas_italiana_2013['id_odsp'].count()/italiana_league_2013\n",
    "indice_italiana_2014 = df_faltas_italiana_2014['id_odsp'].count()/italiana_league_2014\n",
    "indice_italiana_2015 = df_faltas_italiana_2015['id_odsp'].count()/italiana_league_2015\n",
    "indice_italiana_2016 = df_faltas_italiana_2016['id_odsp'].count()/italiana_league_2016"
   ]
  },
  {
   "cell_type": "markdown",
   "metadata": {},
   "source": [
    "#### Contando partidas do campeonato Frances"
   ]
  },
  {
   "cell_type": "code",
   "execution_count": 130,
   "metadata": {
    "collapsed": true
   },
   "outputs": [],
   "source": [
    "df_partidas_francesa_2012 = df_dados_partida[(df_dados_partida['league'] == francesa) & (df_dados_partida['season'] == 2012)]\n",
    "df_partidas_francesa_2013 = df_dados_partida[(df_dados_partida['league'] == francesa) & (df_dados_partida['season'] == 2013)]\n",
    "df_partidas_francesa_2014 = df_dados_partida[(df_dados_partida['league'] == francesa) & (df_dados_partida['season'] == 2014)]\n",
    "df_partidas_francesa_2015 = df_dados_partida[(df_dados_partida['league'] == francesa) & (df_dados_partida['season'] == 2015)]\n",
    "df_partidas_francesa_2016 = df_dados_partida[(df_dados_partida['league'] == francesa) & (df_dados_partida['season'] == 2016)]\n",
    "\n",
    "francesa_league_2012 = df_partidas_francesa_2012['id_odsp'].count()\n",
    "francesa_league_2013 = df_partidas_francesa_2012['id_odsp'].count()\n",
    "francesa_league_2014 = df_partidas_francesa_2012['id_odsp'].count()\n",
    "francesa_league_2015 = df_partidas_francesa_2012['id_odsp'].count()\n",
    "francesa_league_2016 = df_partidas_francesa_2012['id_odsp'].count()"
   ]
  },
  {
   "cell_type": "code",
   "execution_count": 131,
   "metadata": {
    "collapsed": true
   },
   "outputs": [],
   "source": [
    "indice_francesa_2012 = df_faltas_francesa_2012['id_odsp'].count()/francesa_league_2012\n",
    "indice_francesa_2013 = df_faltas_francesa_2013['id_odsp'].count()/francesa_league_2013\n",
    "indice_francesa_2014 = df_faltas_francesa_2014['id_odsp'].count()/francesa_league_2014\n",
    "indice_francesa_2015 = df_faltas_francesa_2015['id_odsp'].count()/francesa_league_2015\n",
    "indice_francesa_2016 = df_faltas_francesa_2016['id_odsp'].count()/francesa_league_2016"
   ]
  },
  {
   "cell_type": "code",
   "execution_count": 132,
   "metadata": {},
   "outputs": [
    {
     "data": {
      "text/plain": [
       "26.388888888888889"
      ]
     },
     "execution_count": 132,
     "metadata": {},
     "output_type": "execute_result"
    }
   ],
   "source": [
    "indice_alema_2016"
   ]
  },
  {
   "cell_type": "markdown",
   "metadata": {},
   "source": [
    "#### Criando dataframes separando os índices médios de Faltas cometidas nas ligas por temporada"
   ]
  },
  {
   "cell_type": "code",
   "execution_count": 133,
   "metadata": {
    "collapsed": true
   },
   "outputs": [],
   "source": [
    "#Liga ALEMÃ\n",
    "faltas_alema = pd.DataFrame(\n",
    "    {\n",
    "    \"ano\": ['2012', '2013', '2014', '2015', '2016'],\n",
    "    \"indice\": [indice_alema_2012, indice_alema_2013, indice_alema_2014, indice_alema_2015, indice_alema_2016]\n",
    "    }\n",
    ")"
   ]
  },
  {
   "cell_type": "code",
   "execution_count": 134,
   "metadata": {
    "collapsed": true
   },
   "outputs": [],
   "source": [
    "#Liga INGLESA\n",
    "faltas_inglesa = pd.DataFrame(\n",
    "    {\n",
    "    \"ano\": ['2012', '2013', '2014', '2015', '2016'],\n",
    "    \"indice\": [indice_inglesa_2012, indice_inglesa_2013, indice_inglesa_2014, indice_inglesa_2015, indice_inglesa_2016]\n",
    "    }\n",
    ")"
   ]
  },
  {
   "cell_type": "code",
   "execution_count": 135,
   "metadata": {
    "collapsed": true
   },
   "outputs": [],
   "source": [
    "#Liga ESPANHOLA\n",
    "faltas_espanhola = pd.DataFrame(\n",
    "    {\n",
    "    \"ano\": ['2012', '2013', '2014', '2015', '2016'],\n",
    "    \"indice\": [indice_espanhola_2012, indice_espanhola_2013, indice_espanhola_2014, indice_espanhola_2015, indice_espanhola_2016]\n",
    "    }\n",
    ")"
   ]
  },
  {
   "cell_type": "code",
   "execution_count": 136,
   "metadata": {
    "collapsed": true
   },
   "outputs": [],
   "source": [
    "#Liga ITALIANA\n",
    "faltas_italiana = pd.DataFrame(\n",
    "    {\n",
    "    \"ano\": ['2012', '2013', '2014', '2015', '2016'],\n",
    "    \"indice\": [indice_italiana_2012, indice_italiana_2013, indice_italiana_2014, indice_italiana_2015, indice_italiana_2016]\n",
    "    }\n",
    ")"
   ]
  },
  {
   "cell_type": "code",
   "execution_count": 137,
   "metadata": {
    "collapsed": true
   },
   "outputs": [],
   "source": [
    "#Liga FRANCESA\n",
    "faltas_francesa = pd.DataFrame(\n",
    "    {\n",
    "    \"ano\": ['2012', '2013', '2014', '2015', '2016'],\n",
    "    \"indice\": [indice_francesa_2012, indice_francesa_2013, indice_francesa_2014, indice_francesa_2015, indice_francesa_2016]\n",
    "    }\n",
    ")"
   ]
  },
  {
   "cell_type": "markdown",
   "metadata": {},
   "source": [
    "#### Plotando um gráfico de linhas resumindo os dados das médias de faltas de cada liga"
   ]
  },
  {
   "cell_type": "code",
   "execution_count": 138,
   "metadata": {},
   "outputs": [
    {
     "data": {
      "text/plain": [
       "<matplotlib.legend.Legend at 0x22db3112fd0>"
      ]
     },
     "execution_count": 138,
     "metadata": {},
     "output_type": "execute_result"
    },
    {
     "data": {
      "image/png": "[encoded data removed]",
      "text/plain": [
       "<matplotlib.figure.Figure at 0x22d95abfdd8>"
      ]
     },
     "metadata": {},
     "output_type": "display_data"
    }
   ],
   "source": [
    "eixo_temporadas = faltas_alema['ano']\n",
    "plt.plot(eixo_temporadas, faltas_alema['indice'], 'go')\n",
    "plt.plot(eixo_temporadas, faltas_alema['indice'], 'k-', color='green')\n",
    "\n",
    "#plt.plot(eixo_temporadas, faltas_inglesa['indice'], 'bo')\n",
    "#plt.plot(eixo_temporadas, faltas_inglesa['indice'], 'k:', color='blue')\n",
    "\n",
    "plt.plot(eixo_temporadas, faltas_espanhola['indice'], 'ro')\n",
    "plt.plot(eixo_temporadas, faltas_espanhola['indice'], 'k-', color='red')\n",
    "\n",
    "plt.plot(eixo_temporadas, faltas_italiana['indice'], 'yo')\n",
    "plt.plot(eixo_temporadas, faltas_italiana['indice'], 'k-', color='orange')\n",
    "\n",
    "plt.plot(eixo_temporadas, faltas_francesa['indice'], 'mo')\n",
    "plt.plot(eixo_temporadas, faltas_francesa['indice'], 'k-', color='magenta')\n",
    "\n",
    "plt.title(\"índices de Faltas\")\n",
    "\n",
    "plt.axis([eixo_temporadas.min(), eixo_temporadas.max(), 22, 30])\n",
    "\n",
    "plt.grid(True)\n",
    "plt.xlabel(\"Temporadas\")\n",
    "plt.ylabel(\"Média de Faltas\")\n",
    "\n",
    "verde_patch = mpatches.Patch(color='green', label='Campeonato Alemão')\n",
    "vermelho_patch = mpatches.Patch(color='red', label='Campeonato Espanhol')\n",
    "laranja_patch = mpatches.Patch(color='orange', label='Campeonato Italiano')\n",
    "magenta_patch = mpatches.Patch(color='magenta', label='Campeonato Francês')\n",
    "\n",
    "plt.legend(handles=[verde_patch, vermelho_patch, laranja_patch, magenta_patch])"
   ]
  },
  {
   "cell_type": "markdown",
   "metadata": {},
   "source": [
    "# 3.\tQUAL A TEMPORADA MAIS VIOLENTA DE CADA LIGA?\n",
    "\n"
   ]
  },
  {
   "cell_type": "markdown",
   "metadata": {},
   "source": [
    "# 4.\tQUAL JOGADOR MAIS COMETEU FALTAS DE TODAS AS TEMPORADAS E DE TODAS AS LIGAS?"
   ]
  },
  {
   "cell_type": "markdown",
   "metadata": {},
   "source": [
    "# 5.\tENTRE OS JOGADORES MAIS FALTOSOS DO CAMPEONATO INGLÊS, ITALIANO E O ESPANHOL, QUAL TEM O MELHOR DESEMPENHO?"
   ]
  },
  {
   "cell_type": "markdown",
   "metadata": {},
   "source": [
    "# 6.\tQUAL O PERCENTUAL DE ACERTOS DE ESCANTEIOS POR LIGA?"
   ]
  },
  {
   "cell_type": "markdown",
   "metadata": {},
   "source": [
    "# 7.\tQUAL O PERCENTUAL DE APROVEITAMENTO DOS JOGOS EM CASA ENTRE BARCELONA E REAL MADRID?"
   ]
  },
  {
   "cell_type": "markdown",
   "metadata": {},
   "source": [
    "# 8.\tQUEM TEVE O MELHOR DESEMPENHO ENTRE 2012 E 2016, C. RONALDO OU MESSI?"
   ]
  },
  {
   "cell_type": "markdown",
   "metadata": {},
   "source": [
    "# 9.\tQUAL A FREQUÊNCIA DE CHUTES DE LONGA DISTÂNCIA DAS PARTIDAS DA LIGA ESPANHOLA?"
   ]
  },
  {
   "cell_type": "markdown",
   "metadata": {},
   "source": [
    "#### Tratando as tentativas (finalizações) da liga espanhola"
   ]
  },
  {
   "cell_type": "code",
   "execution_count": 139,
   "metadata": {
    "collapsed": true
   },
   "outputs": [],
   "source": [
    "Longa_distancia = 16 \n",
    "mais_32_metros = 17\n",
    "mais_36_metros = 18\n",
    "\n",
    "#16\tLong range\n",
    "#17\tMore than 35 yards \n",
    "#18\tMore than 40 yards"
   ]
  },
  {
   "cell_type": "markdown",
   "metadata": {},
   "source": [
    "1 jarda = 0,9144 metro "
   ]
  },
  {
   "cell_type": "code",
   "execution_count": 80,
   "metadata": {},
   "outputs": [],
   "source": [
    "df_tentativas_espanhola_2012 = df_tentativas_temporada[(df_tentativas_temporada.league == espanhola) \n",
    "                                                       & (df_tentativas_temporada.season == 2012)]\n",
    "df_tentativas_espanhola_2013 = df_tentativas_temporada[(df_tentativas_temporada.league == espanhola) \n",
    "                                                       & (df_tentativas_temporada.season == 2013)]\n",
    "df_tentativas_espanhola_2014 = df_tentativas_temporada[(df_tentativas_temporada.league == espanhola) \n",
    "                                                       & (df_tentativas_temporada.season == 2014)]\n",
    "df_tentativas_espanhola_2015 = df_tentativas_temporada[(df_tentativas_temporada.league == espanhola) \n",
    "                                                       & (df_tentativas_temporada.season == 2015)]\n",
    "df_tentativas_espanhola_2016 = df_tentativas_temporada[(df_tentativas_temporada.league == espanhola) \n",
    "                                                       & (df_tentativas_temporada.season == 2016)]"
   ]
  },
  {
   "cell_type": "markdown",
   "metadata": {},
   "source": [
    "#### Pegando os eventos que se caracterizam de longa distância"
   ]
  },
  {
   "cell_type": "code",
   "execution_count": 153,
   "metadata": {},
   "outputs": [],
   "source": [
    "df_longa_esp_2012 = df_tentativas_espanhola_2012[(df_tentativas_espanhola_2012.location == 16) | \n",
    "                            (df_tentativas_espanhola_2012.location == 17) | \n",
    "                            (df_tentativas_espanhola_2012.location == 18)]\n",
    "\n",
    "df_longa_esp_2013 = df_tentativas_espanhola_2013[(df_tentativas_espanhola_2013.location == 16) | \n",
    "                            (df_tentativas_espanhola_2013.location == 17) | \n",
    "                            (df_tentativas_espanhola_2013.location == 18)]\n",
    "\n",
    "df_longa_esp_2014 = df_tentativas_espanhola_2014[(df_tentativas_espanhola_2014.location == 16) | \n",
    "                            (df_tentativas_espanhola_2014.location == 17) | \n",
    "                            (df_tentativas_espanhola_2014.location == 18)]\n",
    "\n",
    "df_longa_esp_2015 = df_tentativas_espanhola_2015[(df_tentativas_espanhola_2015.location == 16) | \n",
    "                            (df_tentativas_espanhola_2015.location == 17) | \n",
    "                            (df_tentativas_espanhola_2015.location == 18)]\n",
    "\n",
    "df_longa_esp_2016 = df_tentativas_espanhola_2016[(df_tentativas_espanhola_2016.location == 16) | \n",
    "                            (df_tentativas_espanhola_2016.location == 17) | \n",
    "                            (df_tentativas_espanhola_2016.location == 18)]"
   ]
  },
  {
   "cell_type": "code",
   "execution_count": 178,
   "metadata": {},
   "outputs": [],
   "source": [
    "chutes_barca_2012 = df_tentativas_espanhola_2012[(df_tentativas_espanhola_2012.event_team == 'Barcelona')].count()\n",
    "chutes_barca_2013 = df_tentativas_espanhola_2012[(df_tentativas_espanhola_2013.event_team == 'Barcelona')].count()\n",
    "chutes_barca_2014 = df_tentativas_espanhola_2012[(df_tentativas_espanhola_2014.event_team == 'Barcelona')].count()\n",
    "chutes_barca_2015 = df_tentativas_espanhola_2015[(df_tentativas_espanhola_2015.event_team == 'Barcelona')].count()\n",
    "chutes_barca_2016 = df_tentativas_espanhola_2016[(df_tentativas_espanhola_2016.event_team == 'Barcelona')].count()\n",
    "\n",
    "\n",
    "chutes_real_2012 = df_tentativas_espanhola_2012[(df_tentativas_espanhola_2012.event_team == 'Real Madrid')].count()\n",
    "chutes_barca_2012 = df_tentativas_espanhola_2012[(df_tentativas_espanhola_2012.event_team == 'Barcelona')].count()"
   ]
  },
  {
   "cell_type": "markdown",
   "metadata": {},
   "source": [
    "#### Pegando a frequencia de finalizações de longa distancia da liga espanhola de 2012 a 2016"
   ]
  },
  {
   "cell_type": "code",
   "execution_count": 169,
   "metadata": {},
   "outputs": [],
   "source": [
    "espanhola2012_longo_alcance = df_longa_esp_2012['event_team'].count() / df_tentativas_espanhola_2012['event_team'].count() \n",
    "espanhola2013_longo_alcance = df_longa_esp_2013['event_team'].count() / df_tentativas_espanhola_2013['event_team'].count()\n",
    "espanhola2014_longo_alcance = df_longa_esp_2014['event_team'].count() / df_tentativas_espanhola_2014['event_team'].count() \n",
    "espanhola2015_longo_alcance = df_longa_esp_2015['event_team'].count() / df_tentativas_espanhola_2015['event_team'].count() \n",
    "espanhola2016_longo_alcance = df_longa_esp_2016['event_team'].count() / df_tentativas_espanhola_2016['event_team'].count() \n"
   ]
  },
  {
   "cell_type": "code",
   "execution_count": 171,
   "metadata": {
    "collapsed": true
   },
   "outputs": [],
   "source": [
    "#Liga ESPANHOLA\n",
    "df_longa_distancia_espanhola = pd.DataFrame(\n",
    "    {\n",
    "    \"ano\": ['2012', '2013', '2014', '2015', '2016'],\n",
    "    \"indice\": [espanhola2012_longo_alcance, espanhola2013_longo_alcance, espanhola2014_longo_alcance, \n",
    "               espanhola2015_longo_alcance, espanhola2016_longo_alcance]\n",
    "    }\n",
    ")"
   ]
  },
  {
   "cell_type": "code",
   "execution_count": 174,
   "metadata": {},
   "outputs": [
    {
     "data": {
      "text/html": [
       "<div>\n",
       "<style>\n",
       "    .dataframe thead tr:only-child th {\n",
       "        text-align: right;\n",
       "    }\n",
       "\n",
       "    .dataframe thead th {\n",
       "        text-align: left;\n",
       "    }\n",
       "\n",
       "    .dataframe tbody tr th {\n",
       "        vertical-align: top;\n",
       "    }\n",
       "</style>\n",
       "<table border=\"1\" class=\"dataframe\">\n",
       "  <thead>\n",
       "    <tr style=\"text-align: right;\">\n",
       "      <th></th>\n",
       "      <th>ano</th>\n",
       "      <th>indice</th>\n",
       "    </tr>\n",
       "  </thead>\n",
       "  <tbody>\n",
       "    <tr>\n",
       "      <th>0</th>\n",
       "      <td>2012</td>\n",
       "      <td>0.023449</td>\n",
       "    </tr>\n",
       "    <tr>\n",
       "      <th>1</th>\n",
       "      <td>2013</td>\n",
       "      <td>0.020454</td>\n",
       "    </tr>\n",
       "    <tr>\n",
       "      <th>2</th>\n",
       "      <td>2014</td>\n",
       "      <td>0.021914</td>\n",
       "    </tr>\n",
       "    <tr>\n",
       "      <th>3</th>\n",
       "      <td>2015</td>\n",
       "      <td>0.018708</td>\n",
       "    </tr>\n",
       "    <tr>\n",
       "      <th>4</th>\n",
       "      <td>2016</td>\n",
       "      <td>0.017286</td>\n",
       "    </tr>\n",
       "  </tbody>\n",
       "</table>\n",
       "</div>"
      ],
      "text/plain": [
       "    ano    indice\n",
       "0  2012  0.023449\n",
       "1  2013  0.020454\n",
       "2  2014  0.021914\n",
       "3  2015  0.018708\n",
       "4  2016  0.017286"
      ]
     },
     "execution_count": 174,
     "metadata": {},
     "output_type": "execute_result"
    }
   ],
   "source": [
    "df_longa_distancia_espanhola"
   ]
  },
  {
   "cell_type": "markdown",
   "metadata": {},
   "source": [
    "#### Plotando um gráfico com os valores das temporadas"
   ]
  },
  {
   "cell_type": "code",
   "execution_count": 175,
   "metadata": {},
   "outputs": [
    {
     "data": {
      "text/plain": [
       "Text(0,0.5,'Média de Chutes Longos')"
      ]
     },
     "execution_count": 175,
     "metadata": {},
     "output_type": "execute_result"
    },
    {
     "data": {
      "image/png": "[encoded data removed]",
      "text/plain": [
       "<matplotlib.figure.Figure at 0x22d9ad8d9e8>"
      ]
     },
     "metadata": {},
     "output_type": "display_data"
    }
   ],
   "source": [
    "eixo_temporadas = df_longa_distancia_espanhola['ano']\n",
    "plt.plot(eixo_temporadas, df_longa_distancia_espanhola['indice'], 'go')\n",
    "plt.plot(eixo_temporadas, df_longa_distancia_espanhola['indice'], 'k-', color='blue')\n",
    "\n",
    "plt.title(\"índices de Finalizações de Longa Distância\")\n",
    "plt.grid(True)\n",
    "plt.xlabel(\"Temporadas\")\n",
    "plt.ylabel(\"Média de Chutes Longos\")"
   ]
  },
  {
   "cell_type": "markdown",
   "metadata": {},
   "source": [
    "# 10.\tQUAL A PERCENTAGEM DE ACERTOS DE PÊNALTIS DO CAMPEONATO INGLÊS?"
   ]
  },
  {
   "cell_type": "code",
   "execution_count": null,
   "metadata": {
    "collapsed": true
   },
   "outputs": [],
   "source": []
  },
  {
   "cell_type": "code",
   "execution_count": 59,
   "metadata": {
    "collapsed": true
   },
   "outputs": [],
   "source": [
    "df_penaltis = df_nova_eventos[(df_nova_eventos['event_type'] == penalti_concedido) & \n",
    "                              (df_nova_eventos['is_goal'] == 0) ]"
   ]
  },
  {
   "cell_type": "code",
   "execution_count": 60,
   "metadata": {
    "collapsed": true
   },
   "outputs": [],
   "source": [
    "#df_penaltis_union = pd.merge(df_penaltis, df_dados_partida, how='inner', on=['id_odsp', 'id_odsp'])\n",
    "#df_penaltis_convertidos = df_penaltis_union[(df_penaltis_union['is_goal'] == gol_true)]\n",
    "#df_penaltis.loc[(df_penaltis['is_goal'] == 1)]"
   ]
  },
  {
   "cell_type": "code",
   "execution_count": 61,
   "metadata": {},
   "outputs": [
    {
     "data": {
      "text/plain": [
       "Index(['id_odsp', 'id_event', 'sort_order', 'text', 'event_type',\n",
       "       'event_type2', 'side', 'event_team', 'opponent', 'player', 'player2',\n",
       "       'shot_place', 'shot_outcome', 'is_goal', 'location', 'bodypart',\n",
       "       'assist_method', 'situation'],\n",
       "      dtype='object')"
      ]
     },
     "execution_count": 61,
     "metadata": {},
     "output_type": "execute_result"
    }
   ],
   "source": [
    "df_nova_eventos.columns"
   ]
  },
  {
   "cell_type": "code",
   "execution_count": null,
   "metadata": {
    "collapsed": true
   },
   "outputs": [],
   "source": []
  }
 ],
 "metadata": {
  "kernelspec": {
   "display_name": "Python 3",
   "language": "python",
   "name": "python3"
  },
  "language_info": {
   "codemirror_mode": {
    "name": "ipython",
    "version": 3
   },
   "file_extension": ".py",
   "mimetype": "text/x-python",
   "name": "python",
   "nbconvert_exporter": "python",
   "pygments_lexer": "ipython3",
   "version": "3.6.3"
  }
 },
 "nbformat": 4,
 "nbformat_minor": 2
}
