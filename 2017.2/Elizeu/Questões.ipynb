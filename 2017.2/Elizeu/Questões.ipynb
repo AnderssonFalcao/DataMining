{
 "cells": [
  {
   "cell_type": "code",
   "execution_count": 90,
   "metadata": {
    "collapsed": true
   },
   "outputs": [],
   "source": [
    "%matplotlib inline\n",
    "import pandas as pd\n",
    "import numpy\n",
    "import matplotlib.pyplot as plt\n",
    "import matplotlib.patches as mpatches"
   ]
  },
  {
   "cell_type": "code",
   "execution_count": 91,
   "metadata": {
    "collapsed": true
   },
   "outputs": [],
   "source": [
    "df_eventos = pd.read_csv(\"F:/Bibliotecas/Documentos/football-events/events.csv\") #dt\n",
    "df_dados_partida = pd.read_csv(\"F:/Bibliotecas/Documentos/football-events/ginf.csv\") #dtt"
   ]
  },
  {
   "cell_type": "code",
   "execution_count": 92,
   "metadata": {},
   "outputs": [
    {
     "data": {
      "text/plain": [
       "Index(['id_odsp', 'id_event', 'sort_order', 'time', 'text', 'event_type',\n",
       "       'event_type2', 'side', 'event_team', 'opponent', 'player', 'player2',\n",
       "       'player_in', 'player_out', 'shot_place', 'shot_outcome', 'is_goal',\n",
       "       'location', 'bodypart', 'assist_method', 'situation', 'fast_break'],\n",
       "      dtype='object')"
      ]
     },
     "execution_count": 92,
     "metadata": {},
     "output_type": "execute_result"
    }
   ],
   "source": [
    "df_eventos.columns"
   ]
  },
  {
   "cell_type": "code",
   "execution_count": 93,
   "metadata": {
    "collapsed": true
   },
   "outputs": [],
   "source": [
    "evento_tentativa = 1 #Define o evento como tentativa de gol\n",
    "na_meta = 1 \n",
    "gol_true = 1         #Define o evento como gol\n",
    "gol_false = 0        #Define que o evento não foi gol\n",
    "penalti_concedido = 11  #Define que o 'event_type' foi penalti\n",
    "alema = 'D1'\n",
    "inglesa = 'E0'\n",
    "espanhola = 'SP1'\n",
    "italiana = 'I1'\n",
    "francesa = 'F1'\n",
    "##Evento\n",
    "escanteio = 2"
   ]
  },
  {
   "cell_type": "markdown",
   "metadata": {},
   "source": [
    "#### Criando dataframe associativo"
   ]
  },
  {
   "cell_type": "code",
   "execution_count": 94,
   "metadata": {
    "collapsed": true
   },
   "outputs": [],
   "source": [
    "df_juncao = pd.merge(df_nova_eventos, df_dados_partida, how='inner', on=['id_odsp', 'id_odsp'])"
   ]
  },
  {
   "cell_type": "code",
   "execution_count": 95,
   "metadata": {
    "collapsed": true
   },
   "outputs": [],
   "source": [
    "##TRABALHANDO NOS VALORES DOS GOLS E TENTATIVAS"
   ]
  },
  {
   "cell_type": "code",
   "execution_count": 96,
   "metadata": {
    "collapsed": true
   },
   "outputs": [],
   "source": [
    "##Pegar colunas especificas do DataFrame, correspondente as finalizações\n",
    "df_nova_eventos = df_eventos[['id_odsp', 'id_event', 'sort_order', 'text', 'event_type', 'event_type2','side', 'event_team',\n",
    "                              'opponent','player', 'player2', 'shot_place', 'shot_outcome', 'is_goal', 'location', 'bodypart',\n",
    "                              'assist_method', 'situation']] #dct"
   ]
  },
  {
   "cell_type": "code",
   "execution_count": 97,
   "metadata": {
    "collapsed": true
   },
   "outputs": [],
   "source": [
    "df_dados_partida = df_dados_partida[['id_odsp', 'link_odsp', 'adv_stats', 'date', 'league', 'season',\n",
    "       'country', 'ht', 'at', 'fthg', 'ftag']]"
   ]
  },
  {
   "cell_type": "markdown",
   "metadata": {
    "collapsed": true
   },
   "source": [
    "# 1.\tQUAL O PERCENTUAL DE ACERTOS NOS CHUTES DOS CLUBES?"
   ]
  },
  {
   "cell_type": "markdown",
   "metadata": {},
   "source": [
    "## Reduzindo os dados do DataFrame para os desejados"
   ]
  },
  {
   "cell_type": "markdown",
   "metadata": {},
   "source": [
    "### Guardando os valores de tentativas que foram gols"
   ]
  },
  {
   "cell_type": "code",
   "execution_count": 98,
   "metadata": {
    "collapsed": true
   },
   "outputs": [],
   "source": [
    "df_gols = df_nova_eventos[(df_nova_eventos['event_type'] == evento_tentativa) & (df_nova_eventos['is_goal'] == gol_true)\n",
    "                          & (df_nova_eventos['shot_outcome'] >= na_meta)]"
   ]
  },
  {
   "cell_type": "markdown",
   "metadata": {},
   "source": [
    "### Guardando os registros de tentativas que não foram gols"
   ]
  },
  {
   "cell_type": "code",
   "execution_count": 99,
   "metadata": {
    "collapsed": true
   },
   "outputs": [],
   "source": [
    "df_tentativas = df_nova_eventos[(df_nova_eventos['event_type'] == evento_tentativa)]\n",
    "## &(df_nova_eventos['is_goal'] == gol_false)"
   ]
  },
  {
   "cell_type": "code",
   "execution_count": 100,
   "metadata": {},
   "outputs": [
    {
     "data": {
      "text/plain": [
       "Index(['id_odsp', 'id_event', 'sort_order', 'text', 'event_type',\n",
       "       'event_type2', 'side', 'event_team', 'opponent', 'player', 'player2',\n",
       "       'shot_place', 'shot_outcome', 'is_goal', 'location', 'bodypart',\n",
       "       'assist_method', 'situation'],\n",
       "      dtype='object')"
      ]
     },
     "execution_count": 100,
     "metadata": {},
     "output_type": "execute_result"
    }
   ],
   "source": [
    "df_gols.columns\n"
   ]
  },
  {
   "cell_type": "code",
   "execution_count": 101,
   "metadata": {
    "collapsed": true
   },
   "outputs": [],
   "source": [
    "##ACIMA A TENTATIVA DE RESPONDER A QUESTÃO 1 (EM ANDAMENTO)"
   ]
  },
  {
   "cell_type": "code",
   "execution_count": 102,
   "metadata": {
    "collapsed": true
   },
   "outputs": [],
   "source": [
    "##Construindo um DataFrame com os valores necessários da tabela Ginf\n",
    "dados_partida = df_dados_partida.columns[:-9] ##Não funciona (DESSA FORMA SÓ COPIA OS INDEXS)"
   ]
  },
  {
   "cell_type": "code",
   "execution_count": 103,
   "metadata": {},
   "outputs": [
    {
     "data": {
      "text/plain": [
       "Index(['id_odsp', 'id_event', 'sort_order', 'time', 'text', 'event_type',\n",
       "       'event_type2', 'side', 'event_team', 'opponent', 'player', 'player2',\n",
       "       'player_in', 'player_out', 'shot_place', 'shot_outcome', 'is_goal',\n",
       "       'location', 'bodypart', 'assist_method', 'situation', 'fast_break'],\n",
       "      dtype='object')"
      ]
     },
     "execution_count": 103,
     "metadata": {},
     "output_type": "execute_result"
    }
   ],
   "source": [
    "df_eventos.columns"
   ]
  },
  {
   "cell_type": "markdown",
   "metadata": {},
   "source": [
    "## Criando uma junção natural entre os dois dataframes"
   ]
  },
  {
   "cell_type": "code",
   "execution_count": 104,
   "metadata": {
    "collapsed": true
   },
   "outputs": [],
   "source": [
    "gols = pd.merge(df_gols, df_dados_partida, how='inner', on=['id_odsp', 'id_odsp'])"
   ]
  },
  {
   "cell_type": "code",
   "execution_count": 105,
   "metadata": {},
   "outputs": [
    {
     "data": {
      "text/html": [
       "<div>\n",
       "<style>\n",
       "    .dataframe thead tr:only-child th {\n",
       "        text-align: right;\n",
       "    }\n",
       "\n",
       "    .dataframe thead th {\n",
       "        text-align: left;\n",
       "    }\n",
       "\n",
       "    .dataframe tbody tr th {\n",
       "        vertical-align: top;\n",
       "    }\n",
       "</style>\n",
       "<table border=\"1\" class=\"dataframe\">\n",
       "  <thead>\n",
       "    <tr style=\"text-align: right;\">\n",
       "      <th></th>\n",
       "      <th>id_odsp</th>\n",
       "      <th>id_event</th>\n",
       "      <th>sort_order</th>\n",
       "      <th>text</th>\n",
       "      <th>event_type</th>\n",
       "      <th>event_type2</th>\n",
       "      <th>side</th>\n",
       "      <th>event_team</th>\n",
       "      <th>opponent</th>\n",
       "      <th>player</th>\n",
       "      <th>...</th>\n",
       "      <th>link_odsp</th>\n",
       "      <th>adv_stats</th>\n",
       "      <th>date</th>\n",
       "      <th>league</th>\n",
       "      <th>season</th>\n",
       "      <th>country</th>\n",
       "      <th>ht</th>\n",
       "      <th>at</th>\n",
       "      <th>fthg</th>\n",
       "      <th>ftag</th>\n",
       "    </tr>\n",
       "  </thead>\n",
       "  <tbody>\n",
       "  </tbody>\n",
       "</table>\n",
       "<p>0 rows × 28 columns</p>\n",
       "</div>"
      ],
      "text/plain": [
       "Empty DataFrame\n",
       "Columns: [id_odsp, id_event, sort_order, text, event_type, event_type2, side, event_team, opponent, player, player2, shot_place, shot_outcome, is_goal, location, bodypart, assist_method, situation, link_odsp, adv_stats, date, league, season, country, ht, at, fthg, ftag]\n",
       "Index: []\n",
       "\n",
       "[0 rows x 28 columns]"
      ]
     },
     "execution_count": 105,
     "metadata": {},
     "output_type": "execute_result"
    }
   ],
   "source": [
    "gols[(gols['season'] == 2013) & (gols['league'] == inglesa)]"
   ]
  },
  {
   "cell_type": "markdown",
   "metadata": {},
   "source": [
    "#### Devido a falta de informações do campeonato inglês das temporadas de 2012 e 2013, decidi retirar da análise geral com os outros campeonatos. "
   ]
  },
  {
   "cell_type": "code",
   "execution_count": 106,
   "metadata": {
    "collapsed": true
   },
   "outputs": [],
   "source": [
    "gols.drop(gols[(gols.league == inglesa)].index, inplace = True)  ## (inplace = True) Substitui o dataframe pela saída do método"
   ]
  },
  {
   "cell_type": "markdown",
   "metadata": {
    "collapsed": true
   },
   "source": [
    "## Agrupando os dados por time e temporada"
   ]
  },
  {
   "cell_type": "code",
   "execution_count": 107,
   "metadata": {
    "collapsed": true
   },
   "outputs": [],
   "source": [
    "##Agrupando o quantitativo de gols de cada time por temporada\n",
    "gols_temporada = gols.groupby(['event_team', 'season']).count()\n",
    "\n",
    "gols_temp_geral = gols_temporada = gols.groupby(['event_team']).count()"
   ]
  },
  {
   "cell_type": "markdown",
   "metadata": {},
   "source": [
    "### Exibindo os gols de cada time por temporada"
   ]
  },
  {
   "cell_type": "code",
   "execution_count": 108,
   "metadata": {},
   "outputs": [
    {
     "data": {
      "text/html": [
       "<div>\n",
       "<style>\n",
       "    .dataframe thead tr:only-child th {\n",
       "        text-align: right;\n",
       "    }\n",
       "\n",
       "    .dataframe thead th {\n",
       "        text-align: left;\n",
       "    }\n",
       "\n",
       "    .dataframe tbody tr th {\n",
       "        vertical-align: top;\n",
       "    }\n",
       "</style>\n",
       "<table border=\"1\" class=\"dataframe\">\n",
       "  <thead>\n",
       "    <tr style=\"text-align: right;\">\n",
       "      <th></th>\n",
       "      <th>id_odsp</th>\n",
       "      <th>id_event</th>\n",
       "      <th>sort_order</th>\n",
       "      <th>text</th>\n",
       "      <th>event_type</th>\n",
       "      <th>event_type2</th>\n",
       "      <th>side</th>\n",
       "      <th>opponent</th>\n",
       "      <th>player</th>\n",
       "      <th>player2</th>\n",
       "      <th>...</th>\n",
       "      <th>link_odsp</th>\n",
       "      <th>adv_stats</th>\n",
       "      <th>date</th>\n",
       "      <th>league</th>\n",
       "      <th>season</th>\n",
       "      <th>country</th>\n",
       "      <th>ht</th>\n",
       "      <th>at</th>\n",
       "      <th>fthg</th>\n",
       "      <th>ftag</th>\n",
       "    </tr>\n",
       "    <tr>\n",
       "      <th>event_team</th>\n",
       "      <th></th>\n",
       "      <th></th>\n",
       "      <th></th>\n",
       "      <th></th>\n",
       "      <th></th>\n",
       "      <th></th>\n",
       "      <th></th>\n",
       "      <th></th>\n",
       "      <th></th>\n",
       "      <th></th>\n",
       "      <th></th>\n",
       "      <th></th>\n",
       "      <th></th>\n",
       "      <th></th>\n",
       "      <th></th>\n",
       "      <th></th>\n",
       "      <th></th>\n",
       "      <th></th>\n",
       "      <th></th>\n",
       "      <th></th>\n",
       "      <th></th>\n",
       "    </tr>\n",
       "  </thead>\n",
       "  <tbody>\n",
       "    <tr>\n",
       "      <th>AC Ajaccio</th>\n",
       "      <td>110</td>\n",
       "      <td>110</td>\n",
       "      <td>110</td>\n",
       "      <td>110</td>\n",
       "      <td>110</td>\n",
       "      <td>76</td>\n",
       "      <td>110</td>\n",
       "      <td>110</td>\n",
       "      <td>110</td>\n",
       "      <td>76</td>\n",
       "      <td>...</td>\n",
       "      <td>110</td>\n",
       "      <td>110</td>\n",
       "      <td>110</td>\n",
       "      <td>110</td>\n",
       "      <td>110</td>\n",
       "      <td>110</td>\n",
       "      <td>110</td>\n",
       "      <td>110</td>\n",
       "      <td>110</td>\n",
       "      <td>110</td>\n",
       "    </tr>\n",
       "    <tr>\n",
       "      <th>AC Milan</th>\n",
       "      <td>320</td>\n",
       "      <td>320</td>\n",
       "      <td>320</td>\n",
       "      <td>320</td>\n",
       "      <td>320</td>\n",
       "      <td>203</td>\n",
       "      <td>320</td>\n",
       "      <td>320</td>\n",
       "      <td>320</td>\n",
       "      <td>201</td>\n",
       "      <td>...</td>\n",
       "      <td>320</td>\n",
       "      <td>320</td>\n",
       "      <td>320</td>\n",
       "      <td>320</td>\n",
       "      <td>320</td>\n",
       "      <td>320</td>\n",
       "      <td>320</td>\n",
       "      <td>320</td>\n",
       "      <td>320</td>\n",
       "      <td>320</td>\n",
       "    </tr>\n",
       "    <tr>\n",
       "      <th>AJ Auxerre</th>\n",
       "      <td>46</td>\n",
       "      <td>46</td>\n",
       "      <td>46</td>\n",
       "      <td>46</td>\n",
       "      <td>46</td>\n",
       "      <td>29</td>\n",
       "      <td>46</td>\n",
       "      <td>46</td>\n",
       "      <td>46</td>\n",
       "      <td>29</td>\n",
       "      <td>...</td>\n",
       "      <td>46</td>\n",
       "      <td>46</td>\n",
       "      <td>46</td>\n",
       "      <td>46</td>\n",
       "      <td>46</td>\n",
       "      <td>46</td>\n",
       "      <td>46</td>\n",
       "      <td>46</td>\n",
       "      <td>46</td>\n",
       "      <td>46</td>\n",
       "    </tr>\n",
       "    <tr>\n",
       "      <th>AS Monaco</th>\n",
       "      <td>228</td>\n",
       "      <td>228</td>\n",
       "      <td>228</td>\n",
       "      <td>228</td>\n",
       "      <td>228</td>\n",
       "      <td>149</td>\n",
       "      <td>228</td>\n",
       "      <td>228</td>\n",
       "      <td>228</td>\n",
       "      <td>147</td>\n",
       "      <td>...</td>\n",
       "      <td>228</td>\n",
       "      <td>228</td>\n",
       "      <td>228</td>\n",
       "      <td>228</td>\n",
       "      <td>228</td>\n",
       "      <td>228</td>\n",
       "      <td>228</td>\n",
       "      <td>228</td>\n",
       "      <td>228</td>\n",
       "      <td>228</td>\n",
       "    </tr>\n",
       "    <tr>\n",
       "      <th>AS Nancy Lorraine</th>\n",
       "      <td>87</td>\n",
       "      <td>87</td>\n",
       "      <td>87</td>\n",
       "      <td>87</td>\n",
       "      <td>87</td>\n",
       "      <td>63</td>\n",
       "      <td>87</td>\n",
       "      <td>87</td>\n",
       "      <td>87</td>\n",
       "      <td>63</td>\n",
       "      <td>...</td>\n",
       "      <td>87</td>\n",
       "      <td>87</td>\n",
       "      <td>87</td>\n",
       "      <td>87</td>\n",
       "      <td>87</td>\n",
       "      <td>87</td>\n",
       "      <td>87</td>\n",
       "      <td>87</td>\n",
       "      <td>87</td>\n",
       "      <td>87</td>\n",
       "    </tr>\n",
       "  </tbody>\n",
       "</table>\n",
       "<p>5 rows × 27 columns</p>\n",
       "</div>"
      ],
      "text/plain": [
       "                   id_odsp  id_event  sort_order  text  event_type  \\\n",
       "event_team                                                           \n",
       "AC Ajaccio             110       110         110   110         110   \n",
       "AC Milan               320       320         320   320         320   \n",
       "AJ Auxerre              46        46          46    46          46   \n",
       "AS Monaco              228       228         228   228         228   \n",
       "AS Nancy Lorraine       87        87          87    87          87   \n",
       "\n",
       "                   event_type2  side  opponent  player  player2  ...   \\\n",
       "event_team                                                       ...    \n",
       "AC Ajaccio                  76   110       110     110       76  ...    \n",
       "AC Milan                   203   320       320     320      201  ...    \n",
       "AJ Auxerre                  29    46        46      46       29  ...    \n",
       "AS Monaco                  149   228       228     228      147  ...    \n",
       "AS Nancy Lorraine           63    87        87      87       63  ...    \n",
       "\n",
       "                   link_odsp  adv_stats  date  league  season  country   ht  \\\n",
       "event_team                                                                    \n",
       "AC Ajaccio               110        110   110     110     110      110  110   \n",
       "AC Milan                 320        320   320     320     320      320  320   \n",
       "AJ Auxerre                46         46    46      46      46       46   46   \n",
       "AS Monaco                228        228   228     228     228      228  228   \n",
       "AS Nancy Lorraine         87         87    87      87      87       87   87   \n",
       "\n",
       "                    at  fthg  ftag  \n",
       "event_team                          \n",
       "AC Ajaccio         110   110   110  \n",
       "AC Milan           320   320   320  \n",
       "AJ Auxerre          46    46    46  \n",
       "AS Monaco          228   228   228  \n",
       "AS Nancy Lorraine   87    87    87  \n",
       "\n",
       "[5 rows x 27 columns]"
      ]
     },
     "execution_count": 108,
     "metadata": {},
     "output_type": "execute_result"
    }
   ],
   "source": [
    "gols_temporada.head()"
   ]
  },
  {
   "cell_type": "markdown",
   "metadata": {},
   "source": [
    "## Reazlizando uma junção dos dataframes"
   ]
  },
  {
   "cell_type": "code",
   "execution_count": 109,
   "metadata": {
    "collapsed": true
   },
   "outputs": [],
   "source": [
    "##Agrupando o quantitativo de gols de cada time por temporada\n",
    "df_tentativas_temporada = pd.merge(df_tentativas, df_dados_partida, how='inner', on=['id_odsp', 'id_odsp'])"
   ]
  },
  {
   "cell_type": "markdown",
   "metadata": {},
   "source": [
    "##### Removendo as tentativas do campeonato Inglês"
   ]
  },
  {
   "cell_type": "code",
   "execution_count": 110,
   "metadata": {
    "collapsed": true
   },
   "outputs": [],
   "source": [
    "df_tentativas_temporada.drop(df_tentativas_temporada[(df_tentativas_temporada.league == inglesa)].index, inplace = True)"
   ]
  },
  {
   "cell_type": "markdown",
   "metadata": {},
   "source": [
    "#### Separando 2 dataframes, um agrupado por clube e outro por clube e emporada"
   ]
  },
  {
   "cell_type": "code",
   "execution_count": 111,
   "metadata": {
    "collapsed": true
   },
   "outputs": [],
   "source": [
    "tentativas_temporada = df_tentativas_temporada.groupby(['event_team', 'season']).count()\n",
    "\n",
    "tentativas_temp_geral = df_tentativas_temporada.groupby(['event_team']).count()"
   ]
  },
  {
   "cell_type": "code",
   "execution_count": 112,
   "metadata": {},
   "outputs": [
    {
     "data": {
      "text/html": [
       "<div>\n",
       "<style>\n",
       "    .dataframe thead tr:only-child th {\n",
       "        text-align: right;\n",
       "    }\n",
       "\n",
       "    .dataframe thead th {\n",
       "        text-align: left;\n",
       "    }\n",
       "\n",
       "    .dataframe tbody tr th {\n",
       "        vertical-align: top;\n",
       "    }\n",
       "</style>\n",
       "<table border=\"1\" class=\"dataframe\">\n",
       "  <thead>\n",
       "    <tr style=\"text-align: right;\">\n",
       "      <th></th>\n",
       "      <th>id_odsp</th>\n",
       "      <th>id_event</th>\n",
       "      <th>sort_order</th>\n",
       "      <th>text</th>\n",
       "      <th>event_type</th>\n",
       "      <th>event_type2</th>\n",
       "      <th>side</th>\n",
       "      <th>opponent</th>\n",
       "      <th>player</th>\n",
       "      <th>player2</th>\n",
       "      <th>...</th>\n",
       "      <th>link_odsp</th>\n",
       "      <th>adv_stats</th>\n",
       "      <th>date</th>\n",
       "      <th>league</th>\n",
       "      <th>season</th>\n",
       "      <th>country</th>\n",
       "      <th>ht</th>\n",
       "      <th>at</th>\n",
       "      <th>fthg</th>\n",
       "      <th>ftag</th>\n",
       "    </tr>\n",
       "    <tr>\n",
       "      <th>event_team</th>\n",
       "      <th></th>\n",
       "      <th></th>\n",
       "      <th></th>\n",
       "      <th></th>\n",
       "      <th></th>\n",
       "      <th></th>\n",
       "      <th></th>\n",
       "      <th></th>\n",
       "      <th></th>\n",
       "      <th></th>\n",
       "      <th></th>\n",
       "      <th></th>\n",
       "      <th></th>\n",
       "      <th></th>\n",
       "      <th></th>\n",
       "      <th></th>\n",
       "      <th></th>\n",
       "      <th></th>\n",
       "      <th></th>\n",
       "      <th></th>\n",
       "      <th></th>\n",
       "    </tr>\n",
       "  </thead>\n",
       "  <tbody>\n",
       "    <tr>\n",
       "      <th>AC Ajaccio</th>\n",
       "      <td>1106</td>\n",
       "      <td>1106</td>\n",
       "      <td>1106</td>\n",
       "      <td>1106</td>\n",
       "      <td>1106</td>\n",
       "      <td>766</td>\n",
       "      <td>1106</td>\n",
       "      <td>1106</td>\n",
       "      <td>1106</td>\n",
       "      <td>762</td>\n",
       "      <td>...</td>\n",
       "      <td>1106</td>\n",
       "      <td>1106</td>\n",
       "      <td>1106</td>\n",
       "      <td>1106</td>\n",
       "      <td>1106</td>\n",
       "      <td>1106</td>\n",
       "      <td>1106</td>\n",
       "      <td>1106</td>\n",
       "      <td>1106</td>\n",
       "      <td>1106</td>\n",
       "    </tr>\n",
       "    <tr>\n",
       "      <th>AC Milan</th>\n",
       "      <td>3065</td>\n",
       "      <td>3065</td>\n",
       "      <td>3065</td>\n",
       "      <td>3065</td>\n",
       "      <td>3065</td>\n",
       "      <td>2211</td>\n",
       "      <td>3065</td>\n",
       "      <td>3065</td>\n",
       "      <td>3065</td>\n",
       "      <td>2200</td>\n",
       "      <td>...</td>\n",
       "      <td>3065</td>\n",
       "      <td>3065</td>\n",
       "      <td>3065</td>\n",
       "      <td>3065</td>\n",
       "      <td>3065</td>\n",
       "      <td>3065</td>\n",
       "      <td>3065</td>\n",
       "      <td>3065</td>\n",
       "      <td>3065</td>\n",
       "      <td>3065</td>\n",
       "    </tr>\n",
       "    <tr>\n",
       "      <th>AJ Auxerre</th>\n",
       "      <td>446</td>\n",
       "      <td>446</td>\n",
       "      <td>446</td>\n",
       "      <td>446</td>\n",
       "      <td>446</td>\n",
       "      <td>302</td>\n",
       "      <td>446</td>\n",
       "      <td>446</td>\n",
       "      <td>446</td>\n",
       "      <td>302</td>\n",
       "      <td>...</td>\n",
       "      <td>446</td>\n",
       "      <td>446</td>\n",
       "      <td>446</td>\n",
       "      <td>446</td>\n",
       "      <td>446</td>\n",
       "      <td>446</td>\n",
       "      <td>446</td>\n",
       "      <td>446</td>\n",
       "      <td>446</td>\n",
       "      <td>446</td>\n",
       "    </tr>\n",
       "    <tr>\n",
       "      <th>AS Monaco</th>\n",
       "      <td>1665</td>\n",
       "      <td>1665</td>\n",
       "      <td>1665</td>\n",
       "      <td>1665</td>\n",
       "      <td>1665</td>\n",
       "      <td>1226</td>\n",
       "      <td>1665</td>\n",
       "      <td>1665</td>\n",
       "      <td>1665</td>\n",
       "      <td>1219</td>\n",
       "      <td>...</td>\n",
       "      <td>1665</td>\n",
       "      <td>1665</td>\n",
       "      <td>1665</td>\n",
       "      <td>1665</td>\n",
       "      <td>1665</td>\n",
       "      <td>1665</td>\n",
       "      <td>1665</td>\n",
       "      <td>1665</td>\n",
       "      <td>1665</td>\n",
       "      <td>1665</td>\n",
       "    </tr>\n",
       "    <tr>\n",
       "      <th>AS Nancy Lorraine</th>\n",
       "      <td>1058</td>\n",
       "      <td>1058</td>\n",
       "      <td>1058</td>\n",
       "      <td>1058</td>\n",
       "      <td>1058</td>\n",
       "      <td>792</td>\n",
       "      <td>1058</td>\n",
       "      <td>1058</td>\n",
       "      <td>1058</td>\n",
       "      <td>789</td>\n",
       "      <td>...</td>\n",
       "      <td>1058</td>\n",
       "      <td>1058</td>\n",
       "      <td>1058</td>\n",
       "      <td>1058</td>\n",
       "      <td>1058</td>\n",
       "      <td>1058</td>\n",
       "      <td>1058</td>\n",
       "      <td>1058</td>\n",
       "      <td>1058</td>\n",
       "      <td>1058</td>\n",
       "    </tr>\n",
       "  </tbody>\n",
       "</table>\n",
       "<p>5 rows × 27 columns</p>\n",
       "</div>"
      ],
      "text/plain": [
       "                   id_odsp  id_event  sort_order  text  event_type  \\\n",
       "event_team                                                           \n",
       "AC Ajaccio            1106      1106        1106  1106        1106   \n",
       "AC Milan              3065      3065        3065  3065        3065   \n",
       "AJ Auxerre             446       446         446   446         446   \n",
       "AS Monaco             1665      1665        1665  1665        1665   \n",
       "AS Nancy Lorraine     1058      1058        1058  1058        1058   \n",
       "\n",
       "                   event_type2  side  opponent  player  player2  ...   \\\n",
       "event_team                                                       ...    \n",
       "AC Ajaccio                 766  1106      1106    1106      762  ...    \n",
       "AC Milan                  2211  3065      3065    3065     2200  ...    \n",
       "AJ Auxerre                 302   446       446     446      302  ...    \n",
       "AS Monaco                 1226  1665      1665    1665     1219  ...    \n",
       "AS Nancy Lorraine          792  1058      1058    1058      789  ...    \n",
       "\n",
       "                   link_odsp  adv_stats  date  league  season  country    ht  \\\n",
       "event_team                                                                     \n",
       "AC Ajaccio              1106       1106  1106    1106    1106     1106  1106   \n",
       "AC Milan                3065       3065  3065    3065    3065     3065  3065   \n",
       "AJ Auxerre               446        446   446     446     446      446   446   \n",
       "AS Monaco               1665       1665  1665    1665    1665     1665  1665   \n",
       "AS Nancy Lorraine       1058       1058  1058    1058    1058     1058  1058   \n",
       "\n",
       "                     at  fthg  ftag  \n",
       "event_team                           \n",
       "AC Ajaccio         1106  1106  1106  \n",
       "AC Milan           3065  3065  3065  \n",
       "AJ Auxerre          446   446   446  \n",
       "AS Monaco          1665  1665  1665  \n",
       "AS Nancy Lorraine  1058  1058  1058  \n",
       "\n",
       "[5 rows x 27 columns]"
      ]
     },
     "execution_count": 112,
     "metadata": {},
     "output_type": "execute_result"
    }
   ],
   "source": [
    "tentativas_temp_geral.head()"
   ]
  },
  {
   "cell_type": "markdown",
   "metadata": {},
   "source": [
    "#### Medindo a eficiencia por clube e temporada"
   ]
  },
  {
   "cell_type": "code",
   "execution_count": 113,
   "metadata": {
    "collapsed": true
   },
   "outputs": [],
   "source": [
    "eficiencia = (gols_temporada['id_event']/tentativas_temporada['id_event']) ##Questionar ao professor"
   ]
  },
  {
   "cell_type": "code",
   "execution_count": 114,
   "metadata": {},
   "outputs": [
    {
     "data": {
      "text/plain": [
       "event_team  season\n",
       "AC Ajaccio  2012      0.310734\n",
       "            2013      0.273632\n",
       "            2014      0.314286\n",
       "AC Milan    2012      0.573477\n",
       "            2013      0.501567\n",
       "Name: id_event, dtype: float64"
      ]
     },
     "execution_count": 114,
     "metadata": {},
     "output_type": "execute_result"
    }
   ],
   "source": [
    "eficiencia.head()"
   ]
  },
  {
   "cell_type": "markdown",
   "metadata": {},
   "source": [
    "#### Medindo a eficiencia geral por clube"
   ]
  },
  {
   "cell_type": "code",
   "execution_count": 115,
   "metadata": {
    "collapsed": true
   },
   "outputs": [],
   "source": [
    "eficiencia_geral = (gols_temporada['id_event']/tentativas_temp_geral['id_event'])"
   ]
  },
  {
   "cell_type": "code",
   "execution_count": 116,
   "metadata": {},
   "outputs": [
    {
     "data": {
      "text/plain": [
       "event_team\n",
       "AC Ajaccio           0.099458\n",
       "AC Milan             0.104405\n",
       "AJ Auxerre           0.103139\n",
       "AS Monaco            0.136937\n",
       "AS Nancy Lorraine    0.082231\n",
       "Name: id_event, dtype: float64"
      ]
     },
     "execution_count": 116,
     "metadata": {},
     "output_type": "execute_result"
    }
   ],
   "source": [
    "eficiencia_geral.head()"
   ]
  },
  {
   "cell_type": "markdown",
   "metadata": {},
   "source": [
    "#### Convertendo os objetos de Series para Frames, para poder utilizar os métodos da biblioteca matplotlib"
   ]
  },
  {
   "cell_type": "code",
   "execution_count": 117,
   "metadata": {
    "collapsed": true
   },
   "outputs": [],
   "source": [
    "df_eficiencia_geral = eficiencia_geral.to_frame()"
   ]
  },
  {
   "cell_type": "code",
   "execution_count": 118,
   "metadata": {},
   "outputs": [
    {
     "data": {
      "text/plain": [
       "Index(['id_event'], dtype='object')"
      ]
     },
     "execution_count": 118,
     "metadata": {},
     "output_type": "execute_result"
    }
   ],
   "source": [
    "df_eficiencia_geral.columns"
   ]
  },
  {
   "cell_type": "code",
   "execution_count": 119,
   "metadata": {
    "collapsed": true
   },
   "outputs": [],
   "source": [
    "df_eficiencia = eficiencia.to_frame()"
   ]
  },
  {
   "cell_type": "markdown",
   "metadata": {},
   "source": [
    "#### Dados gerais do DataFrame de eficiencia geral"
   ]
  },
  {
   "cell_type": "code",
   "execution_count": 120,
   "metadata": {},
   "outputs": [
    {
     "data": {
      "text/html": [
       "<div>\n",
       "<style>\n",
       "    .dataframe thead tr:only-child th {\n",
       "        text-align: right;\n",
       "    }\n",
       "\n",
       "    .dataframe thead th {\n",
       "        text-align: left;\n",
       "    }\n",
       "\n",
       "    .dataframe tbody tr th {\n",
       "        vertical-align: top;\n",
       "    }\n",
       "</style>\n",
       "<table border=\"1\" class=\"dataframe\">\n",
       "  <thead>\n",
       "    <tr style=\"text-align: right;\">\n",
       "      <th></th>\n",
       "      <th>id_event</th>\n",
       "    </tr>\n",
       "  </thead>\n",
       "  <tbody>\n",
       "    <tr>\n",
       "      <th>count</th>\n",
       "      <td>116.000000</td>\n",
       "    </tr>\n",
       "    <tr>\n",
       "      <th>mean</th>\n",
       "      <td>0.097970</td>\n",
       "    </tr>\n",
       "    <tr>\n",
       "      <th>std</th>\n",
       "      <td>0.019987</td>\n",
       "    </tr>\n",
       "    <tr>\n",
       "      <th>min</th>\n",
       "      <td>0.046341</td>\n",
       "    </tr>\n",
       "    <tr>\n",
       "      <th>25%</th>\n",
       "      <td>0.084944</td>\n",
       "    </tr>\n",
       "    <tr>\n",
       "      <th>50%</th>\n",
       "      <td>0.099255</td>\n",
       "    </tr>\n",
       "    <tr>\n",
       "      <th>75%</th>\n",
       "      <td>0.107677</td>\n",
       "    </tr>\n",
       "    <tr>\n",
       "      <th>max</th>\n",
       "      <td>0.177219</td>\n",
       "    </tr>\n",
       "  </tbody>\n",
       "</table>\n",
       "</div>"
      ],
      "text/plain": [
       "         id_event\n",
       "count  116.000000\n",
       "mean     0.097970\n",
       "std      0.019987\n",
       "min      0.046341\n",
       "25%      0.084944\n",
       "50%      0.099255\n",
       "75%      0.107677\n",
       "max      0.177219"
      ]
     },
     "execution_count": 120,
     "metadata": {},
     "output_type": "execute_result"
    }
   ],
   "source": [
    "df_eficiencia_geral.describe()"
   ]
  },
  {
   "cell_type": "markdown",
   "metadata": {},
   "source": [
    "#### Reduzindo os dados por meio do histograma de eficiencia geral dos campeonatos"
   ]
  },
  {
   "cell_type": "code",
   "execution_count": 121,
   "metadata": {},
   "outputs": [
    {
     "data": {
      "image/png": "[encoded data removed]",
      "text/plain": [
       "<matplotlib.figure.Figure at 0x1f6ad5e39b0>"
      ]
     },
     "metadata": {},
     "output_type": "display_data"
    }
   ],
   "source": [
    "plt.title(\"Histograma de Eficiência de Finalizações\")\n",
    "plt.xlabel('Eficiência')\n",
    "plt.ylabel('Frequência')\n",
    "\n",
    "hist_eficiencia = plt.hist(df_eficiencia_geral['id_event'], facecolor=\"green\", bins = 50)\n"
   ]
  },
  {
   "cell_type": "code",
   "execution_count": 122,
   "metadata": {
    "collapsed": true
   },
   "outputs": [],
   "source": [
    "plt.show()"
   ]
  },
  {
   "cell_type": "code",
   "execution_count": 123,
   "metadata": {},
   "outputs": [
    {
     "data": {
      "text/plain": [
       "<matplotlib.axes._subplots.AxesSubplot at 0x1f683cc9ef0>"
      ]
     },
     "execution_count": 123,
     "metadata": {},
     "output_type": "execute_result"
    },
    {
     "data": {
      "image/png": "[encoded data removed]",
      "text/plain": [
       "<matplotlib.figure.Figure at 0x1f6ad5e5eb8>"
      ]
     },
     "metadata": {},
     "output_type": "display_data"
    }
   ],
   "source": [
    "df_eficiencia_geral.boxplot(column='id_event')"
   ]
  },
  {
   "cell_type": "code",
   "execution_count": 124,
   "metadata": {
    "collapsed": true
   },
   "outputs": [],
   "source": [
    "dfe = eficiencia_geral.to_frame()"
   ]
  },
  {
   "cell_type": "markdown",
   "metadata": {},
   "source": [
    "#### Time com maior eficiência"
   ]
  },
  {
   "cell_type": "code",
   "execution_count": 125,
   "metadata": {},
   "outputs": [
    {
     "data": {
      "text/html": [
       "<div>\n",
       "<style>\n",
       "    .dataframe thead tr:only-child th {\n",
       "        text-align: right;\n",
       "    }\n",
       "\n",
       "    .dataframe thead th {\n",
       "        text-align: left;\n",
       "    }\n",
       "\n",
       "    .dataframe tbody tr th {\n",
       "        vertical-align: top;\n",
       "    }\n",
       "</style>\n",
       "<table border=\"1\" class=\"dataframe\">\n",
       "  <thead>\n",
       "    <tr style=\"text-align: right;\">\n",
       "      <th></th>\n",
       "      <th>id_event</th>\n",
       "    </tr>\n",
       "    <tr>\n",
       "      <th>event_team</th>\n",
       "      <th></th>\n",
       "    </tr>\n",
       "  </thead>\n",
       "  <tbody>\n",
       "    <tr>\n",
       "      <th>Barcelona</th>\n",
       "      <td>0.177219</td>\n",
       "    </tr>\n",
       "    <tr>\n",
       "      <th>Bayern Munich</th>\n",
       "      <td>0.142811</td>\n",
       "    </tr>\n",
       "    <tr>\n",
       "      <th>Paris Saint-Germain</th>\n",
       "      <td>0.149398</td>\n",
       "    </tr>\n",
       "    <tr>\n",
       "      <th>RB Leipzig</th>\n",
       "      <td>0.142259</td>\n",
       "    </tr>\n",
       "    <tr>\n",
       "      <th>Real Madrid</th>\n",
       "      <td>0.151409</td>\n",
       "    </tr>\n",
       "  </tbody>\n",
       "</table>\n",
       "</div>"
      ],
      "text/plain": [
       "                     id_event\n",
       "event_team                   \n",
       "Barcelona            0.177219\n",
       "Bayern Munich        0.142811\n",
       "Paris Saint-Germain  0.149398\n",
       "RB Leipzig           0.142259\n",
       "Real Madrid          0.151409"
      ]
     },
     "execution_count": 125,
     "metadata": {},
     "output_type": "execute_result"
    }
   ],
   "source": [
    "dfe[(dfe['id_event'] > 0.14 )]"
   ]
  },
  {
   "cell_type": "markdown",
   "metadata": {},
   "source": [
    "* Barcelona            | Espanhol\n",
    "* Bayern Munich        | Alemão\n",
    "* Paris Saint-Germain  | Francês\n",
    "* RB Leipzig           | Alemão\n",
    "* Real Madrid          | Espanhol\n"
   ]
  },
  {
   "cell_type": "markdown",
   "metadata": {},
   "source": [
    "#### Time com menor eficiência"
   ]
  },
  {
   "cell_type": "code",
   "execution_count": 126,
   "metadata": {},
   "outputs": [
    {
     "data": {
      "text/html": [
       "<div>\n",
       "<style>\n",
       "    .dataframe thead tr:only-child th {\n",
       "        text-align: right;\n",
       "    }\n",
       "\n",
       "    .dataframe thead th {\n",
       "        text-align: left;\n",
       "    }\n",
       "\n",
       "    .dataframe tbody tr th {\n",
       "        vertical-align: top;\n",
       "    }\n",
       "</style>\n",
       "<table border=\"1\" class=\"dataframe\">\n",
       "  <thead>\n",
       "    <tr style=\"text-align: right;\">\n",
       "      <th></th>\n",
       "      <th>id_event</th>\n",
       "    </tr>\n",
       "    <tr>\n",
       "      <th>event_team</th>\n",
       "      <th></th>\n",
       "    </tr>\n",
       "  </thead>\n",
       "  <tbody>\n",
       "    <tr>\n",
       "      <th>Cordoba</th>\n",
       "      <td>0.048433</td>\n",
       "    </tr>\n",
       "    <tr>\n",
       "      <th>Kaiserslautern</th>\n",
       "      <td>0.046341</td>\n",
       "    </tr>\n",
       "  </tbody>\n",
       "</table>\n",
       "</div>"
      ],
      "text/plain": [
       "                id_event\n",
       "event_team              \n",
       "Cordoba         0.048433\n",
       "Kaiserslautern  0.046341"
      ]
     },
     "execution_count": 126,
     "metadata": {},
     "output_type": "execute_result"
    }
   ],
   "source": [
    "dfe[(dfe['id_event'] < 0.06 )]"
   ]
  },
  {
   "cell_type": "markdown",
   "metadata": {},
   "source": [
    "* Cordoba | Espanhol\n",
    "* Kaiserslautern | Alemão"
   ]
  },
  {
   "cell_type": "markdown",
   "metadata": {},
   "source": [
    "##### Percebe-se que um dos prováveis motivos de o Barcelona ser um dos melhores clubes do mundo pode estar diretamente relacionado ao alto índice de precisão em finalizações, acima da média dos demais clubes, sendo visto como outlier, conseguindo marcar 2 gols a cada 10 finalizações, em um quantitativo de 5 temporadas."
   ]
  },
  {
   "cell_type": "code",
   "execution_count": null,
   "metadata": {
    "collapsed": true
   },
   "outputs": [],
   "source": []
  },
  {
   "cell_type": "markdown",
   "metadata": {},
   "source": [
    "# 2.\tQUAIS LIGAS TEM OS JOGOS MAIS VIOLENTOS?\n"
   ]
  },
  {
   "cell_type": "code",
   "execution_count": null,
   "metadata": {
    "collapsed": true
   },
   "outputs": [],
   "source": []
  },
  {
   "cell_type": "code",
   "execution_count": 127,
   "metadata": {
    "collapsed": true
   },
   "outputs": [],
   "source": [
    "falta = 3\n",
    "df_faltas = df_nova_eventos[(df_nova_eventos['event_type'] == falta)]"
   ]
  },
  {
   "cell_type": "markdown",
   "metadata": {},
   "source": [
    "#### Criando um DT associativo entre os dataframes"
   ]
  },
  {
   "cell_type": "code",
   "execution_count": 128,
   "metadata": {
    "collapsed": true
   },
   "outputs": [],
   "source": [
    "##df_ff = df_faltas[(df_faltas['id_odsp'] == 'UFot0hit/')]"
   ]
  },
  {
   "cell_type": "code",
   "execution_count": 129,
   "metadata": {
    "collapsed": true
   },
   "outputs": [],
   "source": [
    "df_faltas_union = pd.merge(df_faltas, df_dados_partida, how='inner', on=['id_odsp', 'id_odsp'])"
   ]
  },
  {
   "cell_type": "code",
   "execution_count": 130,
   "metadata": {
    "collapsed": true
   },
   "outputs": [],
   "source": [
    "df_faltas_agrupadas = df_faltas_union.groupby(['event_team'])"
   ]
  },
  {
   "cell_type": "code",
   "execution_count": 131,
   "metadata": {
    "collapsed": true
   },
   "outputs": [],
   "source": [
    " #DATAFRAMES DE FALTAS DO CAMPEONATO ALEMÃO\n",
    "df_faltas_alema_2012 = df_faltas_union[(df_faltas_union['league'] == alema) & \n",
    "                                       (df_faltas_union['season'] == 2012)]\n",
    "df_faltas_alema_2013 = df_faltas_union[(df_faltas_union['league'] == alema) & \n",
    "                                       (df_faltas_union['season'] == 2013)]\n",
    "df_faltas_alema_2014 = df_faltas_union[(df_faltas_union['league'] == alema) & \n",
    "                                       (df_faltas_union['season'] == 2014)]\n",
    "df_faltas_alema_2015 = df_faltas_union[(df_faltas_union['league'] == alema) & \n",
    "                                       (df_faltas_union['season'] == 2015)]\n",
    "df_faltas_alema_2016 = df_faltas_union[(df_faltas_union['league'] == alema) & \n",
    "                                       (df_faltas_union['season'] == 2016)]\n",
    "\n",
    "#DATAFRAMES DE FALTAS DO CAMPEONATO INGLES\n",
    "df_faltas_inglesa_2012 = df_faltas_union[(df_faltas_union['league'] == inglesa) & \n",
    "                                       (df_faltas_union['season'] == 2012)]\n",
    "df_faltas_inglesa_2013 = df_faltas_union[(df_faltas_union['league'] == inglesa) & \n",
    "                                       (df_faltas_union['season'] == 2013)]\n",
    "df_faltas_inglesa_2014 = df_faltas_union[(df_faltas_union['league'] == inglesa) & \n",
    "                                       (df_faltas_union['season'] == 2014)]\n",
    "df_faltas_inglesa_2015 = df_faltas_union[(df_faltas_union['league'] == inglesa) & \n",
    "                                       (df_faltas_union['season'] == 2015)]\n",
    "df_faltas_inglesa_2016 = df_faltas_union[(df_faltas_union['league'] == inglesa) & \n",
    "                                       (df_faltas_union['season'] == 2016)]\n",
    "    \n",
    "#DATAFRAMES DE FALTAS DO CAMPEONATO ESPANHOL\n",
    "df_faltas_espanhola_2012 = df_faltas_union[(df_faltas_union['league'] == espanhola) & \n",
    "                                       (df_faltas_union['season'] == 2012)]\n",
    "df_faltas_espanhola_2013 = df_faltas_union[(df_faltas_union['league'] == espanhola) & \n",
    "                                       (df_faltas_union['season'] == 2013)]\n",
    "df_faltas_espanhola_2014 = df_faltas_union[(df_faltas_union['league'] == espanhola) & \n",
    "                                       (df_faltas_union['season'] == 2014)]\n",
    "df_faltas_espanhola_2015 = df_faltas_union[(df_faltas_union['league'] == espanhola) & \n",
    "                                       (df_faltas_union['season'] == 2015)]\n",
    "df_faltas_espanhola_2016 = df_faltas_union[(df_faltas_union['league'] == espanhola) & \n",
    "                                       (df_faltas_union['season'] == 2016)]\n",
    "\n",
    "#DATAFRAMES DE FALTAS DO CAMPEONATO ITALIANO  \n",
    "df_faltas_italiana_2012 = df_faltas_union[(df_faltas_union['league'] == italiana) & \n",
    "                                       (df_faltas_union['season'] == 2012)]\n",
    "df_faltas_italiana_2013 = df_faltas_union[(df_faltas_union['league'] == italiana) & \n",
    "                                       (df_faltas_union['season'] == 2013)]\n",
    "df_faltas_italiana_2014 = df_faltas_union[(df_faltas_union['league'] == italiana) & \n",
    "                                       (df_faltas_union['season'] == 2014)]\n",
    "df_faltas_italiana_2015 = df_faltas_union[(df_faltas_union['league'] == italiana) & \n",
    "                                       (df_faltas_union['season'] == 2015)]\n",
    "df_faltas_italiana_2016 = df_faltas_union[(df_faltas_union['league'] == italiana) & \n",
    "                                       (df_faltas_union['season'] == 2016)]\n",
    "    \n",
    "#DATAFRAMES DE FALTAS DO CAMPEONATO FRANCES\n",
    "df_faltas_francesa_2012 = df_faltas_union[(df_faltas_union['league'] == francesa) & \n",
    "                                       (df_faltas_union['season'] == 2012)]\n",
    "df_faltas_francesa_2013 = df_faltas_union[(df_faltas_union['league'] == francesa) & \n",
    "                                       (df_faltas_union['season'] == 2013)]\n",
    "df_faltas_francesa_2014 = df_faltas_union[(df_faltas_union['league'] == francesa) & \n",
    "                                       (df_faltas_union['season'] == 2014)]\n",
    "df_faltas_francesa_2015 = df_faltas_union[(df_faltas_union['league'] == francesa) & \n",
    "                                       (df_faltas_union['season'] == 2015)]\n",
    "df_faltas_francesa_2016 = df_faltas_union[(df_faltas_union['league'] == francesa) & \n",
    "                                       (df_faltas_union['season'] == 2016)]"
   ]
  },
  {
   "cell_type": "markdown",
   "metadata": {},
   "source": [
    "#### Contando as partidas do campeonato alemão"
   ]
  },
  {
   "cell_type": "code",
   "execution_count": 132,
   "metadata": {
    "collapsed": true
   },
   "outputs": [],
   "source": [
    "df_partidas_alema_2012 = df_dados_partida[(df_dados_partida['league'] == alema) & (df_dados_partida['season'] == 2012)]\n",
    "df_partidas_alema_2013 = df_dados_partida[(df_dados_partida['league'] == alema) & (df_dados_partida['season'] == 2013)]\n",
    "df_partidas_alema_2014 = df_dados_partida[(df_dados_partida['league'] == alema) & (df_dados_partida['season'] == 2014)]\n",
    "df_partidas_alema_2015 = df_dados_partida[(df_dados_partida['league'] == alema) & (df_dados_partida['season'] == 2015)]\n",
    "df_partidas_alema_2016 = df_dados_partida[(df_dados_partida['league'] == alema) & (df_dados_partida['season'] == 2016)]\n",
    "\n",
    "alema_league_2012 = df_partidas_alema_2012['id_odsp'].count()\n",
    "alema_league_2013 = df_partidas_alema_2012['id_odsp'].count()\n",
    "alema_league_2014 = df_partidas_alema_2012['id_odsp'].count()\n",
    "alema_league_2015 = df_partidas_alema_2012['id_odsp'].count()\n",
    "alema_league_2016 = df_partidas_alema_2012['id_odsp'].count()\n"
   ]
  },
  {
   "cell_type": "code",
   "execution_count": 133,
   "metadata": {
    "collapsed": true
   },
   "outputs": [],
   "source": [
    "indice_alema_2012 = df_faltas_alema_2012['id_odsp'].count()/alema_league_2012\n",
    "indice_alema_2013 = df_faltas_alema_2013['id_odsp'].count()/alema_league_2013\n",
    "indice_alema_2014 = df_faltas_alema_2014['id_odsp'].count()/alema_league_2014\n",
    "indice_alema_2015 = df_faltas_alema_2015['id_odsp'].count()/alema_league_2015\n",
    "indice_alema_2016 = df_faltas_alema_2016['id_odsp'].count()/alema_league_2016"
   ]
  },
  {
   "cell_type": "markdown",
   "metadata": {},
   "source": [
    "#### Contando as partidas do campeonato Inglês"
   ]
  },
  {
   "cell_type": "code",
   "execution_count": 134,
   "metadata": {
    "collapsed": true
   },
   "outputs": [],
   "source": [
    "df_partidas_inglesa_2012 = df_dados_partida[(df_dados_partida['league'] == inglesa) & (df_dados_partida['season'] == 2012)]\n",
    "df_partidas_inglesa_2013 = df_dados_partida[(df_dados_partida['league'] == inglesa) & (df_dados_partida['season'] == 2013)]\n",
    "df_partidas_inglesa_2014 = df_dados_partida[(df_dados_partida['league'] == inglesa) & (df_dados_partida['season'] == 2014)]\n",
    "df_partidas_inglesa_2015 = df_dados_partida[(df_dados_partida['league'] == inglesa) & (df_dados_partida['season'] == 2015)]\n",
    "df_partidas_inglesa_2016 = df_dados_partida[(df_dados_partida['league'] == inglesa) & (df_dados_partida['season'] == 2016)]\n",
    "\n",
    "inglesa_league_2012 = df_partidas_inglesa_2012['id_odsp'].count()\n",
    "inglesa_league_2013 = df_partidas_inglesa_2012['id_odsp'].count()\n",
    "inglesa_league_2014 = df_partidas_inglesa_2012['id_odsp'].count()\n",
    "inglesa_league_2015 = df_partidas_inglesa_2012['id_odsp'].count()\n",
    "inglesa_league_2016 = df_partidas_inglesa_2012['id_odsp'].count()"
   ]
  },
  {
   "cell_type": "code",
   "execution_count": 135,
   "metadata": {
    "collapsed": true
   },
   "outputs": [],
   "source": [
    "indice_inglesa_2012 = df_faltas_inglesa_2012['id_odsp'].count()/inglesa_league_2012\n",
    "indice_inglesa_2013 = df_faltas_inglesa_2013['id_odsp'].count()/inglesa_league_2013\n",
    "indice_inglesa_2014 = df_faltas_inglesa_2014['id_odsp'].count()/inglesa_league_2014\n",
    "indice_inglesa_2015 = df_faltas_inglesa_2015['id_odsp'].count()/inglesa_league_2015\n",
    "indice_inglesa_2016 = df_faltas_inglesa_2016['id_odsp'].count()/inglesa_league_2016"
   ]
  },
  {
   "cell_type": "markdown",
   "metadata": {},
   "source": [
    "#### Contando as partidas do campeonato Espanhol"
   ]
  },
  {
   "cell_type": "code",
   "execution_count": 136,
   "metadata": {
    "collapsed": true
   },
   "outputs": [],
   "source": [
    "df_partidas_espanhola_2012 = df_dados_partida[(df_dados_partida['league'] == espanhola) & (df_dados_partida['season'] == 2012)]\n",
    "df_partidas_espanhola_2013 = df_dados_partida[(df_dados_partida['league'] == espanhola) & (df_dados_partida['season'] == 2013)]\n",
    "df_partidas_espanhola_2014 = df_dados_partida[(df_dados_partida['league'] == espanhola) & (df_dados_partida['season'] == 2014)]\n",
    "df_partidas_espanhola_2015 = df_dados_partida[(df_dados_partida['league'] == espanhola) & (df_dados_partida['season'] == 2015)]\n",
    "df_partidas_espanhola_2016 = df_dados_partida[(df_dados_partida['league'] == espanhola) & (df_dados_partida['season'] == 2016)]\n",
    "\n",
    "espanhola_league_2012 = df_partidas_espanhola_2012['id_odsp'].count()\n",
    "espanhola_league_2013 = df_partidas_espanhola_2012['id_odsp'].count()\n",
    "espanhola_league_2014 = df_partidas_espanhola_2012['id_odsp'].count()\n",
    "espanhola_league_2015 = df_partidas_espanhola_2012['id_odsp'].count()\n",
    "espanhola_league_2016 = df_partidas_espanhola_2012['id_odsp'].count()"
   ]
  },
  {
   "cell_type": "code",
   "execution_count": 137,
   "metadata": {
    "collapsed": true
   },
   "outputs": [],
   "source": [
    "indice_espanhola_2012 = df_faltas_espanhola_2012['id_odsp'].count()/espanhola_league_2012\n",
    "indice_espanhola_2013 = df_faltas_espanhola_2013['id_odsp'].count()/espanhola_league_2013\n",
    "indice_espanhola_2014 = df_faltas_espanhola_2014['id_odsp'].count()/espanhola_league_2014\n",
    "indice_espanhola_2015 = df_faltas_espanhola_2015['id_odsp'].count()/espanhola_league_2015\n",
    "indice_espanhola_2016 = df_faltas_espanhola_2016['id_odsp'].count()/espanhola_league_2016"
   ]
  },
  {
   "cell_type": "markdown",
   "metadata": {},
   "source": [
    "#### Contando partidas do campeonato Italiano"
   ]
  },
  {
   "cell_type": "code",
   "execution_count": 138,
   "metadata": {
    "collapsed": true
   },
   "outputs": [],
   "source": [
    "df_partidas_italiana_2012 = df_dados_partida[(df_dados_partida['league'] == italiana) & (df_dados_partida['season'] == 2012)]\n",
    "df_partidas_italiana_2013 = df_dados_partida[(df_dados_partida['league'] == italiana) & (df_dados_partida['season'] == 2013)]\n",
    "df_partidas_italiana_2014 = df_dados_partida[(df_dados_partida['league'] == italiana) & (df_dados_partida['season'] == 2014)]\n",
    "df_partidas_italiana_2015 = df_dados_partida[(df_dados_partida['league'] == italiana) & (df_dados_partida['season'] == 2015)]\n",
    "df_partidas_italiana_2016 = df_dados_partida[(df_dados_partida['league'] == italiana) & (df_dados_partida['season'] == 2016)]\n",
    "\n",
    "italiana_league_2012 = df_partidas_italiana_2012['id_odsp'].count()\n",
    "italiana_league_2013 = df_partidas_italiana_2012['id_odsp'].count()\n",
    "italiana_league_2014 = df_partidas_italiana_2012['id_odsp'].count()\n",
    "italiana_league_2015 = df_partidas_italiana_2012['id_odsp'].count()\n",
    "italiana_league_2016 = df_partidas_italiana_2012['id_odsp'].count()"
   ]
  },
  {
   "cell_type": "code",
   "execution_count": 139,
   "metadata": {
    "collapsed": true
   },
   "outputs": [],
   "source": [
    "indice_italiana_2012 = df_faltas_italiana_2012['id_odsp'].count()/italiana_league_2012\n",
    "indice_italiana_2013 = df_faltas_italiana_2013['id_odsp'].count()/italiana_league_2013\n",
    "indice_italiana_2014 = df_faltas_italiana_2014['id_odsp'].count()/italiana_league_2014\n",
    "indice_italiana_2015 = df_faltas_italiana_2015['id_odsp'].count()/italiana_league_2015\n",
    "indice_italiana_2016 = df_faltas_italiana_2016['id_odsp'].count()/italiana_league_2016"
   ]
  },
  {
   "cell_type": "markdown",
   "metadata": {},
   "source": [
    "#### Contando partidas do campeonato Frances"
   ]
  },
  {
   "cell_type": "code",
   "execution_count": 140,
   "metadata": {
    "collapsed": true
   },
   "outputs": [],
   "source": [
    "df_partidas_francesa_2012 = df_dados_partida[(df_dados_partida['league'] == francesa) & (df_dados_partida['season'] == 2012)]\n",
    "df_partidas_francesa_2013 = df_dados_partida[(df_dados_partida['league'] == francesa) & (df_dados_partida['season'] == 2013)]\n",
    "df_partidas_francesa_2014 = df_dados_partida[(df_dados_partida['league'] == francesa) & (df_dados_partida['season'] == 2014)]\n",
    "df_partidas_francesa_2015 = df_dados_partida[(df_dados_partida['league'] == francesa) & (df_dados_partida['season'] == 2015)]\n",
    "df_partidas_francesa_2016 = df_dados_partida[(df_dados_partida['league'] == francesa) & (df_dados_partida['season'] == 2016)]\n",
    "\n",
    "francesa_league_2012 = df_partidas_francesa_2012['id_odsp'].count()\n",
    "francesa_league_2013 = df_partidas_francesa_2012['id_odsp'].count()\n",
    "francesa_league_2014 = df_partidas_francesa_2012['id_odsp'].count()\n",
    "francesa_league_2015 = df_partidas_francesa_2012['id_odsp'].count()\n",
    "francesa_league_2016 = df_partidas_francesa_2012['id_odsp'].count()"
   ]
  },
  {
   "cell_type": "code",
   "execution_count": 141,
   "metadata": {
    "collapsed": true
   },
   "outputs": [],
   "source": [
    "indice_francesa_2012 = df_faltas_francesa_2012['id_odsp'].count()/francesa_league_2012\n",
    "indice_francesa_2013 = df_faltas_francesa_2013['id_odsp'].count()/francesa_league_2013\n",
    "indice_francesa_2014 = df_faltas_francesa_2014['id_odsp'].count()/francesa_league_2014\n",
    "indice_francesa_2015 = df_faltas_francesa_2015['id_odsp'].count()/francesa_league_2015\n",
    "indice_francesa_2016 = df_faltas_francesa_2016['id_odsp'].count()/francesa_league_2016"
   ]
  },
  {
   "cell_type": "code",
   "execution_count": 142,
   "metadata": {},
   "outputs": [
    {
     "data": {
      "text/plain": [
       "26.388888888888889"
      ]
     },
     "execution_count": 142,
     "metadata": {},
     "output_type": "execute_result"
    }
   ],
   "source": [
    "indice_alema_2016"
   ]
  },
  {
   "cell_type": "markdown",
   "metadata": {},
   "source": [
    "#### Criando dataframes separando os índices médios de Faltas cometidas nas ligas por temporada"
   ]
  },
  {
   "cell_type": "code",
   "execution_count": 143,
   "metadata": {
    "collapsed": true
   },
   "outputs": [],
   "source": [
    "#Liga ALEMÃ\n",
    "faltas_alema = pd.DataFrame(\n",
    "    {\n",
    "    \"ano\": ['2012', '2013', '2014', '2015', '2016'],\n",
    "    \"indice\": [indice_alema_2012, indice_alema_2013, indice_alema_2014, indice_alema_2015, indice_alema_2016]\n",
    "    }\n",
    ")"
   ]
  },
  {
   "cell_type": "code",
   "execution_count": 144,
   "metadata": {
    "collapsed": true
   },
   "outputs": [],
   "source": [
    "#Liga INGLESA\n",
    "faltas_inglesa = pd.DataFrame(\n",
    "    {\n",
    "    \"ano\": ['2012', '2013', '2014', '2015', '2016'],\n",
    "    \"indice\": [indice_inglesa_2012, indice_inglesa_2013, indice_inglesa_2014, indice_inglesa_2015, indice_inglesa_2016]\n",
    "    }\n",
    ")"
   ]
  },
  {
   "cell_type": "code",
   "execution_count": 145,
   "metadata": {
    "collapsed": true
   },
   "outputs": [],
   "source": [
    "#Liga ESPANHOLA\n",
    "faltas_espanhola = pd.DataFrame(\n",
    "    {\n",
    "    \"ano\": ['2012', '2013', '2014', '2015', '2016'],\n",
    "    \"indice\": [indice_espanhola_2012, indice_espanhola_2013, indice_espanhola_2014, indice_espanhola_2015, indice_espanhola_2016]\n",
    "    }\n",
    ")"
   ]
  },
  {
   "cell_type": "code",
   "execution_count": 146,
   "metadata": {
    "collapsed": true
   },
   "outputs": [],
   "source": [
    "#Liga ITALIANA\n",
    "faltas_italiana = pd.DataFrame(\n",
    "    {\n",
    "    \"ano\": ['2012', '2013', '2014', '2015', '2016'],\n",
    "    \"indice\": [indice_italiana_2012, indice_italiana_2013, indice_italiana_2014, indice_italiana_2015, indice_italiana_2016]\n",
    "    }\n",
    ")"
   ]
  },
  {
   "cell_type": "code",
   "execution_count": 147,
   "metadata": {
    "collapsed": true
   },
   "outputs": [],
   "source": [
    "#Liga FRANCESA\n",
    "faltas_francesa = pd.DataFrame(\n",
    "    {\n",
    "    \"ano\": ['2012', '2013', '2014', '2015', '2016'],\n",
    "    \"indice\": [indice_francesa_2012, indice_francesa_2013, indice_francesa_2014, indice_francesa_2015, indice_francesa_2016]\n",
    "    }\n",
    ")"
   ]
  },
  {
   "cell_type": "markdown",
   "metadata": {},
   "source": [
    "#### Plotando um gráfico de linhas resumindo os dados das médias de faltas de cada liga"
   ]
  },
  {
   "cell_type": "code",
   "execution_count": 148,
   "metadata": {},
   "outputs": [
    {
     "data": {
      "text/plain": [
       "<matplotlib.legend.Legend at 0x1f6cc935da0>"
      ]
     },
     "execution_count": 148,
     "metadata": {},
     "output_type": "execute_result"
    },
    {
     "data": {
      "image/png": "[encoded data removed]",
      "text/plain": [
       "<matplotlib.figure.Figure at 0x1f6852c45f8>"
      ]
     },
     "metadata": {},
     "output_type": "display_data"
    }
   ],
   "source": [
    "eixo_temporadas = faltas_alema['ano']\n",
    "plt.plot(eixo_temporadas, faltas_alema['indice'], 'go')\n",
    "plt.plot(eixo_temporadas, faltas_alema['indice'], '--', color='green')\n",
    "\n",
    "#plt.plot(eixo_temporadas, faltas_inglesa['indice'], 'bo')\n",
    "#plt.plot(eixo_temporadas, faltas_inglesa['indice'], 'k:', color='blue')\n",
    "\n",
    "plt.plot(eixo_temporadas, faltas_espanhola['indice'], 'ro')\n",
    "plt.plot(eixo_temporadas, faltas_espanhola['indice'], '--', color='red')\n",
    "\n",
    "plt.plot(eixo_temporadas, faltas_italiana['indice'], 'yo')\n",
    "plt.plot(eixo_temporadas, faltas_italiana['indice'], '--', color='orange')\n",
    "\n",
    "plt.plot(eixo_temporadas, faltas_francesa['indice'], 'mo')\n",
    "plt.plot(eixo_temporadas, faltas_francesa['indice'], '--', color='magenta')\n",
    "\n",
    "plt.title(\"índices de Faltas\")\n",
    "\n",
    "##plt.axis([eixo_temporadas.min(), eixo_temporadas.max(), 22, 30])\n",
    "\n",
    "plt.grid(True)\n",
    "plt.xlabel(\"Temporadas\")\n",
    "plt.ylabel(\"Média de Faltas\")\n",
    "\n",
    "verde_patch = mpatches.Patch(color='green', label='Campeonato Alemão')\n",
    "vermelho_patch = mpatches.Patch(color='red', label='Campeonato Espanhol')\n",
    "laranja_patch = mpatches.Patch(color='orange', label='Campeonato Italiano')\n",
    "magenta_patch = mpatches.Patch(color='magenta', label='Campeonato Francês')\n",
    "\n",
    "plt.legend(handles=[verde_patch, vermelho_patch, laranja_patch, magenta_patch])"
   ]
  },
  {
   "cell_type": "markdown",
   "metadata": {},
   "source": [
    "# 3.\tQUAIS OS JOGADORES MAIS FALTOSOS?\n",
    "\n"
   ]
  },
  {
   "cell_type": "code",
   "execution_count": 207,
   "metadata": {},
   "outputs": [],
   "source": [
    "df_rank_faltas_alema_2012 = df_faltas_alema_2012.groupby(['player']).count()"
   ]
  },
  {
   "cell_type": "code",
   "execution_count": 222,
   "metadata": {},
   "outputs": [],
   "source": [
    "df_rank_faltas_alema_2012 = df_rank_faltas_alema_2012['id_odsp']"
   ]
  },
  {
   "cell_type": "markdown",
   "metadata": {},
   "source": [
    "#### Verificando jogador mais faltoso"
   ]
  },
  {
   "cell_type": "code",
   "execution_count": 228,
   "metadata": {},
   "outputs": [
    {
     "data": {
      "text/plain": [
       "player\n",
       "mario mandzukic    80\n",
       "Name: id_odsp, dtype: int64"
      ]
     },
     "execution_count": 228,
     "metadata": {},
     "output_type": "execute_result"
    }
   ],
   "source": [
    "filtro_max_faltas_alema_2012 = df_rank_faltas_alema_2012[(df_rank_faltas_alema_2012 == max(df_rank_faltas_alema_2012))]\n",
    "filtro_max_faltas_alema_2012"
   ]
  },
  {
   "cell_type": "markdown",
   "metadata": {},
   "source": [
    "** Mario Mandzukic  | Atacante | Bayern de Munique | 80 Faltas | Segundo a análise, o jogador mais faltoso de 2012.**\n",
    "\n",
    "**Acreditava que seria um volante ou zagueiro**."
   ]
  },
  {
   "cell_type": "code",
   "execution_count": 234,
   "metadata": {},
   "outputs": [
    {
     "data": {
      "text/plain": [
       "player\n",
       "stefan kiessling    79\n",
       "Name: id_odsp, dtype: int64"
      ]
     },
     "execution_count": 234,
     "metadata": {},
     "output_type": "execute_result"
    }
   ],
   "source": [
    "df_rank_faltas_alema_2013 = df_faltas_alema_2013.groupby(['player']).count()\n",
    "df_rank_faltas_alema_2013 = df_rank_faltas_alema_2013['id_odsp']\n",
    "\n",
    "filtro_max_faltas_alema_2013 = df_rank_faltas_alema_2013[(df_rank_faltas_alema_2013 == max(df_rank_faltas_alema_2013))]\n",
    "filtro_max_faltas_alema_2013"
   ]
  },
  {
   "cell_type": "markdown",
   "metadata": {},
   "source": [
    "**Stefan Kiessling | Atacante | Bayer Leverkusen | 79 Faltas | Segundo a análise, o jogador mais faltoso de 2013.**"
   ]
  },
  {
   "cell_type": "markdown",
   "metadata": {},
   "source": [
    "#### Calculando os valores de 2014"
   ]
  },
  {
   "cell_type": "code",
   "execution_count": 236,
   "metadata": {},
   "outputs": [
    {
     "data": {
      "text/plain": [
       "player\n",
       "perparim hetemaj    99\n",
       "Name: id_odsp, dtype: int64"
      ]
     },
     "execution_count": 236,
     "metadata": {},
     "output_type": "execute_result"
    }
   ],
   "source": [
    "df_rank_faltas_italiana_2014 = df_faltas_italiana_2014.groupby(['player']).count()\n",
    "df_rank_faltas_italiana_2014 = df_rank_faltas_italiana_2014['id_odsp']\n",
    "\n",
    "filtro_max_faltas_italiana_2014 = df_rank_faltas_italiana_2014[(df_rank_faltas_italiana_2014 == max(df_rank_faltas_italiana_2014))]\n",
    "filtro_max_faltas_italiana_2014"
   ]
  },
  {
   "cell_type": "markdown",
   "metadata": {},
   "source": [
    "** Përparim Hetemaj | Chievo | Meia | 99 Faltas | Segundo a análise, o jogador mais faltoso de 2014.**"
   ]
  },
  {
   "cell_type": "markdown",
   "metadata": {},
   "source": [
    "** Calculando valores para 2015**"
   ]
  },
  {
   "cell_type": "code",
   "execution_count": 238,
   "metadata": {},
   "outputs": [
    {
     "data": {
      "text/plain": [
       "player\n",
       "stefano okaka    87\n",
       "Name: id_odsp, dtype: int64"
      ]
     },
     "execution_count": 238,
     "metadata": {},
     "output_type": "execute_result"
    }
   ],
   "source": [
    "df_rank_faltas_italiana_2015 = df_faltas_italiana_2015.groupby(['player']).count()\n",
    "df_rank_faltas_italiana_2015 = df_rank_faltas_italiana_2015['id_odsp']\n",
    "\n",
    "filtro_max_faltas_italiana_2015 = df_rank_faltas_italiana_2015[(df_rank_faltas_italiana_2015 == max(df_rank_faltas_italiana_2015))]\n",
    "filtro_max_faltas_italiana_2015"
   ]
  },
  {
   "cell_type": "markdown",
   "metadata": {},
   "source": [
    "**Stefano Okaka | Sampdoria  | Atacante  | 87 Faltas  | Segundo a análise, o jogador mais faltoso de 2015.**"
   ]
  },
  {
   "cell_type": "markdown",
   "metadata": {},
   "source": [
    "**Calculando valores de 2016.**"
   ]
  },
  {
   "cell_type": "code",
   "execution_count": 241,
   "metadata": {},
   "outputs": [
    {
     "data": {
      "text/plain": [
       "player\n",
       "franco vazquez    107\n",
       "Name: id_odsp, dtype: int64"
      ]
     },
     "execution_count": 241,
     "metadata": {},
     "output_type": "execute_result"
    }
   ],
   "source": [
    "df_rank_faltas_italiana_2016 = df_faltas_italiana_2016.groupby(['player']).count()\n",
    "df_rank_faltas_italiana_2016 = df_rank_faltas_italiana_2016['id_odsp']\n",
    "\n",
    "filtro_max_faltas_italiana_2016 = df_rank_faltas_italiana_2016[(df_rank_faltas_italiana_2016 == max(df_rank_faltas_italiana_2016))]\n",
    "filtro_max_faltas_italiana_2016"
   ]
  },
  {
   "cell_type": "markdown",
   "metadata": {},
   "source": [
    "**Franco Vazquez | Palermo | Meia  | 107 Faltas  | Segundo a análise, o jogador mais faltoso de 2016.**"
   ]
  },
  {
   "cell_type": "markdown",
   "metadata": {},
   "source": [
    "# 4.\tQUAL JOGADOR MAIS COMETEU FALTAS DE TODAS AS TEMPORADAS E DE TODAS AS LIGAS?"
   ]
  },
  {
   "cell_type": "markdown",
   "metadata": {},
   "source": [
    "**Respondido anteriormente.**"
   ]
  },
  {
   "cell_type": "markdown",
   "metadata": {},
   "source": [
    "# 5.\tENTRE OS JOGADORES MAIS FALTOSOS DO CAMPEONATO INGLÊS, ITALIANO E O ESPANHOL, QUAL TEM O MELHOR DESEMPENHO?"
   ]
  },
  {
   "cell_type": "markdown",
   "metadata": {},
   "source": [
    "# 6.\tQUAIS CLUBES ACERTAM MAIS ESCANTEIOS?\n"
   ]
  },
  {
   "cell_type": "code",
   "execution_count": 150,
   "metadata": {
    "collapsed": true
   },
   "outputs": [],
   "source": [
    "df_escanteios = df_nova_eventos[(df_nova_eventos['event_type'] == escanteio)]\n",
    "escanteios = pd.merge(df_escanteios, df_dados_partida, how='inner', on=['id_odsp', 'id_odsp'])"
   ]
  },
  {
   "cell_type": "code",
   "execution_count": 151,
   "metadata": {
    "collapsed": true
   },
   "outputs": [],
   "source": [
    "df_ligas_escanteios = escanteios.groupby(['event_team', 'season']).count()"
   ]
  },
  {
   "cell_type": "markdown",
   "metadata": {
    "collapsed": true
   },
   "source": [
    "#### Coletando os dados referente a escanteios que foram gols"
   ]
  },
  {
   "cell_type": "code",
   "execution_count": 152,
   "metadata": {
    "collapsed": true
   },
   "outputs": [],
   "source": [
    "corner_left_bottom = 3\n",
    "corner_left_top = 4\n",
    "corner_rigth_bottom = 12\n",
    "corner_rigth_top = 13\n",
    "#3\tBottom left corner\n",
    "#4\tBottom right corner\n",
    "#12\tTop left corner\n",
    "#13\tTop right corner\n",
    "\n",
    "df_assistencia_escanteio = df_gols[(df_gols['assist_method'] == 2)  & \n",
    "        ((df_gols['shot_place'] >= corner_left_bottom) & (df_gols['shot_place'] <= corner_left_top) | \n",
    "         (df_gols['shot_place'] >= corner_rigth_bottom) & (df_gols['shot_place'] <= corner_rigth_top))]"
   ]
  },
  {
   "cell_type": "markdown",
   "metadata": {},
   "source": [
    "#### Criando dataframe associativo dos dados"
   ]
  },
  {
   "cell_type": "code",
   "execution_count": null,
   "metadata": {
    "collapsed": true
   },
   "outputs": [],
   "source": []
  },
  {
   "cell_type": "markdown",
   "metadata": {},
   "source": [
    "#### Pegando valores dos escanteios que não resultaram em gols"
   ]
  },
  {
   "cell_type": "code",
   "execution_count": 153,
   "metadata": {
    "collapsed": true
   },
   "outputs": [],
   "source": [
    "df_escanteios = df_juncao[(df_juncao['is_goal'] == gol_false) & \n",
    "                            (df_juncao['shot_place'] >= corner_left_bottom) & (df_juncao['shot_place'] <= corner_left_top)\n",
    "                          |(df_juncao['shot_place'] >= corner_rigth_bottom) & (df_juncao['shot_place'] <= corner_rigth_top)]\n",
    "                            "
   ]
  },
  {
   "cell_type": "code",
   "execution_count": 154,
   "metadata": {},
   "outputs": [
    {
     "data": {
      "text/html": [
       "<div>\n",
       "<style>\n",
       "    .dataframe thead tr:only-child th {\n",
       "        text-align: right;\n",
       "    }\n",
       "\n",
       "    .dataframe thead th {\n",
       "        text-align: left;\n",
       "    }\n",
       "\n",
       "    .dataframe tbody tr th {\n",
       "        vertical-align: top;\n",
       "    }\n",
       "</style>\n",
       "<table border=\"1\" class=\"dataframe\">\n",
       "  <thead>\n",
       "    <tr style=\"text-align: right;\">\n",
       "      <th></th>\n",
       "      <th>id_odsp</th>\n",
       "      <th>id_event</th>\n",
       "      <th>sort_order</th>\n",
       "      <th>text</th>\n",
       "      <th>event_type</th>\n",
       "      <th>event_type2</th>\n",
       "      <th>side</th>\n",
       "      <th>event_team</th>\n",
       "      <th>opponent</th>\n",
       "      <th>player</th>\n",
       "      <th>...</th>\n",
       "      <th>at</th>\n",
       "      <th>fthg</th>\n",
       "      <th>ftag</th>\n",
       "      <th>odd_h</th>\n",
       "      <th>odd_d</th>\n",
       "      <th>odd_a</th>\n",
       "      <th>odd_over</th>\n",
       "      <th>odd_under</th>\n",
       "      <th>odd_bts</th>\n",
       "      <th>odd_bts_n</th>\n",
       "    </tr>\n",
       "  </thead>\n",
       "  <tbody>\n",
       "    <tr>\n",
       "      <th>11</th>\n",
       "      <td>UFot0hit/</td>\n",
       "      <td>UFot0hit12</td>\n",
       "      <td>12</td>\n",
       "      <td>Attempt missed. Shinji Kagawa (Borussia Dortmu...</td>\n",
       "      <td>1</td>\n",
       "      <td>12.0</td>\n",
       "      <td>1</td>\n",
       "      <td>Borussia Dortmund</td>\n",
       "      <td>Hamburg SV</td>\n",
       "      <td>shinji kagawa</td>\n",
       "      <td>...</td>\n",
       "      <td>Hamburg SV</td>\n",
       "      <td>3</td>\n",
       "      <td>1</td>\n",
       "      <td>1.56</td>\n",
       "      <td>4.41</td>\n",
       "      <td>7.42</td>\n",
       "      <td>NaN</td>\n",
       "      <td>NaN</td>\n",
       "      <td>NaN</td>\n",
       "      <td>NaN</td>\n",
       "    </tr>\n",
       "    <tr>\n",
       "      <th>112</th>\n",
       "      <td>Aw5DflLH/</td>\n",
       "      <td>Aw5DflLH3</td>\n",
       "      <td>3</td>\n",
       "      <td>Attempt saved. Jonas De Roeck (FC Augsburg) he...</td>\n",
       "      <td>1</td>\n",
       "      <td>12.0</td>\n",
       "      <td>1</td>\n",
       "      <td>FC Augsburg</td>\n",
       "      <td>SC Freiburg</td>\n",
       "      <td>jonas de roeck</td>\n",
       "      <td>...</td>\n",
       "      <td>SC Freiburg</td>\n",
       "      <td>2</td>\n",
       "      <td>2</td>\n",
       "      <td>2.36</td>\n",
       "      <td>3.60</td>\n",
       "      <td>3.40</td>\n",
       "      <td>NaN</td>\n",
       "      <td>NaN</td>\n",
       "      <td>NaN</td>\n",
       "      <td>NaN</td>\n",
       "    </tr>\n",
       "    <tr>\n",
       "      <th>147</th>\n",
       "      <td>Aw5DflLH/</td>\n",
       "      <td>Aw5DflLH38</td>\n",
       "      <td>38</td>\n",
       "      <td>Attempt saved. Marcel Ndjeng (FC Augsburg) rig...</td>\n",
       "      <td>1</td>\n",
       "      <td>12.0</td>\n",
       "      <td>1</td>\n",
       "      <td>FC Augsburg</td>\n",
       "      <td>SC Freiburg</td>\n",
       "      <td>marcel ndjeng</td>\n",
       "      <td>...</td>\n",
       "      <td>SC Freiburg</td>\n",
       "      <td>2</td>\n",
       "      <td>2</td>\n",
       "      <td>2.36</td>\n",
       "      <td>3.60</td>\n",
       "      <td>3.40</td>\n",
       "      <td>NaN</td>\n",
       "      <td>NaN</td>\n",
       "      <td>NaN</td>\n",
       "      <td>NaN</td>\n",
       "    </tr>\n",
       "    <tr>\n",
       "      <th>171</th>\n",
       "      <td>Aw5DflLH/</td>\n",
       "      <td>Aw5DflLH62</td>\n",
       "      <td>62</td>\n",
       "      <td>Attempt saved. Cedric Makiadi (SC Freiburg) ri...</td>\n",
       "      <td>1</td>\n",
       "      <td>12.0</td>\n",
       "      <td>2</td>\n",
       "      <td>SC Freiburg</td>\n",
       "      <td>FC Augsburg</td>\n",
       "      <td>cedric makiadi</td>\n",
       "      <td>...</td>\n",
       "      <td>SC Freiburg</td>\n",
       "      <td>2</td>\n",
       "      <td>2</td>\n",
       "      <td>2.36</td>\n",
       "      <td>3.60</td>\n",
       "      <td>3.40</td>\n",
       "      <td>NaN</td>\n",
       "      <td>NaN</td>\n",
       "      <td>NaN</td>\n",
       "      <td>NaN</td>\n",
       "    </tr>\n",
       "    <tr>\n",
       "      <th>183</th>\n",
       "      <td>Aw5DflLH/</td>\n",
       "      <td>Aw5DflLH74</td>\n",
       "      <td>74</td>\n",
       "      <td>Goal!  FC Augsburg 1, SC Freiburg 1. Sascha Mo...</td>\n",
       "      <td>1</td>\n",
       "      <td>12.0</td>\n",
       "      <td>1</td>\n",
       "      <td>FC Augsburg</td>\n",
       "      <td>SC Freiburg</td>\n",
       "      <td>sascha molders</td>\n",
       "      <td>...</td>\n",
       "      <td>SC Freiburg</td>\n",
       "      <td>2</td>\n",
       "      <td>2</td>\n",
       "      <td>2.36</td>\n",
       "      <td>3.60</td>\n",
       "      <td>3.40</td>\n",
       "      <td>NaN</td>\n",
       "      <td>NaN</td>\n",
       "      <td>NaN</td>\n",
       "      <td>NaN</td>\n",
       "    </tr>\n",
       "    <tr>\n",
       "      <th>184</th>\n",
       "      <td>Aw5DflLH/</td>\n",
       "      <td>Aw5DflLH75</td>\n",
       "      <td>75</td>\n",
       "      <td>Goal!  FC Augsburg 1, SC Freiburg 2. Cedric Ma...</td>\n",
       "      <td>1</td>\n",
       "      <td>12.0</td>\n",
       "      <td>2</td>\n",
       "      <td>SC Freiburg</td>\n",
       "      <td>FC Augsburg</td>\n",
       "      <td>cedric makiadi</td>\n",
       "      <td>...</td>\n",
       "      <td>SC Freiburg</td>\n",
       "      <td>2</td>\n",
       "      <td>2</td>\n",
       "      <td>2.36</td>\n",
       "      <td>3.60</td>\n",
       "      <td>3.40</td>\n",
       "      <td>NaN</td>\n",
       "      <td>NaN</td>\n",
       "      <td>NaN</td>\n",
       "      <td>NaN</td>\n",
       "    </tr>\n",
       "    <tr>\n",
       "      <th>204</th>\n",
       "      <td>Aw5DflLH/</td>\n",
       "      <td>Aw5DflLH95</td>\n",
       "      <td>95</td>\n",
       "      <td>Attempt saved. Sascha Molders (FC Augsburg) he...</td>\n",
       "      <td>1</td>\n",
       "      <td>12.0</td>\n",
       "      <td>1</td>\n",
       "      <td>FC Augsburg</td>\n",
       "      <td>SC Freiburg</td>\n",
       "      <td>sascha molders</td>\n",
       "      <td>...</td>\n",
       "      <td>SC Freiburg</td>\n",
       "      <td>2</td>\n",
       "      <td>2</td>\n",
       "      <td>2.36</td>\n",
       "      <td>3.60</td>\n",
       "      <td>3.40</td>\n",
       "      <td>NaN</td>\n",
       "      <td>NaN</td>\n",
       "      <td>NaN</td>\n",
       "      <td>NaN</td>\n",
       "    </tr>\n",
       "    <tr>\n",
       "      <th>229</th>\n",
       "      <td>Aw5DflLH/</td>\n",
       "      <td>Aw5DflLH120</td>\n",
       "      <td>120</td>\n",
       "      <td>Attempt saved. Garra Dembele (SC Freiburg) rig...</td>\n",
       "      <td>1</td>\n",
       "      <td>12.0</td>\n",
       "      <td>2</td>\n",
       "      <td>SC Freiburg</td>\n",
       "      <td>FC Augsburg</td>\n",
       "      <td>garra dembele</td>\n",
       "      <td>...</td>\n",
       "      <td>SC Freiburg</td>\n",
       "      <td>2</td>\n",
       "      <td>2</td>\n",
       "      <td>2.36</td>\n",
       "      <td>3.60</td>\n",
       "      <td>3.40</td>\n",
       "      <td>NaN</td>\n",
       "      <td>NaN</td>\n",
       "      <td>NaN</td>\n",
       "      <td>NaN</td>\n",
       "    </tr>\n",
       "    <tr>\n",
       "      <th>238</th>\n",
       "      <td>bkjpaC6n/</td>\n",
       "      <td>bkjpaC6n7</td>\n",
       "      <td>7</td>\n",
       "      <td>Attempt saved. Lennart Thy (SV Werder Bremen) ...</td>\n",
       "      <td>1</td>\n",
       "      <td>12.0</td>\n",
       "      <td>1</td>\n",
       "      <td>Werder Bremen</td>\n",
       "      <td>Kaiserslautern</td>\n",
       "      <td>lennart thy</td>\n",
       "      <td>...</td>\n",
       "      <td>Kaiserslautern</td>\n",
       "      <td>2</td>\n",
       "      <td>0</td>\n",
       "      <td>1.83</td>\n",
       "      <td>4.20</td>\n",
       "      <td>4.80</td>\n",
       "      <td>NaN</td>\n",
       "      <td>NaN</td>\n",
       "      <td>NaN</td>\n",
       "      <td>NaN</td>\n",
       "    </tr>\n",
       "    <tr>\n",
       "      <th>266</th>\n",
       "      <td>bkjpaC6n/</td>\n",
       "      <td>bkjpaC6n35</td>\n",
       "      <td>35</td>\n",
       "      <td>Attempt saved. Aaron Hunt (SV Werder Bremen) l...</td>\n",
       "      <td>1</td>\n",
       "      <td>12.0</td>\n",
       "      <td>1</td>\n",
       "      <td>Werder Bremen</td>\n",
       "      <td>Kaiserslautern</td>\n",
       "      <td>aaron hunt</td>\n",
       "      <td>...</td>\n",
       "      <td>Kaiserslautern</td>\n",
       "      <td>2</td>\n",
       "      <td>0</td>\n",
       "      <td>1.83</td>\n",
       "      <td>4.20</td>\n",
       "      <td>4.80</td>\n",
       "      <td>NaN</td>\n",
       "      <td>NaN</td>\n",
       "      <td>NaN</td>\n",
       "      <td>NaN</td>\n",
       "    </tr>\n",
       "    <tr>\n",
       "      <th>281</th>\n",
       "      <td>bkjpaC6n/</td>\n",
       "      <td>bkjpaC6n50</td>\n",
       "      <td>50</td>\n",
       "      <td>Attempt saved. Florian Dick (Kaiserslautern) r...</td>\n",
       "      <td>1</td>\n",
       "      <td>12.0</td>\n",
       "      <td>2</td>\n",
       "      <td>Kaiserslautern</td>\n",
       "      <td>Werder Bremen</td>\n",
       "      <td>florian dick</td>\n",
       "      <td>...</td>\n",
       "      <td>Kaiserslautern</td>\n",
       "      <td>2</td>\n",
       "      <td>0</td>\n",
       "      <td>1.83</td>\n",
       "      <td>4.20</td>\n",
       "      <td>4.80</td>\n",
       "      <td>NaN</td>\n",
       "      <td>NaN</td>\n",
       "      <td>NaN</td>\n",
       "      <td>NaN</td>\n",
       "    </tr>\n",
       "    <tr>\n",
       "      <th>318</th>\n",
       "      <td>bkjpaC6n/</td>\n",
       "      <td>bkjpaC6n87</td>\n",
       "      <td>87</td>\n",
       "      <td>Attempt saved. Lukas Schmitz (SV Werder Bremen...</td>\n",
       "      <td>1</td>\n",
       "      <td>12.0</td>\n",
       "      <td>1</td>\n",
       "      <td>Werder Bremen</td>\n",
       "      <td>Kaiserslautern</td>\n",
       "      <td>lukas schmitz</td>\n",
       "      <td>...</td>\n",
       "      <td>Kaiserslautern</td>\n",
       "      <td>2</td>\n",
       "      <td>0</td>\n",
       "      <td>1.83</td>\n",
       "      <td>4.20</td>\n",
       "      <td>4.80</td>\n",
       "      <td>NaN</td>\n",
       "      <td>NaN</td>\n",
       "      <td>NaN</td>\n",
       "      <td>NaN</td>\n",
       "    </tr>\n",
       "    <tr>\n",
       "      <th>379</th>\n",
       "      <td>CzPV312a/</td>\n",
       "      <td>CzPV312a11</td>\n",
       "      <td>11</td>\n",
       "      <td>Attempt saved. Yann Jouffre (Lorient) right fo...</td>\n",
       "      <td>1</td>\n",
       "      <td>12.0</td>\n",
       "      <td>2</td>\n",
       "      <td>Lorient</td>\n",
       "      <td>Paris Saint-Germain</td>\n",
       "      <td>yann jouffre</td>\n",
       "      <td>...</td>\n",
       "      <td>Lorient</td>\n",
       "      <td>0</td>\n",
       "      <td>1</td>\n",
       "      <td>1.55</td>\n",
       "      <td>4.50</td>\n",
       "      <td>9.40</td>\n",
       "      <td>NaN</td>\n",
       "      <td>NaN</td>\n",
       "      <td>NaN</td>\n",
       "      <td>NaN</td>\n",
       "    </tr>\n",
       "    <tr>\n",
       "      <th>436</th>\n",
       "      <td>CzPV312a/</td>\n",
       "      <td>CzPV312a68</td>\n",
       "      <td>68</td>\n",
       "      <td>Attempt saved. Bruno Ecuele Manga (Lorient) ri...</td>\n",
       "      <td>1</td>\n",
       "      <td>NaN</td>\n",
       "      <td>2</td>\n",
       "      <td>Lorient</td>\n",
       "      <td>Paris Saint-Germain</td>\n",
       "      <td>bruno ecuele manga</td>\n",
       "      <td>...</td>\n",
       "      <td>Lorient</td>\n",
       "      <td>0</td>\n",
       "      <td>1</td>\n",
       "      <td>1.55</td>\n",
       "      <td>4.50</td>\n",
       "      <td>9.40</td>\n",
       "      <td>NaN</td>\n",
       "      <td>NaN</td>\n",
       "      <td>NaN</td>\n",
       "      <td>NaN</td>\n",
       "    </tr>\n",
       "    <tr>\n",
       "      <th>458</th>\n",
       "      <td>CzPV312a/</td>\n",
       "      <td>CzPV312a90</td>\n",
       "      <td>90</td>\n",
       "      <td>Attempt saved. Milan Bisevac (Paris Saint Germ...</td>\n",
       "      <td>1</td>\n",
       "      <td>NaN</td>\n",
       "      <td>1</td>\n",
       "      <td>Paris Saint-Germain</td>\n",
       "      <td>Lorient</td>\n",
       "      <td>milan bisevac</td>\n",
       "      <td>...</td>\n",
       "      <td>Lorient</td>\n",
       "      <td>0</td>\n",
       "      <td>1</td>\n",
       "      <td>1.55</td>\n",
       "      <td>4.50</td>\n",
       "      <td>9.40</td>\n",
       "      <td>NaN</td>\n",
       "      <td>NaN</td>\n",
       "      <td>NaN</td>\n",
       "      <td>NaN</td>\n",
       "    </tr>\n",
       "    <tr>\n",
       "      <th>462</th>\n",
       "      <td>CzPV312a/</td>\n",
       "      <td>CzPV312a94</td>\n",
       "      <td>94</td>\n",
       "      <td>Attempt saved. Arnold Mvuemba (Lorient) left f...</td>\n",
       "      <td>1</td>\n",
       "      <td>12.0</td>\n",
       "      <td>2</td>\n",
       "      <td>Lorient</td>\n",
       "      <td>Paris Saint-Germain</td>\n",
       "      <td>arnold mvuemba</td>\n",
       "      <td>...</td>\n",
       "      <td>Lorient</td>\n",
       "      <td>0</td>\n",
       "      <td>1</td>\n",
       "      <td>1.55</td>\n",
       "      <td>4.50</td>\n",
       "      <td>9.40</td>\n",
       "      <td>NaN</td>\n",
       "      <td>NaN</td>\n",
       "      <td>NaN</td>\n",
       "      <td>NaN</td>\n",
       "    </tr>\n",
       "    <tr>\n",
       "      <th>469</th>\n",
       "      <td>CzPV312a/</td>\n",
       "      <td>CzPV312a101</td>\n",
       "      <td>101</td>\n",
       "      <td>Attempt saved. NenAª (Paris Saint Germain) lef...</td>\n",
       "      <td>1</td>\n",
       "      <td>12.0</td>\n",
       "      <td>1</td>\n",
       "      <td>Paris Saint-Germain</td>\n",
       "      <td>Lorient</td>\n",
       "      <td>nene</td>\n",
       "      <td>...</td>\n",
       "      <td>Lorient</td>\n",
       "      <td>0</td>\n",
       "      <td>1</td>\n",
       "      <td>1.55</td>\n",
       "      <td>4.50</td>\n",
       "      <td>9.40</td>\n",
       "      <td>NaN</td>\n",
       "      <td>NaN</td>\n",
       "      <td>NaN</td>\n",
       "      <td>NaN</td>\n",
       "    </tr>\n",
       "    <tr>\n",
       "      <th>504</th>\n",
       "      <td>GUOdmtII/</td>\n",
       "      <td>GUOdmtII22</td>\n",
       "      <td>22</td>\n",
       "      <td>Attempt missed. Pierre-Alain Frau (Caen) left ...</td>\n",
       "      <td>1</td>\n",
       "      <td>12.0</td>\n",
       "      <td>1</td>\n",
       "      <td>Caen</td>\n",
       "      <td>Valenciennes</td>\n",
       "      <td>pierrealain frau</td>\n",
       "      <td>...</td>\n",
       "      <td>Valenciennes</td>\n",
       "      <td>1</td>\n",
       "      <td>0</td>\n",
       "      <td>2.50</td>\n",
       "      <td>3.40</td>\n",
       "      <td>3.45</td>\n",
       "      <td>NaN</td>\n",
       "      <td>NaN</td>\n",
       "      <td>NaN</td>\n",
       "      <td>NaN</td>\n",
       "    </tr>\n",
       "    <tr>\n",
       "      <th>512</th>\n",
       "      <td>GUOdmtII/</td>\n",
       "      <td>GUOdmtII30</td>\n",
       "      <td>30</td>\n",
       "      <td>Attempt missed. Mathieu Dossevi (Valenciennes)...</td>\n",
       "      <td>1</td>\n",
       "      <td>12.0</td>\n",
       "      <td>2</td>\n",
       "      <td>Valenciennes</td>\n",
       "      <td>Caen</td>\n",
       "      <td>mathieu dossevi</td>\n",
       "      <td>...</td>\n",
       "      <td>Valenciennes</td>\n",
       "      <td>1</td>\n",
       "      <td>0</td>\n",
       "      <td>2.50</td>\n",
       "      <td>3.40</td>\n",
       "      <td>3.45</td>\n",
       "      <td>NaN</td>\n",
       "      <td>NaN</td>\n",
       "      <td>NaN</td>\n",
       "      <td>NaN</td>\n",
       "    </tr>\n",
       "    <tr>\n",
       "      <th>514</th>\n",
       "      <td>GUOdmtII/</td>\n",
       "      <td>GUOdmtII32</td>\n",
       "      <td>32</td>\n",
       "      <td>Attempt saved. GaA«l Danic (Valenciennes) left...</td>\n",
       "      <td>1</td>\n",
       "      <td>12.0</td>\n",
       "      <td>2</td>\n",
       "      <td>Valenciennes</td>\n",
       "      <td>Caen</td>\n",
       "      <td>gael danic</td>\n",
       "      <td>...</td>\n",
       "      <td>Valenciennes</td>\n",
       "      <td>1</td>\n",
       "      <td>0</td>\n",
       "      <td>2.50</td>\n",
       "      <td>3.40</td>\n",
       "      <td>3.45</td>\n",
       "      <td>NaN</td>\n",
       "      <td>NaN</td>\n",
       "      <td>NaN</td>\n",
       "      <td>NaN</td>\n",
       "    </tr>\n",
       "    <tr>\n",
       "      <th>517</th>\n",
       "      <td>GUOdmtII/</td>\n",
       "      <td>GUOdmtII35</td>\n",
       "      <td>35</td>\n",
       "      <td>Goal!  Caen 1, Valenciennes 0. Gregory Proment...</td>\n",
       "      <td>1</td>\n",
       "      <td>12.0</td>\n",
       "      <td>1</td>\n",
       "      <td>Caen</td>\n",
       "      <td>Valenciennes</td>\n",
       "      <td>gregory proment</td>\n",
       "      <td>...</td>\n",
       "      <td>Valenciennes</td>\n",
       "      <td>1</td>\n",
       "      <td>0</td>\n",
       "      <td>2.50</td>\n",
       "      <td>3.40</td>\n",
       "      <td>3.45</td>\n",
       "      <td>NaN</td>\n",
       "      <td>NaN</td>\n",
       "      <td>NaN</td>\n",
       "      <td>NaN</td>\n",
       "    </tr>\n",
       "    <tr>\n",
       "      <th>519</th>\n",
       "      <td>GUOdmtII/</td>\n",
       "      <td>GUOdmtII37</td>\n",
       "      <td>37</td>\n",
       "      <td>Attempt saved. GaA«l Danic (Valenciennes) head...</td>\n",
       "      <td>1</td>\n",
       "      <td>12.0</td>\n",
       "      <td>2</td>\n",
       "      <td>Valenciennes</td>\n",
       "      <td>Caen</td>\n",
       "      <td>gael danic</td>\n",
       "      <td>...</td>\n",
       "      <td>Valenciennes</td>\n",
       "      <td>1</td>\n",
       "      <td>0</td>\n",
       "      <td>2.50</td>\n",
       "      <td>3.40</td>\n",
       "      <td>3.45</td>\n",
       "      <td>NaN</td>\n",
       "      <td>NaN</td>\n",
       "      <td>NaN</td>\n",
       "      <td>NaN</td>\n",
       "    </tr>\n",
       "    <tr>\n",
       "      <th>528</th>\n",
       "      <td>GUOdmtII/</td>\n",
       "      <td>GUOdmtII46</td>\n",
       "      <td>46</td>\n",
       "      <td>Attempt saved. GrA©gory Pujol (Valenciennes) r...</td>\n",
       "      <td>1</td>\n",
       "      <td>NaN</td>\n",
       "      <td>2</td>\n",
       "      <td>Valenciennes</td>\n",
       "      <td>Caen</td>\n",
       "      <td>gregory pujol</td>\n",
       "      <td>...</td>\n",
       "      <td>Valenciennes</td>\n",
       "      <td>1</td>\n",
       "      <td>0</td>\n",
       "      <td>2.50</td>\n",
       "      <td>3.40</td>\n",
       "      <td>3.45</td>\n",
       "      <td>NaN</td>\n",
       "      <td>NaN</td>\n",
       "      <td>NaN</td>\n",
       "      <td>NaN</td>\n",
       "    </tr>\n",
       "    <tr>\n",
       "      <th>542</th>\n",
       "      <td>GUOdmtII/</td>\n",
       "      <td>GUOdmtII60</td>\n",
       "      <td>60</td>\n",
       "      <td>Attempt saved. GaA«l Danic (Valenciennes) left...</td>\n",
       "      <td>1</td>\n",
       "      <td>12.0</td>\n",
       "      <td>2</td>\n",
       "      <td>Valenciennes</td>\n",
       "      <td>Caen</td>\n",
       "      <td>gael danic</td>\n",
       "      <td>...</td>\n",
       "      <td>Valenciennes</td>\n",
       "      <td>1</td>\n",
       "      <td>0</td>\n",
       "      <td>2.50</td>\n",
       "      <td>3.40</td>\n",
       "      <td>3.45</td>\n",
       "      <td>NaN</td>\n",
       "      <td>NaN</td>\n",
       "      <td>NaN</td>\n",
       "      <td>NaN</td>\n",
       "    </tr>\n",
       "    <tr>\n",
       "      <th>661</th>\n",
       "      <td>lOpzwMkp/</td>\n",
       "      <td>lOpzwMkp89</td>\n",
       "      <td>89</td>\n",
       "      <td>Attempt saved. Markus Mendler (FC Nurnberg) le...</td>\n",
       "      <td>1</td>\n",
       "      <td>NaN</td>\n",
       "      <td>2</td>\n",
       "      <td>Nurnberg</td>\n",
       "      <td>Hertha Berlin</td>\n",
       "      <td>markus mendler</td>\n",
       "      <td>...</td>\n",
       "      <td>Nurnberg</td>\n",
       "      <td>0</td>\n",
       "      <td>1</td>\n",
       "      <td>2.06</td>\n",
       "      <td>3.75</td>\n",
       "      <td>3.95</td>\n",
       "      <td>NaN</td>\n",
       "      <td>NaN</td>\n",
       "      <td>NaN</td>\n",
       "      <td>NaN</td>\n",
       "    </tr>\n",
       "    <tr>\n",
       "      <th>664</th>\n",
       "      <td>lOpzwMkp/</td>\n",
       "      <td>lOpzwMkp92</td>\n",
       "      <td>92</td>\n",
       "      <td>Attempt saved. Markus Feulner (FC Nurnberg) le...</td>\n",
       "      <td>1</td>\n",
       "      <td>12.0</td>\n",
       "      <td>2</td>\n",
       "      <td>Nurnberg</td>\n",
       "      <td>Hertha Berlin</td>\n",
       "      <td>markus feulner</td>\n",
       "      <td>...</td>\n",
       "      <td>Nurnberg</td>\n",
       "      <td>0</td>\n",
       "      <td>1</td>\n",
       "      <td>2.06</td>\n",
       "      <td>3.75</td>\n",
       "      <td>3.95</td>\n",
       "      <td>NaN</td>\n",
       "      <td>NaN</td>\n",
       "      <td>NaN</td>\n",
       "      <td>NaN</td>\n",
       "    </tr>\n",
       "    <tr>\n",
       "      <th>724</th>\n",
       "      <td>M7PhlM2C/</td>\n",
       "      <td>M7PhlM2C17</td>\n",
       "      <td>17</td>\n",
       "      <td>Goal!  Brest 0, Evian Thonon Gaillard 1. Olivi...</td>\n",
       "      <td>1</td>\n",
       "      <td>NaN</td>\n",
       "      <td>2</td>\n",
       "      <td>Evian Thonon Gaillard</td>\n",
       "      <td>Brest</td>\n",
       "      <td>olivier sorlin</td>\n",
       "      <td>...</td>\n",
       "      <td>Evian Thonon Gaillard</td>\n",
       "      <td>2</td>\n",
       "      <td>2</td>\n",
       "      <td>2.29</td>\n",
       "      <td>3.25</td>\n",
       "      <td>3.85</td>\n",
       "      <td>NaN</td>\n",
       "      <td>NaN</td>\n",
       "      <td>NaN</td>\n",
       "      <td>NaN</td>\n",
       "    </tr>\n",
       "    <tr>\n",
       "      <th>748</th>\n",
       "      <td>M7PhlM2C/</td>\n",
       "      <td>M7PhlM2C41</td>\n",
       "      <td>41</td>\n",
       "      <td>Attempt saved. Jonathan AyitA© (Brest) header ...</td>\n",
       "      <td>1</td>\n",
       "      <td>12.0</td>\n",
       "      <td>1</td>\n",
       "      <td>Brest</td>\n",
       "      <td>Evian Thonon Gaillard</td>\n",
       "      <td>jonathan ayite</td>\n",
       "      <td>...</td>\n",
       "      <td>Evian Thonon Gaillard</td>\n",
       "      <td>2</td>\n",
       "      <td>2</td>\n",
       "      <td>2.29</td>\n",
       "      <td>3.25</td>\n",
       "      <td>3.85</td>\n",
       "      <td>NaN</td>\n",
       "      <td>NaN</td>\n",
       "      <td>NaN</td>\n",
       "      <td>NaN</td>\n",
       "    </tr>\n",
       "    <tr>\n",
       "      <th>778</th>\n",
       "      <td>M7PhlM2C/</td>\n",
       "      <td>M7PhlM2C71</td>\n",
       "      <td>71</td>\n",
       "      <td>Attempt saved. Jonathan AyitA© (Brest) right f...</td>\n",
       "      <td>1</td>\n",
       "      <td>NaN</td>\n",
       "      <td>1</td>\n",
       "      <td>Brest</td>\n",
       "      <td>Evian Thonon Gaillard</td>\n",
       "      <td>jonathan ayite</td>\n",
       "      <td>...</td>\n",
       "      <td>Evian Thonon Gaillard</td>\n",
       "      <td>2</td>\n",
       "      <td>2</td>\n",
       "      <td>2.29</td>\n",
       "      <td>3.25</td>\n",
       "      <td>3.85</td>\n",
       "      <td>NaN</td>\n",
       "      <td>NaN</td>\n",
       "      <td>NaN</td>\n",
       "      <td>NaN</td>\n",
       "    </tr>\n",
       "    <tr>\n",
       "      <th>793</th>\n",
       "      <td>M7PhlM2C/</td>\n",
       "      <td>M7PhlM2C86</td>\n",
       "      <td>86</td>\n",
       "      <td>Attempt saved. Nolan Roux (Brest) right footed...</td>\n",
       "      <td>1</td>\n",
       "      <td>12.0</td>\n",
       "      <td>1</td>\n",
       "      <td>Brest</td>\n",
       "      <td>Evian Thonon Gaillard</td>\n",
       "      <td>nolan roux</td>\n",
       "      <td>...</td>\n",
       "      <td>Evian Thonon Gaillard</td>\n",
       "      <td>2</td>\n",
       "      <td>2</td>\n",
       "      <td>2.29</td>\n",
       "      <td>3.25</td>\n",
       "      <td>3.85</td>\n",
       "      <td>NaN</td>\n",
       "      <td>NaN</td>\n",
       "      <td>NaN</td>\n",
       "      <td>NaN</td>\n",
       "    </tr>\n",
       "    <tr>\n",
       "      <th>...</th>\n",
       "      <td>...</td>\n",
       "      <td>...</td>\n",
       "      <td>...</td>\n",
       "      <td>...</td>\n",
       "      <td>...</td>\n",
       "      <td>...</td>\n",
       "      <td>...</td>\n",
       "      <td>...</td>\n",
       "      <td>...</td>\n",
       "      <td>...</td>\n",
       "      <td>...</td>\n",
       "      <td>...</td>\n",
       "      <td>...</td>\n",
       "      <td>...</td>\n",
       "      <td>...</td>\n",
       "      <td>...</td>\n",
       "      <td>...</td>\n",
       "      <td>...</td>\n",
       "      <td>...</td>\n",
       "      <td>...</td>\n",
       "      <td>...</td>\n",
       "    </tr>\n",
       "    <tr>\n",
       "      <th>940065</th>\n",
       "      <td>r5V5rw33/</td>\n",
       "      <td>r5V5rw33110</td>\n",
       "      <td>110</td>\n",
       "      <td>Attempt saved. Francis Coquelin (Arsenal) left...</td>\n",
       "      <td>1</td>\n",
       "      <td>NaN</td>\n",
       "      <td>1</td>\n",
       "      <td>Arsenal</td>\n",
       "      <td>Burnley</td>\n",
       "      <td>francis coquelin</td>\n",
       "      <td>...</td>\n",
       "      <td>Burnley</td>\n",
       "      <td>2</td>\n",
       "      <td>1</td>\n",
       "      <td>1.23</td>\n",
       "      <td>7.65</td>\n",
       "      <td>17.75</td>\n",
       "      <td>1.50</td>\n",
       "      <td>2.84</td>\n",
       "      <td>2.15</td>\n",
       "      <td>1.81</td>\n",
       "    </tr>\n",
       "    <tr>\n",
       "      <th>940070</th>\n",
       "      <td>r5V5rw33/</td>\n",
       "      <td>r5V5rw33115</td>\n",
       "      <td>115</td>\n",
       "      <td>Attempt saved. Alexis Sanchez (Arsenal) right ...</td>\n",
       "      <td>1</td>\n",
       "      <td>12.0</td>\n",
       "      <td>1</td>\n",
       "      <td>Arsenal</td>\n",
       "      <td>Burnley</td>\n",
       "      <td>alexis sanchez</td>\n",
       "      <td>...</td>\n",
       "      <td>Burnley</td>\n",
       "      <td>2</td>\n",
       "      <td>1</td>\n",
       "      <td>1.23</td>\n",
       "      <td>7.65</td>\n",
       "      <td>17.75</td>\n",
       "      <td>1.50</td>\n",
       "      <td>2.84</td>\n",
       "      <td>2.15</td>\n",
       "      <td>1.81</td>\n",
       "    </tr>\n",
       "    <tr>\n",
       "      <th>940118</th>\n",
       "      <td>trUaUcuk/</td>\n",
       "      <td>trUaUcuk48</td>\n",
       "      <td>48</td>\n",
       "      <td>Attempt saved. Roberto Torres (Osasuna) right ...</td>\n",
       "      <td>1</td>\n",
       "      <td>NaN</td>\n",
       "      <td>1</td>\n",
       "      <td>Osasuna</td>\n",
       "      <td>Sevilla</td>\n",
       "      <td>roberto torres</td>\n",
       "      <td>...</td>\n",
       "      <td>Sevilla</td>\n",
       "      <td>3</td>\n",
       "      <td>4</td>\n",
       "      <td>6.80</td>\n",
       "      <td>4.42</td>\n",
       "      <td>1.58</td>\n",
       "      <td>1.82</td>\n",
       "      <td>2.19</td>\n",
       "      <td>1.88</td>\n",
       "      <td>2.01</td>\n",
       "    </tr>\n",
       "    <tr>\n",
       "      <th>940127</th>\n",
       "      <td>trUaUcuk/</td>\n",
       "      <td>trUaUcuk60</td>\n",
       "      <td>60</td>\n",
       "      <td>Attempt saved. Roberto Torres (Osasuna) right ...</td>\n",
       "      <td>1</td>\n",
       "      <td>12.0</td>\n",
       "      <td>1</td>\n",
       "      <td>Osasuna</td>\n",
       "      <td>Sevilla</td>\n",
       "      <td>roberto torres</td>\n",
       "      <td>...</td>\n",
       "      <td>Sevilla</td>\n",
       "      <td>3</td>\n",
       "      <td>4</td>\n",
       "      <td>6.80</td>\n",
       "      <td>4.42</td>\n",
       "      <td>1.58</td>\n",
       "      <td>1.82</td>\n",
       "      <td>2.19</td>\n",
       "      <td>1.88</td>\n",
       "      <td>2.01</td>\n",
       "    </tr>\n",
       "    <tr>\n",
       "      <th>940158</th>\n",
       "      <td>trUaUcuk/</td>\n",
       "      <td>trUaUcuk91</td>\n",
       "      <td>91</td>\n",
       "      <td>Goal!  Osasuna 2, Sevilla 3. Franco Vazquez (S...</td>\n",
       "      <td>1</td>\n",
       "      <td>12.0</td>\n",
       "      <td>2</td>\n",
       "      <td>Sevilla</td>\n",
       "      <td>Osasuna</td>\n",
       "      <td>franco vazquez</td>\n",
       "      <td>...</td>\n",
       "      <td>Sevilla</td>\n",
       "      <td>3</td>\n",
       "      <td>4</td>\n",
       "      <td>6.80</td>\n",
       "      <td>4.42</td>\n",
       "      <td>1.58</td>\n",
       "      <td>1.82</td>\n",
       "      <td>2.19</td>\n",
       "      <td>1.88</td>\n",
       "      <td>2.01</td>\n",
       "    </tr>\n",
       "    <tr>\n",
       "      <th>940167</th>\n",
       "      <td>trUaUcuk/</td>\n",
       "      <td>trUaUcuk100</td>\n",
       "      <td>100</td>\n",
       "      <td>Attempt saved. Alex Berenguer (Osasuna) left f...</td>\n",
       "      <td>1</td>\n",
       "      <td>12.0</td>\n",
       "      <td>1</td>\n",
       "      <td>Osasuna</td>\n",
       "      <td>Sevilla</td>\n",
       "      <td>alex berenguer</td>\n",
       "      <td>...</td>\n",
       "      <td>Sevilla</td>\n",
       "      <td>3</td>\n",
       "      <td>4</td>\n",
       "      <td>6.80</td>\n",
       "      <td>4.42</td>\n",
       "      <td>1.58</td>\n",
       "      <td>1.82</td>\n",
       "      <td>2.19</td>\n",
       "      <td>1.88</td>\n",
       "      <td>2.01</td>\n",
       "    </tr>\n",
       "    <tr>\n",
       "      <th>940205</th>\n",
       "      <td>U7UC16b1/</td>\n",
       "      <td>U7UC16b135</td>\n",
       "      <td>35</td>\n",
       "      <td>Attempt saved. Marcelo Brozovic (Inter Milan) ...</td>\n",
       "      <td>1</td>\n",
       "      <td>12.0</td>\n",
       "      <td>2</td>\n",
       "      <td>Internazionale</td>\n",
       "      <td>Palermo</td>\n",
       "      <td>marcelo brozovic</td>\n",
       "      <td>...</td>\n",
       "      <td>Internazionale</td>\n",
       "      <td>0</td>\n",
       "      <td>1</td>\n",
       "      <td>7.68</td>\n",
       "      <td>4.42</td>\n",
       "      <td>1.55</td>\n",
       "      <td>1.80</td>\n",
       "      <td>2.22</td>\n",
       "      <td>1.91</td>\n",
       "      <td>2.04</td>\n",
       "    </tr>\n",
       "    <tr>\n",
       "      <th>940314</th>\n",
       "      <td>UP9lzFAq/</td>\n",
       "      <td>UP9lzFAq10</td>\n",
       "      <td>10</td>\n",
       "      <td>Attempt saved. Nathan Redmond (Southampton) ri...</td>\n",
       "      <td>1</td>\n",
       "      <td>NaN</td>\n",
       "      <td>1</td>\n",
       "      <td>Southampton</td>\n",
       "      <td>Leicester City</td>\n",
       "      <td>nathan redmond</td>\n",
       "      <td>...</td>\n",
       "      <td>Leicester City</td>\n",
       "      <td>3</td>\n",
       "      <td>0</td>\n",
       "      <td>1.86</td>\n",
       "      <td>3.68</td>\n",
       "      <td>5.36</td>\n",
       "      <td>2.40</td>\n",
       "      <td>1.74</td>\n",
       "      <td>2.17</td>\n",
       "      <td>1.75</td>\n",
       "    </tr>\n",
       "    <tr>\n",
       "      <th>940362</th>\n",
       "      <td>UP9lzFAq/</td>\n",
       "      <td>UP9lzFAq68</td>\n",
       "      <td>68</td>\n",
       "      <td>Attempt saved. Oriol Romeu (Southampton) right...</td>\n",
       "      <td>1</td>\n",
       "      <td>12.0</td>\n",
       "      <td>1</td>\n",
       "      <td>Southampton</td>\n",
       "      <td>Leicester City</td>\n",
       "      <td>oriol romeu</td>\n",
       "      <td>...</td>\n",
       "      <td>Leicester City</td>\n",
       "      <td>3</td>\n",
       "      <td>0</td>\n",
       "      <td>1.86</td>\n",
       "      <td>3.68</td>\n",
       "      <td>5.36</td>\n",
       "      <td>2.40</td>\n",
       "      <td>1.74</td>\n",
       "      <td>2.17</td>\n",
       "      <td>1.75</td>\n",
       "    </tr>\n",
       "    <tr>\n",
       "      <th>940383</th>\n",
       "      <td>UP9lzFAq/</td>\n",
       "      <td>UP9lzFAq89</td>\n",
       "      <td>89</td>\n",
       "      <td>Goal!  Southampton 3, Leicester City 0. Dusan ...</td>\n",
       "      <td>1</td>\n",
       "      <td>NaN</td>\n",
       "      <td>1</td>\n",
       "      <td>Southampton</td>\n",
       "      <td>Leicester City</td>\n",
       "      <td>dusan tadic</td>\n",
       "      <td>...</td>\n",
       "      <td>Leicester City</td>\n",
       "      <td>3</td>\n",
       "      <td>0</td>\n",
       "      <td>1.86</td>\n",
       "      <td>3.68</td>\n",
       "      <td>5.36</td>\n",
       "      <td>2.40</td>\n",
       "      <td>1.74</td>\n",
       "      <td>2.17</td>\n",
       "      <td>1.75</td>\n",
       "    </tr>\n",
       "    <tr>\n",
       "      <th>940386</th>\n",
       "      <td>UP9lzFAq/</td>\n",
       "      <td>UP9lzFAq92</td>\n",
       "      <td>92</td>\n",
       "      <td>Attempt saved. Nathan Redmond (Southampton) ri...</td>\n",
       "      <td>1</td>\n",
       "      <td>NaN</td>\n",
       "      <td>1</td>\n",
       "      <td>Southampton</td>\n",
       "      <td>Leicester City</td>\n",
       "      <td>nathan redmond</td>\n",
       "      <td>...</td>\n",
       "      <td>Leicester City</td>\n",
       "      <td>3</td>\n",
       "      <td>0</td>\n",
       "      <td>1.86</td>\n",
       "      <td>3.68</td>\n",
       "      <td>5.36</td>\n",
       "      <td>2.40</td>\n",
       "      <td>1.74</td>\n",
       "      <td>2.17</td>\n",
       "      <td>1.75</td>\n",
       "    </tr>\n",
       "    <tr>\n",
       "      <th>940416</th>\n",
       "      <td>vJy048Er/</td>\n",
       "      <td>vJy048Er30</td>\n",
       "      <td>30</td>\n",
       "      <td>Attempt saved. Jakub Jankto (Udinese) left foo...</td>\n",
       "      <td>1</td>\n",
       "      <td>12.0</td>\n",
       "      <td>2</td>\n",
       "      <td>Udinese</td>\n",
       "      <td>Empoli</td>\n",
       "      <td>jakub jankto</td>\n",
       "      <td>...</td>\n",
       "      <td>Udinese</td>\n",
       "      <td>1</td>\n",
       "      <td>0</td>\n",
       "      <td>2.90</td>\n",
       "      <td>3.18</td>\n",
       "      <td>2.96</td>\n",
       "      <td>2.55</td>\n",
       "      <td>1.64</td>\n",
       "      <td>2.05</td>\n",
       "      <td>1.85</td>\n",
       "    </tr>\n",
       "    <tr>\n",
       "      <th>940484</th>\n",
       "      <td>vJy048Er/</td>\n",
       "      <td>vJy048Er101</td>\n",
       "      <td>101</td>\n",
       "      <td>Goal!  Empoli 1, Udinese 0. Levan Mchedlidze (...</td>\n",
       "      <td>1</td>\n",
       "      <td>12.0</td>\n",
       "      <td>1</td>\n",
       "      <td>Empoli</td>\n",
       "      <td>Udinese</td>\n",
       "      <td>levan mchedlidze</td>\n",
       "      <td>...</td>\n",
       "      <td>Udinese</td>\n",
       "      <td>1</td>\n",
       "      <td>0</td>\n",
       "      <td>2.90</td>\n",
       "      <td>3.18</td>\n",
       "      <td>2.96</td>\n",
       "      <td>2.55</td>\n",
       "      <td>1.64</td>\n",
       "      <td>2.05</td>\n",
       "      <td>1.85</td>\n",
       "    </tr>\n",
       "    <tr>\n",
       "      <th>940508</th>\n",
       "      <td>xAkY8l6R/</td>\n",
       "      <td>xAkY8l6R12</td>\n",
       "      <td>12</td>\n",
       "      <td>Attempt saved. Adrian Stoian (Crotone) left fo...</td>\n",
       "      <td>1</td>\n",
       "      <td>NaN</td>\n",
       "      <td>2</td>\n",
       "      <td>Crotone</td>\n",
       "      <td>Genoa</td>\n",
       "      <td>adrian stoian</td>\n",
       "      <td>...</td>\n",
       "      <td>Crotone</td>\n",
       "      <td>2</td>\n",
       "      <td>2</td>\n",
       "      <td>1.97</td>\n",
       "      <td>4.35</td>\n",
       "      <td>8.00</td>\n",
       "      <td>1.95</td>\n",
       "      <td>2.03</td>\n",
       "      <td>2.03</td>\n",
       "      <td>1.86</td>\n",
       "    </tr>\n",
       "    <tr>\n",
       "      <th>940522</th>\n",
       "      <td>xAkY8l6R/</td>\n",
       "      <td>xAkY8l6R26</td>\n",
       "      <td>26</td>\n",
       "      <td>Attempt saved. Marcello Trotta (Crotone) left ...</td>\n",
       "      <td>1</td>\n",
       "      <td>12.0</td>\n",
       "      <td>2</td>\n",
       "      <td>Crotone</td>\n",
       "      <td>Genoa</td>\n",
       "      <td>marcello trotta</td>\n",
       "      <td>...</td>\n",
       "      <td>Crotone</td>\n",
       "      <td>2</td>\n",
       "      <td>2</td>\n",
       "      <td>1.97</td>\n",
       "      <td>4.35</td>\n",
       "      <td>8.00</td>\n",
       "      <td>1.95</td>\n",
       "      <td>2.03</td>\n",
       "      <td>2.03</td>\n",
       "      <td>1.86</td>\n",
       "    </tr>\n",
       "    <tr>\n",
       "      <th>940545</th>\n",
       "      <td>xAkY8l6R/</td>\n",
       "      <td>xAkY8l6R52</td>\n",
       "      <td>52</td>\n",
       "      <td>Attempt saved. Diego Falcinelli (Crotone) left...</td>\n",
       "      <td>1</td>\n",
       "      <td>12.0</td>\n",
       "      <td>2</td>\n",
       "      <td>Crotone</td>\n",
       "      <td>Genoa</td>\n",
       "      <td>diego falcinelli</td>\n",
       "      <td>...</td>\n",
       "      <td>Crotone</td>\n",
       "      <td>2</td>\n",
       "      <td>2</td>\n",
       "      <td>1.97</td>\n",
       "      <td>4.35</td>\n",
       "      <td>8.00</td>\n",
       "      <td>1.95</td>\n",
       "      <td>2.03</td>\n",
       "      <td>2.03</td>\n",
       "      <td>1.86</td>\n",
       "    </tr>\n",
       "    <tr>\n",
       "      <th>940553</th>\n",
       "      <td>xAkY8l6R/</td>\n",
       "      <td>xAkY8l6R60</td>\n",
       "      <td>60</td>\n",
       "      <td>Goal!  Genoa 1, Crotone 1. Federico Ceccherini...</td>\n",
       "      <td>1</td>\n",
       "      <td>12.0</td>\n",
       "      <td>2</td>\n",
       "      <td>Crotone</td>\n",
       "      <td>Genoa</td>\n",
       "      <td>federico ceccherini</td>\n",
       "      <td>...</td>\n",
       "      <td>Crotone</td>\n",
       "      <td>2</td>\n",
       "      <td>2</td>\n",
       "      <td>1.97</td>\n",
       "      <td>4.35</td>\n",
       "      <td>8.00</td>\n",
       "      <td>1.95</td>\n",
       "      <td>2.03</td>\n",
       "      <td>2.03</td>\n",
       "      <td>1.86</td>\n",
       "    </tr>\n",
       "    <tr>\n",
       "      <th>940627</th>\n",
       "      <td>xSU9scI9/</td>\n",
       "      <td>xSU9scI932</td>\n",
       "      <td>32</td>\n",
       "      <td>Attempt saved. Marcos Alonso (Chelsea) left fo...</td>\n",
       "      <td>1</td>\n",
       "      <td>12.0</td>\n",
       "      <td>1</td>\n",
       "      <td>Chelsea</td>\n",
       "      <td>Hull</td>\n",
       "      <td>marcos alonso</td>\n",
       "      <td>...</td>\n",
       "      <td>Hull</td>\n",
       "      <td>2</td>\n",
       "      <td>0</td>\n",
       "      <td>1.19</td>\n",
       "      <td>8.50</td>\n",
       "      <td>20.00</td>\n",
       "      <td>1.54</td>\n",
       "      <td>2.68</td>\n",
       "      <td>2.40</td>\n",
       "      <td>1.66</td>\n",
       "    </tr>\n",
       "    <tr>\n",
       "      <th>940635</th>\n",
       "      <td>xSU9scI9/</td>\n",
       "      <td>xSU9scI940</td>\n",
       "      <td>40</td>\n",
       "      <td>Attempt saved. Harry Maguire (Hull City) right...</td>\n",
       "      <td>1</td>\n",
       "      <td>12.0</td>\n",
       "      <td>2</td>\n",
       "      <td>Hull</td>\n",
       "      <td>Chelsea</td>\n",
       "      <td>harry maguire</td>\n",
       "      <td>...</td>\n",
       "      <td>Hull</td>\n",
       "      <td>2</td>\n",
       "      <td>0</td>\n",
       "      <td>1.19</td>\n",
       "      <td>8.50</td>\n",
       "      <td>20.00</td>\n",
       "      <td>1.54</td>\n",
       "      <td>2.68</td>\n",
       "      <td>2.40</td>\n",
       "      <td>1.66</td>\n",
       "    </tr>\n",
       "    <tr>\n",
       "      <th>940654</th>\n",
       "      <td>xSU9scI9/</td>\n",
       "      <td>xSU9scI961</td>\n",
       "      <td>61</td>\n",
       "      <td>Attempt saved. David Meyler (Hull City) right ...</td>\n",
       "      <td>1</td>\n",
       "      <td>12.0</td>\n",
       "      <td>2</td>\n",
       "      <td>Hull</td>\n",
       "      <td>Chelsea</td>\n",
       "      <td>david meyler</td>\n",
       "      <td>...</td>\n",
       "      <td>Hull</td>\n",
       "      <td>2</td>\n",
       "      <td>0</td>\n",
       "      <td>1.19</td>\n",
       "      <td>8.50</td>\n",
       "      <td>20.00</td>\n",
       "      <td>1.54</td>\n",
       "      <td>2.68</td>\n",
       "      <td>2.40</td>\n",
       "      <td>1.66</td>\n",
       "    </tr>\n",
       "    <tr>\n",
       "      <th>940658</th>\n",
       "      <td>xSU9scI9/</td>\n",
       "      <td>xSU9scI965</td>\n",
       "      <td>65</td>\n",
       "      <td>Attempt saved. Diego Costa (Chelsea) left foot...</td>\n",
       "      <td>1</td>\n",
       "      <td>12.0</td>\n",
       "      <td>1</td>\n",
       "      <td>Chelsea</td>\n",
       "      <td>Hull</td>\n",
       "      <td>diego costa</td>\n",
       "      <td>...</td>\n",
       "      <td>Hull</td>\n",
       "      <td>2</td>\n",
       "      <td>0</td>\n",
       "      <td>1.19</td>\n",
       "      <td>8.50</td>\n",
       "      <td>20.00</td>\n",
       "      <td>1.54</td>\n",
       "      <td>2.68</td>\n",
       "      <td>2.40</td>\n",
       "      <td>1.66</td>\n",
       "    </tr>\n",
       "    <tr>\n",
       "      <th>940696</th>\n",
       "      <td>xY7uZwOI/</td>\n",
       "      <td>xY7uZwOI9</td>\n",
       "      <td>9</td>\n",
       "      <td>Attempt missed. Valere Germain (Monaco) header...</td>\n",
       "      <td>1</td>\n",
       "      <td>12.0</td>\n",
       "      <td>1</td>\n",
       "      <td>AS Monaco</td>\n",
       "      <td>Lorient</td>\n",
       "      <td>valere germain</td>\n",
       "      <td>...</td>\n",
       "      <td>Lorient</td>\n",
       "      <td>4</td>\n",
       "      <td>0</td>\n",
       "      <td>1.32</td>\n",
       "      <td>6.24</td>\n",
       "      <td>11.50</td>\n",
       "      <td>1.53</td>\n",
       "      <td>3.08</td>\n",
       "      <td>1.80</td>\n",
       "      <td>2.25</td>\n",
       "    </tr>\n",
       "    <tr>\n",
       "      <th>940699</th>\n",
       "      <td>xY7uZwOI/</td>\n",
       "      <td>xY7uZwOI12</td>\n",
       "      <td>12</td>\n",
       "      <td>Attempt saved. Valere Germain (Monaco) right f...</td>\n",
       "      <td>1</td>\n",
       "      <td>12.0</td>\n",
       "      <td>1</td>\n",
       "      <td>AS Monaco</td>\n",
       "      <td>Lorient</td>\n",
       "      <td>valere germain</td>\n",
       "      <td>...</td>\n",
       "      <td>Lorient</td>\n",
       "      <td>4</td>\n",
       "      <td>0</td>\n",
       "      <td>1.32</td>\n",
       "      <td>6.24</td>\n",
       "      <td>11.50</td>\n",
       "      <td>1.53</td>\n",
       "      <td>3.08</td>\n",
       "      <td>1.80</td>\n",
       "      <td>2.25</td>\n",
       "    </tr>\n",
       "    <tr>\n",
       "      <th>940701</th>\n",
       "      <td>xY7uZwOI/</td>\n",
       "      <td>xY7uZwOI14</td>\n",
       "      <td>14</td>\n",
       "      <td>Attempt saved. Tiemoue Bakayoko (Monaco) heade...</td>\n",
       "      <td>1</td>\n",
       "      <td>12.0</td>\n",
       "      <td>1</td>\n",
       "      <td>AS Monaco</td>\n",
       "      <td>Lorient</td>\n",
       "      <td>tiemoue bakayoko</td>\n",
       "      <td>...</td>\n",
       "      <td>Lorient</td>\n",
       "      <td>4</td>\n",
       "      <td>0</td>\n",
       "      <td>1.32</td>\n",
       "      <td>6.24</td>\n",
       "      <td>11.50</td>\n",
       "      <td>1.53</td>\n",
       "      <td>3.08</td>\n",
       "      <td>1.80</td>\n",
       "      <td>2.25</td>\n",
       "    </tr>\n",
       "    <tr>\n",
       "      <th>940719</th>\n",
       "      <td>xY7uZwOI/</td>\n",
       "      <td>xY7uZwOI32</td>\n",
       "      <td>32</td>\n",
       "      <td>Attempt saved. Falcao (Monaco) right footed sh...</td>\n",
       "      <td>1</td>\n",
       "      <td>12.0</td>\n",
       "      <td>1</td>\n",
       "      <td>AS Monaco</td>\n",
       "      <td>Lorient</td>\n",
       "      <td>falcao</td>\n",
       "      <td>...</td>\n",
       "      <td>Lorient</td>\n",
       "      <td>4</td>\n",
       "      <td>0</td>\n",
       "      <td>1.32</td>\n",
       "      <td>6.24</td>\n",
       "      <td>11.50</td>\n",
       "      <td>1.53</td>\n",
       "      <td>3.08</td>\n",
       "      <td>1.80</td>\n",
       "      <td>2.25</td>\n",
       "    </tr>\n",
       "    <tr>\n",
       "      <th>940741</th>\n",
       "      <td>xY7uZwOI/</td>\n",
       "      <td>xY7uZwOI57</td>\n",
       "      <td>57</td>\n",
       "      <td>Attempt saved. Majeed Waris (Lorient) right fo...</td>\n",
       "      <td>1</td>\n",
       "      <td>12.0</td>\n",
       "      <td>2</td>\n",
       "      <td>Lorient</td>\n",
       "      <td>AS Monaco</td>\n",
       "      <td>majeed waris</td>\n",
       "      <td>...</td>\n",
       "      <td>Lorient</td>\n",
       "      <td>4</td>\n",
       "      <td>0</td>\n",
       "      <td>1.32</td>\n",
       "      <td>6.24</td>\n",
       "      <td>11.50</td>\n",
       "      <td>1.53</td>\n",
       "      <td>3.08</td>\n",
       "      <td>1.80</td>\n",
       "      <td>2.25</td>\n",
       "    </tr>\n",
       "    <tr>\n",
       "      <th>940768</th>\n",
       "      <td>xY7uZwOI/</td>\n",
       "      <td>xY7uZwOI85</td>\n",
       "      <td>85</td>\n",
       "      <td>Attempt missed. Steven Moreira (Lorient) right...</td>\n",
       "      <td>1</td>\n",
       "      <td>12.0</td>\n",
       "      <td>2</td>\n",
       "      <td>Lorient</td>\n",
       "      <td>AS Monaco</td>\n",
       "      <td>steven moreira</td>\n",
       "      <td>...</td>\n",
       "      <td>Lorient</td>\n",
       "      <td>4</td>\n",
       "      <td>0</td>\n",
       "      <td>1.32</td>\n",
       "      <td>6.24</td>\n",
       "      <td>11.50</td>\n",
       "      <td>1.53</td>\n",
       "      <td>3.08</td>\n",
       "      <td>1.80</td>\n",
       "      <td>2.25</td>\n",
       "    </tr>\n",
       "    <tr>\n",
       "      <th>940785</th>\n",
       "      <td>YyeGxMX8/</td>\n",
       "      <td>YyeGxMX820</td>\n",
       "      <td>20</td>\n",
       "      <td>Attempt saved. Riza Durmisi (Real Betis) left ...</td>\n",
       "      <td>1</td>\n",
       "      <td>12.0</td>\n",
       "      <td>1</td>\n",
       "      <td>Real Betis</td>\n",
       "      <td>Sporting Gijon</td>\n",
       "      <td>riza durmisi</td>\n",
       "      <td>...</td>\n",
       "      <td>Sporting Gijon</td>\n",
       "      <td>0</td>\n",
       "      <td>0</td>\n",
       "      <td>1.74</td>\n",
       "      <td>4.07</td>\n",
       "      <td>5.90</td>\n",
       "      <td>2.20</td>\n",
       "      <td>1.89</td>\n",
       "      <td>2.05</td>\n",
       "      <td>1.86</td>\n",
       "    </tr>\n",
       "    <tr>\n",
       "      <th>940890</th>\n",
       "      <td>z5L2OT5E/</td>\n",
       "      <td>z5L2OT5E3</td>\n",
       "      <td>3</td>\n",
       "      <td>Attempt saved. Dennis Praet (Sampdoria) right ...</td>\n",
       "      <td>1</td>\n",
       "      <td>12.0</td>\n",
       "      <td>2</td>\n",
       "      <td>Sampdoria</td>\n",
       "      <td>Atalanta</td>\n",
       "      <td>dennis praet</td>\n",
       "      <td>...</td>\n",
       "      <td>Sampdoria</td>\n",
       "      <td>1</td>\n",
       "      <td>0</td>\n",
       "      <td>1.79</td>\n",
       "      <td>3.96</td>\n",
       "      <td>5.40</td>\n",
       "      <td>1.90</td>\n",
       "      <td>2.07</td>\n",
       "      <td>1.80</td>\n",
       "      <td>2.16</td>\n",
       "    </tr>\n",
       "    <tr>\n",
       "      <th>940910</th>\n",
       "      <td>z5L2OT5E/</td>\n",
       "      <td>z5L2OT5E23</td>\n",
       "      <td>23</td>\n",
       "      <td>Attempt missed. Fabio Quagliarella (Sampdoria)...</td>\n",
       "      <td>1</td>\n",
       "      <td>NaN</td>\n",
       "      <td>2</td>\n",
       "      <td>Sampdoria</td>\n",
       "      <td>Atalanta</td>\n",
       "      <td>fabio quagliarella</td>\n",
       "      <td>...</td>\n",
       "      <td>Sampdoria</td>\n",
       "      <td>1</td>\n",
       "      <td>0</td>\n",
       "      <td>1.79</td>\n",
       "      <td>3.96</td>\n",
       "      <td>5.40</td>\n",
       "      <td>1.90</td>\n",
       "      <td>2.07</td>\n",
       "      <td>1.80</td>\n",
       "      <td>2.16</td>\n",
       "    </tr>\n",
       "  </tbody>\n",
       "</table>\n",
       "<p>35153 rows × 35 columns</p>\n",
       "</div>"
      ],
      "text/plain": [
       "          id_odsp     id_event  sort_order  \\\n",
       "11      UFot0hit/   UFot0hit12          12   \n",
       "112     Aw5DflLH/    Aw5DflLH3           3   \n",
       "147     Aw5DflLH/   Aw5DflLH38          38   \n",
       "171     Aw5DflLH/   Aw5DflLH62          62   \n",
       "183     Aw5DflLH/   Aw5DflLH74          74   \n",
       "184     Aw5DflLH/   Aw5DflLH75          75   \n",
       "204     Aw5DflLH/   Aw5DflLH95          95   \n",
       "229     Aw5DflLH/  Aw5DflLH120         120   \n",
       "238     bkjpaC6n/    bkjpaC6n7           7   \n",
       "266     bkjpaC6n/   bkjpaC6n35          35   \n",
       "281     bkjpaC6n/   bkjpaC6n50          50   \n",
       "318     bkjpaC6n/   bkjpaC6n87          87   \n",
       "379     CzPV312a/   CzPV312a11          11   \n",
       "436     CzPV312a/   CzPV312a68          68   \n",
       "458     CzPV312a/   CzPV312a90          90   \n",
       "462     CzPV312a/   CzPV312a94          94   \n",
       "469     CzPV312a/  CzPV312a101         101   \n",
       "504     GUOdmtII/   GUOdmtII22          22   \n",
       "512     GUOdmtII/   GUOdmtII30          30   \n",
       "514     GUOdmtII/   GUOdmtII32          32   \n",
       "517     GUOdmtII/   GUOdmtII35          35   \n",
       "519     GUOdmtII/   GUOdmtII37          37   \n",
       "528     GUOdmtII/   GUOdmtII46          46   \n",
       "542     GUOdmtII/   GUOdmtII60          60   \n",
       "661     lOpzwMkp/   lOpzwMkp89          89   \n",
       "664     lOpzwMkp/   lOpzwMkp92          92   \n",
       "724     M7PhlM2C/   M7PhlM2C17          17   \n",
       "748     M7PhlM2C/   M7PhlM2C41          41   \n",
       "778     M7PhlM2C/   M7PhlM2C71          71   \n",
       "793     M7PhlM2C/   M7PhlM2C86          86   \n",
       "...           ...          ...         ...   \n",
       "940065  r5V5rw33/  r5V5rw33110         110   \n",
       "940070  r5V5rw33/  r5V5rw33115         115   \n",
       "940118  trUaUcuk/   trUaUcuk48          48   \n",
       "940127  trUaUcuk/   trUaUcuk60          60   \n",
       "940158  trUaUcuk/   trUaUcuk91          91   \n",
       "940167  trUaUcuk/  trUaUcuk100         100   \n",
       "940205  U7UC16b1/   U7UC16b135          35   \n",
       "940314  UP9lzFAq/   UP9lzFAq10          10   \n",
       "940362  UP9lzFAq/   UP9lzFAq68          68   \n",
       "940383  UP9lzFAq/   UP9lzFAq89          89   \n",
       "940386  UP9lzFAq/   UP9lzFAq92          92   \n",
       "940416  vJy048Er/   vJy048Er30          30   \n",
       "940484  vJy048Er/  vJy048Er101         101   \n",
       "940508  xAkY8l6R/   xAkY8l6R12          12   \n",
       "940522  xAkY8l6R/   xAkY8l6R26          26   \n",
       "940545  xAkY8l6R/   xAkY8l6R52          52   \n",
       "940553  xAkY8l6R/   xAkY8l6R60          60   \n",
       "940627  xSU9scI9/   xSU9scI932          32   \n",
       "940635  xSU9scI9/   xSU9scI940          40   \n",
       "940654  xSU9scI9/   xSU9scI961          61   \n",
       "940658  xSU9scI9/   xSU9scI965          65   \n",
       "940696  xY7uZwOI/    xY7uZwOI9           9   \n",
       "940699  xY7uZwOI/   xY7uZwOI12          12   \n",
       "940701  xY7uZwOI/   xY7uZwOI14          14   \n",
       "940719  xY7uZwOI/   xY7uZwOI32          32   \n",
       "940741  xY7uZwOI/   xY7uZwOI57          57   \n",
       "940768  xY7uZwOI/   xY7uZwOI85          85   \n",
       "940785  YyeGxMX8/   YyeGxMX820          20   \n",
       "940890  z5L2OT5E/    z5L2OT5E3           3   \n",
       "940910  z5L2OT5E/   z5L2OT5E23          23   \n",
       "\n",
       "                                                     text  event_type  \\\n",
       "11      Attempt missed. Shinji Kagawa (Borussia Dortmu...           1   \n",
       "112     Attempt saved. Jonas De Roeck (FC Augsburg) he...           1   \n",
       "147     Attempt saved. Marcel Ndjeng (FC Augsburg) rig...           1   \n",
       "171     Attempt saved. Cedric Makiadi (SC Freiburg) ri...           1   \n",
       "183     Goal!  FC Augsburg 1, SC Freiburg 1. Sascha Mo...           1   \n",
       "184     Goal!  FC Augsburg 1, SC Freiburg 2. Cedric Ma...           1   \n",
       "204     Attempt saved. Sascha Molders (FC Augsburg) he...           1   \n",
       "229     Attempt saved. Garra Dembele (SC Freiburg) rig...           1   \n",
       "238     Attempt saved. Lennart Thy (SV Werder Bremen) ...           1   \n",
       "266     Attempt saved. Aaron Hunt (SV Werder Bremen) l...           1   \n",
       "281     Attempt saved. Florian Dick (Kaiserslautern) r...           1   \n",
       "318     Attempt saved. Lukas Schmitz (SV Werder Bremen...           1   \n",
       "379     Attempt saved. Yann Jouffre (Lorient) right fo...           1   \n",
       "436     Attempt saved. Bruno Ecuele Manga (Lorient) ri...           1   \n",
       "458     Attempt saved. Milan Bisevac (Paris Saint Germ...           1   \n",
       "462     Attempt saved. Arnold Mvuemba (Lorient) left f...           1   \n",
       "469     Attempt saved. NenAª (Paris Saint Germain) lef...           1   \n",
       "504     Attempt missed. Pierre-Alain Frau (Caen) left ...           1   \n",
       "512     Attempt missed. Mathieu Dossevi (Valenciennes)...           1   \n",
       "514     Attempt saved. GaA«l Danic (Valenciennes) left...           1   \n",
       "517     Goal!  Caen 1, Valenciennes 0. Gregory Proment...           1   \n",
       "519     Attempt saved. GaA«l Danic (Valenciennes) head...           1   \n",
       "528     Attempt saved. GrA©gory Pujol (Valenciennes) r...           1   \n",
       "542     Attempt saved. GaA«l Danic (Valenciennes) left...           1   \n",
       "661     Attempt saved. Markus Mendler (FC Nurnberg) le...           1   \n",
       "664     Attempt saved. Markus Feulner (FC Nurnberg) le...           1   \n",
       "724     Goal!  Brest 0, Evian Thonon Gaillard 1. Olivi...           1   \n",
       "748     Attempt saved. Jonathan AyitA© (Brest) header ...           1   \n",
       "778     Attempt saved. Jonathan AyitA© (Brest) right f...           1   \n",
       "793     Attempt saved. Nolan Roux (Brest) right footed...           1   \n",
       "...                                                   ...         ...   \n",
       "940065  Attempt saved. Francis Coquelin (Arsenal) left...           1   \n",
       "940070  Attempt saved. Alexis Sanchez (Arsenal) right ...           1   \n",
       "940118  Attempt saved. Roberto Torres (Osasuna) right ...           1   \n",
       "940127  Attempt saved. Roberto Torres (Osasuna) right ...           1   \n",
       "940158  Goal!  Osasuna 2, Sevilla 3. Franco Vazquez (S...           1   \n",
       "940167  Attempt saved. Alex Berenguer (Osasuna) left f...           1   \n",
       "940205  Attempt saved. Marcelo Brozovic (Inter Milan) ...           1   \n",
       "940314  Attempt saved. Nathan Redmond (Southampton) ri...           1   \n",
       "940362  Attempt saved. Oriol Romeu (Southampton) right...           1   \n",
       "940383  Goal!  Southampton 3, Leicester City 0. Dusan ...           1   \n",
       "940386  Attempt saved. Nathan Redmond (Southampton) ri...           1   \n",
       "940416  Attempt saved. Jakub Jankto (Udinese) left foo...           1   \n",
       "940484  Goal!  Empoli 1, Udinese 0. Levan Mchedlidze (...           1   \n",
       "940508  Attempt saved. Adrian Stoian (Crotone) left fo...           1   \n",
       "940522  Attempt saved. Marcello Trotta (Crotone) left ...           1   \n",
       "940545  Attempt saved. Diego Falcinelli (Crotone) left...           1   \n",
       "940553  Goal!  Genoa 1, Crotone 1. Federico Ceccherini...           1   \n",
       "940627  Attempt saved. Marcos Alonso (Chelsea) left fo...           1   \n",
       "940635  Attempt saved. Harry Maguire (Hull City) right...           1   \n",
       "940654  Attempt saved. David Meyler (Hull City) right ...           1   \n",
       "940658  Attempt saved. Diego Costa (Chelsea) left foot...           1   \n",
       "940696  Attempt missed. Valere Germain (Monaco) header...           1   \n",
       "940699  Attempt saved. Valere Germain (Monaco) right f...           1   \n",
       "940701  Attempt saved. Tiemoue Bakayoko (Monaco) heade...           1   \n",
       "940719  Attempt saved. Falcao (Monaco) right footed sh...           1   \n",
       "940741  Attempt saved. Majeed Waris (Lorient) right fo...           1   \n",
       "940768  Attempt missed. Steven Moreira (Lorient) right...           1   \n",
       "940785  Attempt saved. Riza Durmisi (Real Betis) left ...           1   \n",
       "940890  Attempt saved. Dennis Praet (Sampdoria) right ...           1   \n",
       "940910  Attempt missed. Fabio Quagliarella (Sampdoria)...           1   \n",
       "\n",
       "        event_type2  side             event_team               opponent  \\\n",
       "11             12.0     1      Borussia Dortmund             Hamburg SV   \n",
       "112            12.0     1            FC Augsburg            SC Freiburg   \n",
       "147            12.0     1            FC Augsburg            SC Freiburg   \n",
       "171            12.0     2            SC Freiburg            FC Augsburg   \n",
       "183            12.0     1            FC Augsburg            SC Freiburg   \n",
       "184            12.0     2            SC Freiburg            FC Augsburg   \n",
       "204            12.0     1            FC Augsburg            SC Freiburg   \n",
       "229            12.0     2            SC Freiburg            FC Augsburg   \n",
       "238            12.0     1          Werder Bremen         Kaiserslautern   \n",
       "266            12.0     1          Werder Bremen         Kaiserslautern   \n",
       "281            12.0     2         Kaiserslautern          Werder Bremen   \n",
       "318            12.0     1          Werder Bremen         Kaiserslautern   \n",
       "379            12.0     2                Lorient    Paris Saint-Germain   \n",
       "436             NaN     2                Lorient    Paris Saint-Germain   \n",
       "458             NaN     1    Paris Saint-Germain                Lorient   \n",
       "462            12.0     2                Lorient    Paris Saint-Germain   \n",
       "469            12.0     1    Paris Saint-Germain                Lorient   \n",
       "504            12.0     1                   Caen           Valenciennes   \n",
       "512            12.0     2           Valenciennes                   Caen   \n",
       "514            12.0     2           Valenciennes                   Caen   \n",
       "517            12.0     1                   Caen           Valenciennes   \n",
       "519            12.0     2           Valenciennes                   Caen   \n",
       "528             NaN     2           Valenciennes                   Caen   \n",
       "542            12.0     2           Valenciennes                   Caen   \n",
       "661             NaN     2               Nurnberg          Hertha Berlin   \n",
       "664            12.0     2               Nurnberg          Hertha Berlin   \n",
       "724             NaN     2  Evian Thonon Gaillard                  Brest   \n",
       "748            12.0     1                  Brest  Evian Thonon Gaillard   \n",
       "778             NaN     1                  Brest  Evian Thonon Gaillard   \n",
       "793            12.0     1                  Brest  Evian Thonon Gaillard   \n",
       "...             ...   ...                    ...                    ...   \n",
       "940065          NaN     1                Arsenal                Burnley   \n",
       "940070         12.0     1                Arsenal                Burnley   \n",
       "940118          NaN     1                Osasuna                Sevilla   \n",
       "940127         12.0     1                Osasuna                Sevilla   \n",
       "940158         12.0     2                Sevilla                Osasuna   \n",
       "940167         12.0     1                Osasuna                Sevilla   \n",
       "940205         12.0     2         Internazionale                Palermo   \n",
       "940314          NaN     1            Southampton         Leicester City   \n",
       "940362         12.0     1            Southampton         Leicester City   \n",
       "940383          NaN     1            Southampton         Leicester City   \n",
       "940386          NaN     1            Southampton         Leicester City   \n",
       "940416         12.0     2                Udinese                 Empoli   \n",
       "940484         12.0     1                 Empoli                Udinese   \n",
       "940508          NaN     2                Crotone                  Genoa   \n",
       "940522         12.0     2                Crotone                  Genoa   \n",
       "940545         12.0     2                Crotone                  Genoa   \n",
       "940553         12.0     2                Crotone                  Genoa   \n",
       "940627         12.0     1                Chelsea                   Hull   \n",
       "940635         12.0     2                   Hull                Chelsea   \n",
       "940654         12.0     2                   Hull                Chelsea   \n",
       "940658         12.0     1                Chelsea                   Hull   \n",
       "940696         12.0     1              AS Monaco                Lorient   \n",
       "940699         12.0     1              AS Monaco                Lorient   \n",
       "940701         12.0     1              AS Monaco                Lorient   \n",
       "940719         12.0     1              AS Monaco                Lorient   \n",
       "940741         12.0     2                Lorient              AS Monaco   \n",
       "940768         12.0     2                Lorient              AS Monaco   \n",
       "940785         12.0     1             Real Betis         Sporting Gijon   \n",
       "940890         12.0     2              Sampdoria               Atalanta   \n",
       "940910          NaN     2              Sampdoria               Atalanta   \n",
       "\n",
       "                     player    ...                         at  fthg  ftag  \\\n",
       "11            shinji kagawa    ...                 Hamburg SV     3     1   \n",
       "112          jonas de roeck    ...                SC Freiburg     2     2   \n",
       "147           marcel ndjeng    ...                SC Freiburg     2     2   \n",
       "171          cedric makiadi    ...                SC Freiburg     2     2   \n",
       "183          sascha molders    ...                SC Freiburg     2     2   \n",
       "184          cedric makiadi    ...                SC Freiburg     2     2   \n",
       "204          sascha molders    ...                SC Freiburg     2     2   \n",
       "229           garra dembele    ...                SC Freiburg     2     2   \n",
       "238             lennart thy    ...             Kaiserslautern     2     0   \n",
       "266              aaron hunt    ...             Kaiserslautern     2     0   \n",
       "281            florian dick    ...             Kaiserslautern     2     0   \n",
       "318           lukas schmitz    ...             Kaiserslautern     2     0   \n",
       "379            yann jouffre    ...                    Lorient     0     1   \n",
       "436      bruno ecuele manga    ...                    Lorient     0     1   \n",
       "458           milan bisevac    ...                    Lorient     0     1   \n",
       "462          arnold mvuemba    ...                    Lorient     0     1   \n",
       "469                    nene    ...                    Lorient     0     1   \n",
       "504        pierrealain frau    ...               Valenciennes     1     0   \n",
       "512         mathieu dossevi    ...               Valenciennes     1     0   \n",
       "514              gael danic    ...               Valenciennes     1     0   \n",
       "517         gregory proment    ...               Valenciennes     1     0   \n",
       "519              gael danic    ...               Valenciennes     1     0   \n",
       "528           gregory pujol    ...               Valenciennes     1     0   \n",
       "542              gael danic    ...               Valenciennes     1     0   \n",
       "661          markus mendler    ...                   Nurnberg     0     1   \n",
       "664          markus feulner    ...                   Nurnberg     0     1   \n",
       "724          olivier sorlin    ...      Evian Thonon Gaillard     2     2   \n",
       "748          jonathan ayite    ...      Evian Thonon Gaillard     2     2   \n",
       "778          jonathan ayite    ...      Evian Thonon Gaillard     2     2   \n",
       "793              nolan roux    ...      Evian Thonon Gaillard     2     2   \n",
       "...                     ...    ...                        ...   ...   ...   \n",
       "940065     francis coquelin    ...                    Burnley     2     1   \n",
       "940070       alexis sanchez    ...                    Burnley     2     1   \n",
       "940118       roberto torres    ...                    Sevilla     3     4   \n",
       "940127       roberto torres    ...                    Sevilla     3     4   \n",
       "940158       franco vazquez    ...                    Sevilla     3     4   \n",
       "940167       alex berenguer    ...                    Sevilla     3     4   \n",
       "940205     marcelo brozovic    ...             Internazionale     0     1   \n",
       "940314       nathan redmond    ...             Leicester City     3     0   \n",
       "940362          oriol romeu    ...             Leicester City     3     0   \n",
       "940383          dusan tadic    ...             Leicester City     3     0   \n",
       "940386       nathan redmond    ...             Leicester City     3     0   \n",
       "940416         jakub jankto    ...                    Udinese     1     0   \n",
       "940484     levan mchedlidze    ...                    Udinese     1     0   \n",
       "940508        adrian stoian    ...                    Crotone     2     2   \n",
       "940522      marcello trotta    ...                    Crotone     2     2   \n",
       "940545     diego falcinelli    ...                    Crotone     2     2   \n",
       "940553  federico ceccherini    ...                    Crotone     2     2   \n",
       "940627        marcos alonso    ...                       Hull     2     0   \n",
       "940635        harry maguire    ...                       Hull     2     0   \n",
       "940654         david meyler    ...                       Hull     2     0   \n",
       "940658          diego costa    ...                       Hull     2     0   \n",
       "940696       valere germain    ...                    Lorient     4     0   \n",
       "940699       valere germain    ...                    Lorient     4     0   \n",
       "940701     tiemoue bakayoko    ...                    Lorient     4     0   \n",
       "940719               falcao    ...                    Lorient     4     0   \n",
       "940741         majeed waris    ...                    Lorient     4     0   \n",
       "940768       steven moreira    ...                    Lorient     4     0   \n",
       "940785         riza durmisi    ...             Sporting Gijon     0     0   \n",
       "940890         dennis praet    ...                  Sampdoria     1     0   \n",
       "940910   fabio quagliarella    ...                  Sampdoria     1     0   \n",
       "\n",
       "        odd_h  odd_d  odd_a  odd_over  odd_under odd_bts  odd_bts_n  \n",
       "11       1.56   4.41   7.42       NaN        NaN     NaN        NaN  \n",
       "112      2.36   3.60   3.40       NaN        NaN     NaN        NaN  \n",
       "147      2.36   3.60   3.40       NaN        NaN     NaN        NaN  \n",
       "171      2.36   3.60   3.40       NaN        NaN     NaN        NaN  \n",
       "183      2.36   3.60   3.40       NaN        NaN     NaN        NaN  \n",
       "184      2.36   3.60   3.40       NaN        NaN     NaN        NaN  \n",
       "204      2.36   3.60   3.40       NaN        NaN     NaN        NaN  \n",
       "229      2.36   3.60   3.40       NaN        NaN     NaN        NaN  \n",
       "238      1.83   4.20   4.80       NaN        NaN     NaN        NaN  \n",
       "266      1.83   4.20   4.80       NaN        NaN     NaN        NaN  \n",
       "281      1.83   4.20   4.80       NaN        NaN     NaN        NaN  \n",
       "318      1.83   4.20   4.80       NaN        NaN     NaN        NaN  \n",
       "379      1.55   4.50   9.40       NaN        NaN     NaN        NaN  \n",
       "436      1.55   4.50   9.40       NaN        NaN     NaN        NaN  \n",
       "458      1.55   4.50   9.40       NaN        NaN     NaN        NaN  \n",
       "462      1.55   4.50   9.40       NaN        NaN     NaN        NaN  \n",
       "469      1.55   4.50   9.40       NaN        NaN     NaN        NaN  \n",
       "504      2.50   3.40   3.45       NaN        NaN     NaN        NaN  \n",
       "512      2.50   3.40   3.45       NaN        NaN     NaN        NaN  \n",
       "514      2.50   3.40   3.45       NaN        NaN     NaN        NaN  \n",
       "517      2.50   3.40   3.45       NaN        NaN     NaN        NaN  \n",
       "519      2.50   3.40   3.45       NaN        NaN     NaN        NaN  \n",
       "528      2.50   3.40   3.45       NaN        NaN     NaN        NaN  \n",
       "542      2.50   3.40   3.45       NaN        NaN     NaN        NaN  \n",
       "661      2.06   3.75   3.95       NaN        NaN     NaN        NaN  \n",
       "664      2.06   3.75   3.95       NaN        NaN     NaN        NaN  \n",
       "724      2.29   3.25   3.85       NaN        NaN     NaN        NaN  \n",
       "748      2.29   3.25   3.85       NaN        NaN     NaN        NaN  \n",
       "778      2.29   3.25   3.85       NaN        NaN     NaN        NaN  \n",
       "793      2.29   3.25   3.85       NaN        NaN     NaN        NaN  \n",
       "...       ...    ...    ...       ...        ...     ...        ...  \n",
       "940065   1.23   7.65  17.75      1.50       2.84    2.15       1.81  \n",
       "940070   1.23   7.65  17.75      1.50       2.84    2.15       1.81  \n",
       "940118   6.80   4.42   1.58      1.82       2.19    1.88       2.01  \n",
       "940127   6.80   4.42   1.58      1.82       2.19    1.88       2.01  \n",
       "940158   6.80   4.42   1.58      1.82       2.19    1.88       2.01  \n",
       "940167   6.80   4.42   1.58      1.82       2.19    1.88       2.01  \n",
       "940205   7.68   4.42   1.55      1.80       2.22    1.91       2.04  \n",
       "940314   1.86   3.68   5.36      2.40       1.74    2.17       1.75  \n",
       "940362   1.86   3.68   5.36      2.40       1.74    2.17       1.75  \n",
       "940383   1.86   3.68   5.36      2.40       1.74    2.17       1.75  \n",
       "940386   1.86   3.68   5.36      2.40       1.74    2.17       1.75  \n",
       "940416   2.90   3.18   2.96      2.55       1.64    2.05       1.85  \n",
       "940484   2.90   3.18   2.96      2.55       1.64    2.05       1.85  \n",
       "940508   1.97   4.35   8.00      1.95       2.03    2.03       1.86  \n",
       "940522   1.97   4.35   8.00      1.95       2.03    2.03       1.86  \n",
       "940545   1.97   4.35   8.00      1.95       2.03    2.03       1.86  \n",
       "940553   1.97   4.35   8.00      1.95       2.03    2.03       1.86  \n",
       "940627   1.19   8.50  20.00      1.54       2.68    2.40       1.66  \n",
       "940635   1.19   8.50  20.00      1.54       2.68    2.40       1.66  \n",
       "940654   1.19   8.50  20.00      1.54       2.68    2.40       1.66  \n",
       "940658   1.19   8.50  20.00      1.54       2.68    2.40       1.66  \n",
       "940696   1.32   6.24  11.50      1.53       3.08    1.80       2.25  \n",
       "940699   1.32   6.24  11.50      1.53       3.08    1.80       2.25  \n",
       "940701   1.32   6.24  11.50      1.53       3.08    1.80       2.25  \n",
       "940719   1.32   6.24  11.50      1.53       3.08    1.80       2.25  \n",
       "940741   1.32   6.24  11.50      1.53       3.08    1.80       2.25  \n",
       "940768   1.32   6.24  11.50      1.53       3.08    1.80       2.25  \n",
       "940785   1.74   4.07   5.90      2.20       1.89    2.05       1.86  \n",
       "940890   1.79   3.96   5.40      1.90       2.07    1.80       2.16  \n",
       "940910   1.79   3.96   5.40      1.90       2.07    1.80       2.16  \n",
       "\n",
       "[35153 rows x 35 columns]"
      ]
     },
     "execution_count": 154,
     "metadata": {},
     "output_type": "execute_result"
    }
   ],
   "source": [
    "df_escanteios"
   ]
  },
  {
   "cell_type": "code",
   "execution_count": 155,
   "metadata": {
    "collapsed": true
   },
   "outputs": [],
   "source": [
    "gp = pd.merge(df_assistencia_escanteio, df_dados_partida, how='inner', on=['id_odsp', 'id_odsp'])"
   ]
  },
  {
   "cell_type": "markdown",
   "metadata": {},
   "source": [
    "#### Agrupando os escanteios por time"
   ]
  },
  {
   "cell_type": "code",
   "execution_count": 156,
   "metadata": {
    "collapsed": true
   },
   "outputs": [],
   "source": [
    "escanteios = df_escanteios.groupby(['event_team']).count()"
   ]
  },
  {
   "cell_type": "markdown",
   "metadata": {},
   "source": [
    "##### Agrupando os gls por time"
   ]
  },
  {
   "cell_type": "code",
   "execution_count": 157,
   "metadata": {
    "collapsed": true
   },
   "outputs": [],
   "source": [
    "escanteios_gol = df_assistencia_escanteio.groupby(['event_team']).count()"
   ]
  },
  {
   "cell_type": "markdown",
   "metadata": {},
   "source": [
    "#### Calculando a eficiencia em escanteios"
   ]
  },
  {
   "cell_type": "code",
   "execution_count": 158,
   "metadata": {},
   "outputs": [
    {
     "data": {
      "text/plain": [
       "event_team\n",
       "AC Ajaccio                    0.146341\n",
       "AC Milan                      0.085288\n",
       "AJ Auxerre                    0.109589\n",
       "AS Monaco                     0.147541\n",
       "AS Nancy Lorraine             0.113772\n",
       "AS Roma                       0.104364\n",
       "Alaves                        0.217391\n",
       "Almeria                       0.142857\n",
       "Angers                        0.098039\n",
       "Arsenal                       0.100592\n",
       "Aston Villa                   0.112994\n",
       "Atalanta                      0.134247\n",
       "Athletic Bilbao               0.203753\n",
       "Atletico Madrid               0.167488\n",
       "Barcelona                     0.106299\n",
       "Bastia                        0.123134\n",
       "Bayer Leverkusen              0.070560\n",
       "Bayern Munich                 0.122137\n",
       "Bologna                       0.087087\n",
       "Bordeaux                      0.143590\n",
       "Borussia Dortmund             0.104167\n",
       "Borussia Monchengladbach      0.064615\n",
       "Bournemouth                   0.142857\n",
       "Brest                         0.034014\n",
       "Burnley                       0.086420\n",
       "Caen                          0.141463\n",
       "Cagliari                      0.113269\n",
       "Cardiff                       0.181818\n",
       "Carpi                         0.109091\n",
       "Catania                       0.075099\n",
       "                                ...   \n",
       "Schalke 04                    0.131868\n",
       "Sevilla                       0.112469\n",
       "Siena                         0.140741\n",
       "Sochaux                       0.105042\n",
       "Southampton                   0.109541\n",
       "SpVgg Greuther Furth          0.070175\n",
       "Sporting Gijon                0.152174\n",
       "St Etienne                    0.133333\n",
       "Stade Rennes                  0.106557\n",
       "Stade de Reims                0.107143\n",
       "Stoke City                    0.135678\n",
       "Sunderland                    0.084158\n",
       "Swansea                       0.140271\n",
       "TSG Hoffenheim                0.070122\n",
       "TSV Eintracht Braunschweig    0.095238\n",
       "Torino                        0.114973\n",
       "Tottenham                     0.102564\n",
       "Toulouse                      0.097059\n",
       "Troyes                        0.104167\n",
       "US Pescara                    0.069307\n",
       "Udinese                       0.109375\n",
       "Valencia                      0.191257\n",
       "Valenciennes                  0.077551\n",
       "VfB Stuttgart                 0.107034\n",
       "VfL Wolfsburg                 0.136951\n",
       "Villarreal                    0.056940\n",
       "Watford                       0.114583\n",
       "Werder Bremen                 0.085106\n",
       "West Brom                     0.186813\n",
       "West Ham                      0.129870\n",
       "Name: id_odsp, Length: 142, dtype: float64"
      ]
     },
     "execution_count": 158,
     "metadata": {},
     "output_type": "execute_result"
    }
   ],
   "source": [
    "eficiencia_escanteios = escanteios_gol['id_odsp']/escanteios['id_odsp']\n",
    "eficiencia_escanteios"
   ]
  },
  {
   "cell_type": "code",
   "execution_count": 254,
   "metadata": {},
   "outputs": [
    {
     "data": {
      "image/png": "[encoded data removed]",
      "text/plain": [
       "<matplotlib.figure.Figure at 0x1f6956c0b00>"
      ]
     },
     "metadata": {},
     "output_type": "display_data"
    }
   ],
   "source": [
    " hist_escanteios = plt.hist(eficiencia_escanteios['id_odsp'], facecolor=\"blue\", bins = 50)"
   ]
  },
  {
   "cell_type": "markdown",
   "metadata": {},
   "source": [
    "#### Time com maior eficiencia em escanteios"
   ]
  },
  {
   "cell_type": "code",
   "execution_count": 159,
   "metadata": {},
   "outputs": [
    {
     "data": {
      "text/plain": [
       "event_team\n",
       "Middlesbrough    0.388889\n",
       "Name: id_odsp, dtype: float64"
      ]
     },
     "execution_count": 159,
     "metadata": {},
     "output_type": "execute_result"
    }
   ],
   "source": [
    "df_filtro_max = eficiencia_escanteios[(eficiencia_escanteios == max(eficiencia_escanteios))]\n",
    "df_filtro_max"
   ]
  },
  {
   "cell_type": "markdown",
   "metadata": {},
   "source": [
    "#### Time com menor eficiencia em escanteios"
   ]
  },
  {
   "cell_type": "code",
   "execution_count": 160,
   "metadata": {},
   "outputs": [
    {
     "data": {
      "text/plain": [
       "event_team\n",
       "Brest    0.034014\n",
       "Name: id_odsp, dtype: float64"
      ]
     },
     "execution_count": 160,
     "metadata": {},
     "output_type": "execute_result"
    }
   ],
   "source": [
    "df_filtro_min = eficiencia_escanteios[(eficiencia_escanteios == min(eficiencia_escanteios))]\n",
    "df_filtro_min"
   ]
  },
  {
   "cell_type": "code",
   "execution_count": 161,
   "metadata": {
    "collapsed": true
   },
   "outputs": [],
   "source": [
    "eficiencia_escanteios = eficiencia_escanteios.to_frame()"
   ]
  },
  {
   "cell_type": "code",
   "execution_count": 162,
   "metadata": {},
   "outputs": [
    {
     "data": {
      "text/plain": [
       "<matplotlib.axes._subplots.AxesSubplot at 0x1f6ad5a7b70>"
      ]
     },
     "execution_count": 162,
     "metadata": {},
     "output_type": "execute_result"
    },
    {
     "data": {
      "image/png": "[encoded data removed]",
      "text/plain": [
       "<matplotlib.figure.Figure at 0x1f6ad5a7cc0>"
      ]
     },
     "metadata": {},
     "output_type": "display_data"
    }
   ],
   "source": [
    "eficiencia_escanteios.boxplot()"
   ]
  },
  {
   "cell_type": "markdown",
   "metadata": {},
   "source": [
    "#### Exibindo os clubes que estão acima da média (Outliers)"
   ]
  },
  {
   "cell_type": "code",
   "execution_count": 163,
   "metadata": {},
   "outputs": [
    {
     "data": {
      "text/html": [
       "<div>\n",
       "<style>\n",
       "    .dataframe thead tr:only-child th {\n",
       "        text-align: right;\n",
       "    }\n",
       "\n",
       "    .dataframe thead th {\n",
       "        text-align: left;\n",
       "    }\n",
       "\n",
       "    .dataframe tbody tr th {\n",
       "        vertical-align: top;\n",
       "    }\n",
       "</style>\n",
       "<table border=\"1\" class=\"dataframe\">\n",
       "  <thead>\n",
       "    <tr style=\"text-align: right;\">\n",
       "      <th></th>\n",
       "      <th>id_odsp</th>\n",
       "    </tr>\n",
       "    <tr>\n",
       "      <th>event_team</th>\n",
       "      <th></th>\n",
       "    </tr>\n",
       "  </thead>\n",
       "  <tbody>\n",
       "    <tr>\n",
       "      <th>Alaves</th>\n",
       "      <td>0.217391</td>\n",
       "    </tr>\n",
       "    <tr>\n",
       "      <th>Athletic Bilbao</th>\n",
       "      <td>0.203753</td>\n",
       "    </tr>\n",
       "    <tr>\n",
       "      <th>GFC Ajaccio</th>\n",
       "      <td>0.263158</td>\n",
       "    </tr>\n",
       "    <tr>\n",
       "      <th>Middlesbrough</th>\n",
       "      <td>0.388889</td>\n",
       "    </tr>\n",
       "    <tr>\n",
       "      <th>QPR</th>\n",
       "      <td>0.203704</td>\n",
       "    </tr>\n",
       "  </tbody>\n",
       "</table>\n",
       "</div>"
      ],
      "text/plain": [
       "                  id_odsp\n",
       "event_team               \n",
       "Alaves           0.217391\n",
       "Athletic Bilbao  0.203753\n",
       "GFC Ajaccio      0.263158\n",
       "Middlesbrough    0.388889\n",
       "QPR              0.203704"
      ]
     },
     "execution_count": 163,
     "metadata": {},
     "output_type": "execute_result"
    }
   ],
   "source": [
    "eficiencia_escanteios[(eficiencia_escanteios['id_odsp'] > 0.2)]"
   ]
  },
  {
   "cell_type": "markdown",
   "metadata": {},
   "source": [
    "* Alavés -> Espanhol\n",
    "* Athletic Bilbao -> Espanhol\n",
    "* GFC Ajaccio -> Francês\n",
    "* Middlesbrough -> Inglês\n",
    "* QPR -> Inglês\n"
   ]
  },
  {
   "cell_type": "markdown",
   "metadata": {},
   "source": [
    "# 7.\tQUAL O PERCENTUAL DE APROVEITAMENTO DOS JOGOS EM CASA ENTRE BARCELONA E REAL MADRID?"
   ]
  },
  {
   "cell_type": "markdown",
   "metadata": {},
   "source": [
    "# 8.\tQUEM TEVE O MELHOR DESEMPENHO ENTRE 2012 E 2016, C. RONALDO OU MESSI?"
   ]
  },
  {
   "cell_type": "markdown",
   "metadata": {},
   "source": [
    "# 9.\tQUAL A FREQUÊNCIA DE CHUTES DE LONGA DISTÂNCIA DAS PARTIDAS DA LIGA ESPANHOLA?"
   ]
  },
  {
   "cell_type": "markdown",
   "metadata": {},
   "source": [
    "#### Tratando as tentativas (finalizações) da liga espanhola"
   ]
  },
  {
   "cell_type": "code",
   "execution_count": 164,
   "metadata": {
    "collapsed": true
   },
   "outputs": [],
   "source": [
    "Longa_distancia = 16 \n",
    "mais_32_metros = 17\n",
    "mais_36_metros = 18\n",
    "\n",
    "#16\tLong range\n",
    "#17\tMore than 35 yards \n",
    "#18\tMore than 40 yards"
   ]
  },
  {
   "cell_type": "markdown",
   "metadata": {},
   "source": [
    "1 jarda = 0,9144 metro "
   ]
  },
  {
   "cell_type": "code",
   "execution_count": 165,
   "metadata": {
    "collapsed": true
   },
   "outputs": [],
   "source": [
    "df_tentativas_espanhola_2012 = df_tentativas_temporada[(df_tentativas_temporada.league == espanhola) \n",
    "                                                       & (df_tentativas_temporada.season == 2012)]\n",
    "df_tentativas_espanhola_2013 = df_tentativas_temporada[(df_tentativas_temporada.league == espanhola) \n",
    "                                                       & (df_tentativas_temporada.season == 2013)]\n",
    "df_tentativas_espanhola_2014 = df_tentativas_temporada[(df_tentativas_temporada.league == espanhola) \n",
    "                                                       & (df_tentativas_temporada.season == 2014)]\n",
    "df_tentativas_espanhola_2015 = df_tentativas_temporada[(df_tentativas_temporada.league == espanhola) \n",
    "                                                       & (df_tentativas_temporada.season == 2015)]\n",
    "df_tentativas_espanhola_2016 = df_tentativas_temporada[(df_tentativas_temporada.league == espanhola) \n",
    "                                                       & (df_tentativas_temporada.season == 2016)]"
   ]
  },
  {
   "cell_type": "markdown",
   "metadata": {},
   "source": [
    "#### Pegando os eventos que se caracterizam de longa distância"
   ]
  },
  {
   "cell_type": "code",
   "execution_count": 166,
   "metadata": {
    "collapsed": true
   },
   "outputs": [],
   "source": [
    "df_longa_esp_2012 = df_tentativas_espanhola_2012[(df_tentativas_espanhola_2012.location == 16) | \n",
    "                            (df_tentativas_espanhola_2012.location == 17) | \n",
    "                            (df_tentativas_espanhola_2012.location == 18)]\n",
    "\n",
    "df_longa_esp_2013 = df_tentativas_espanhola_2013[(df_tentativas_espanhola_2013.location == 16) | \n",
    "                            (df_tentativas_espanhola_2013.location == 17) | \n",
    "                            (df_tentativas_espanhola_2013.location == 18)]\n",
    "\n",
    "df_longa_esp_2014 = df_tentativas_espanhola_2014[(df_tentativas_espanhola_2014.location == 16) | \n",
    "                            (df_tentativas_espanhola_2014.location == 17) | \n",
    "                            (df_tentativas_espanhola_2014.location == 18)]\n",
    "\n",
    "df_longa_esp_2015 = df_tentativas_espanhola_2015[(df_tentativas_espanhola_2015.location == 16) | \n",
    "                            (df_tentativas_espanhola_2015.location == 17) | \n",
    "                            (df_tentativas_espanhola_2015.location == 18)]\n",
    "\n",
    "df_longa_esp_2016 = df_tentativas_espanhola_2016[(df_tentativas_espanhola_2016.location == 16) | \n",
    "                            (df_tentativas_espanhola_2016.location == 17) | \n",
    "                            (df_tentativas_espanhola_2016.location == 18)]"
   ]
  },
  {
   "cell_type": "markdown",
   "metadata": {},
   "source": [
    "##### Fazendo comparativo entre Real Madrid e Barcelona"
   ]
  },
  {
   "cell_type": "code",
   "execution_count": 167,
   "metadata": {
    "collapsed": true
   },
   "outputs": [],
   "source": [
    "chutes_barca_2012 = df_tentativas_espanhola_2012[(df_tentativas_espanhola_2012.event_team == 'Barcelona')]['event_team'].count()\n",
    "chutes_barca_2013 = df_tentativas_espanhola_2013[(df_tentativas_espanhola_2013.event_team == 'Barcelona')]['event_team'].count()\n",
    "chutes_barca_2014 = df_tentativas_espanhola_2014[(df_tentativas_espanhola_2014.event_team == 'Barcelona')]['event_team'].count()\n",
    "chutes_barca_2015 = df_tentativas_espanhola_2015[(df_tentativas_espanhola_2015.event_team == 'Barcelona')]['event_team'].count()\n",
    "chutes_barca_2016 = df_tentativas_espanhola_2016[(df_tentativas_espanhola_2016.event_team == 'Barcelona')]['event_team'].count()\n",
    "\n",
    "\n",
    "chutes_real_2012 = df_tentativas_espanhola_2012[(df_tentativas_espanhola_2012.event_team == 'Real Madrid')]['event_team'].count()\n",
    "chutes_real_2013 = df_tentativas_espanhola_2013[(df_tentativas_espanhola_2013.event_team == 'Real Madrid')]['event_team'].count()\n",
    "chutes_real_2014 = df_tentativas_espanhola_2014[(df_tentativas_espanhola_2014.event_team == 'Real Madrid')]['event_team'].count()\n",
    "chutes_real_2015 = df_tentativas_espanhola_2015[(df_tentativas_espanhola_2015.event_team == 'Real Madrid')]['event_team'].count()\n",
    "chutes_real_2016 = df_tentativas_espanhola_2016[(df_tentativas_espanhola_2016.event_team == 'Real Madrid')]['event_team'].count()\n"
   ]
  },
  {
   "cell_type": "code",
   "execution_count": 168,
   "metadata": {
    "collapsed": true
   },
   "outputs": [],
   "source": [
    "longo_barca_2012 = df_longa_esp_2012[(df_longa_esp_2012.event_team == 'Barcelona')]['event_team'].count()\n",
    "longo_barca_2013 = df_longa_esp_2013[(df_longa_esp_2013.event_team == 'Barcelona')]['event_team'].count()\n",
    "longo_barca_2014 = df_longa_esp_2014[(df_longa_esp_2014.event_team == 'Barcelona')]['event_team'].count()\n",
    "longo_barca_2015 = df_longa_esp_2015[(df_longa_esp_2015.event_team == 'Barcelona')]['event_team'].count()\n",
    "longo_barca_2016 = df_longa_esp_2016[(df_longa_esp_2016.event_team == 'Barcelona')]['event_team'].count()\n",
    "\n",
    "\n",
    "longo_real_2012 = df_longa_esp_2012[(df_longa_esp_2012.event_team == 'Real Madrid')]['event_team'].count()\n",
    "longo_real_2013 = df_longa_esp_2013[(df_longa_esp_2013.event_team == 'Real Madrid')]['event_team'].count()\n",
    "longo_real_2014 = df_longa_esp_2014[(df_longa_esp_2014.event_team == 'Real Madrid')]['event_team'].count()\n",
    "longo_real_2015 = df_longa_esp_2015[(df_longa_esp_2015.event_team == 'Real Madrid')]['event_team'].count()\n",
    "longo_real_2016 = df_longa_esp_2016[(df_longa_esp_2016.event_team == 'Real Madrid')]['event_team'].count()"
   ]
  },
  {
   "cell_type": "code",
   "execution_count": 169,
   "metadata": {
    "collapsed": true
   },
   "outputs": [],
   "source": [
    "barca_2012 = longo_barca_2012 / chutes_barca_2012\n",
    "barca_2013 = longo_barca_2013 / chutes_barca_2013\n",
    "barca_2014 = longo_barca_2014 / chutes_barca_2014\n",
    "barca_2015 = longo_barca_2015 / chutes_barca_2015\n",
    "barca_2016 = longo_barca_2016 / chutes_barca_2016\n",
    "\n",
    "real_2012 = longo_real_2012 / chutes_real_2012\n",
    "real_2013 = longo_real_2013 / chutes_real_2013\n",
    "real_2014 = longo_real_2014 / chutes_real_2014\n",
    "real_2015 = longo_real_2015 / chutes_real_2015\n",
    "real_2016 = longo_real_2016 / chutes_real_2016"
   ]
  },
  {
   "cell_type": "code",
   "execution_count": 170,
   "metadata": {
    "collapsed": true
   },
   "outputs": [],
   "source": [
    "#Barcelona\n",
    "df_Barcelona = pd.DataFrame(\n",
    "    {\n",
    "    \"ano\": ['2012', '2013', '2014', '2015', '2016'],\n",
    "    \"indice_chute_longo\": [barca_2012, barca_2013, barca_2014, \n",
    "               barca_2015, barca_2016]\n",
    "    }\n",
    ")"
   ]
  },
  {
   "cell_type": "code",
   "execution_count": 171,
   "metadata": {
    "collapsed": true
   },
   "outputs": [],
   "source": [
    "#Real Madrid\n",
    "df_Real = pd.DataFrame(\n",
    "    {\n",
    "    \"ano\": ['2012', '2013', '2014', '2015', '2016'],\n",
    "    \"indice_chute_longo\": [real_2012, real_2013, real_2014, \n",
    "               real_2015, real_2016]\n",
    "    }\n",
    ")"
   ]
  },
  {
   "cell_type": "code",
   "execution_count": 172,
   "metadata": {},
   "outputs": [
    {
     "data": {
      "text/plain": [
       "0.010478183757157698"
      ]
     },
     "execution_count": 172,
     "metadata": {},
     "output_type": "execute_result"
    }
   ],
   "source": [
    "df_Real['indice_chute_longo'].mean()"
   ]
  },
  {
   "cell_type": "markdown",
   "metadata": {},
   "source": [
    "#### Pegando a frequencia de finalizações de longa distancia da liga espanhola de 2012 a 2016"
   ]
  },
  {
   "cell_type": "code",
   "execution_count": 173,
   "metadata": {
    "collapsed": true
   },
   "outputs": [],
   "source": [
    "espanhola2012_longo_alcance = df_longa_esp_2012['event_team'].count() / df_tentativas_espanhola_2012['event_team'].count() \n",
    "espanhola2013_longo_alcance = df_longa_esp_2013['event_team'].count() / df_tentativas_espanhola_2013['event_team'].count()\n",
    "espanhola2014_longo_alcance = df_longa_esp_2014['event_team'].count() / df_tentativas_espanhola_2014['event_team'].count() \n",
    "espanhola2015_longo_alcance = df_longa_esp_2015['event_team'].count() / df_tentativas_espanhola_2015['event_team'].count() \n",
    "espanhola2016_longo_alcance = df_longa_esp_2016['event_team'].count() / df_tentativas_espanhola_2016['event_team'].count() \n"
   ]
  },
  {
   "cell_type": "code",
   "execution_count": null,
   "metadata": {
    "collapsed": true
   },
   "outputs": [],
   "source": []
  },
  {
   "cell_type": "code",
   "execution_count": 174,
   "metadata": {
    "collapsed": true
   },
   "outputs": [],
   "source": [
    "#Liga ESPANHOLA\n",
    "df_longa_distancia_espanhola = pd.DataFrame(\n",
    "    {\n",
    "    \"ano\": ['2012', '2013', '2014', '2015', '2016'],\n",
    "    \"indice\": [espanhola2012_longo_alcance, espanhola2013_longo_alcance, espanhola2014_longo_alcance, \n",
    "               espanhola2015_longo_alcance, espanhola2016_longo_alcance]\n",
    "    }\n",
    ")"
   ]
  },
  {
   "cell_type": "code",
   "execution_count": 175,
   "metadata": {},
   "outputs": [
    {
     "data": {
      "text/html": [
       "<div>\n",
       "<style>\n",
       "    .dataframe thead tr:only-child th {\n",
       "        text-align: right;\n",
       "    }\n",
       "\n",
       "    .dataframe thead th {\n",
       "        text-align: left;\n",
       "    }\n",
       "\n",
       "    .dataframe tbody tr th {\n",
       "        vertical-align: top;\n",
       "    }\n",
       "</style>\n",
       "<table border=\"1\" class=\"dataframe\">\n",
       "  <thead>\n",
       "    <tr style=\"text-align: right;\">\n",
       "      <th></th>\n",
       "      <th>ano</th>\n",
       "      <th>indice</th>\n",
       "    </tr>\n",
       "  </thead>\n",
       "  <tbody>\n",
       "    <tr>\n",
       "      <th>0</th>\n",
       "      <td>2012</td>\n",
       "      <td>0.023449</td>\n",
       "    </tr>\n",
       "    <tr>\n",
       "      <th>1</th>\n",
       "      <td>2013</td>\n",
       "      <td>0.020454</td>\n",
       "    </tr>\n",
       "    <tr>\n",
       "      <th>2</th>\n",
       "      <td>2014</td>\n",
       "      <td>0.021914</td>\n",
       "    </tr>\n",
       "    <tr>\n",
       "      <th>3</th>\n",
       "      <td>2015</td>\n",
       "      <td>0.018708</td>\n",
       "    </tr>\n",
       "    <tr>\n",
       "      <th>4</th>\n",
       "      <td>2016</td>\n",
       "      <td>0.017286</td>\n",
       "    </tr>\n",
       "  </tbody>\n",
       "</table>\n",
       "</div>"
      ],
      "text/plain": [
       "    ano    indice\n",
       "0  2012  0.023449\n",
       "1  2013  0.020454\n",
       "2  2014  0.021914\n",
       "3  2015  0.018708\n",
       "4  2016  0.017286"
      ]
     },
     "execution_count": 175,
     "metadata": {},
     "output_type": "execute_result"
    }
   ],
   "source": [
    "df_longa_distancia_espanhola"
   ]
  },
  {
   "cell_type": "markdown",
   "metadata": {},
   "source": [
    "#### Plotando um gráfico com os valores das temporadas"
   ]
  },
  {
   "cell_type": "code",
   "execution_count": 176,
   "metadata": {},
   "outputs": [
    {
     "data": {
      "text/plain": [
       "Text(0,0.5,'Média de Chutes Longos')"
      ]
     },
     "execution_count": 176,
     "metadata": {},
     "output_type": "execute_result"
    },
    {
     "data": {
      "image/png": "[encoded data removed]",
      "text/plain": [
       "<matplotlib.figure.Figure at 0x1f68079f2b0>"
      ]
     },
     "metadata": {},
     "output_type": "display_data"
    }
   ],
   "source": [
    "eixo_temporadas = df_longa_distancia_espanhola['ano']\n",
    "plt.plot(eixo_temporadas, df_longa_distancia_espanhola['indice'], 'go', color='blue')\n",
    "plt.plot(eixo_temporadas, df_longa_distancia_espanhola['indice'], '--', color='blue')\n",
    "\n",
    "plt.title(\"índices de Finalizações de Longa Distância\")\n",
    "plt.grid(True)\n",
    "plt.xlabel(\"Temporadas\")\n",
    "plt.ylabel(\"Média de Chutes Longos\")"
   ]
  },
  {
   "cell_type": "markdown",
   "metadata": {},
   "source": [
    "# 10.\tQUAL CLUBE TEM MAIORES INDICES DE CHUTES A LONGA DISTÂNCIA, REAL MADRID OU BARCELONA?"
   ]
  },
  {
   "cell_type": "code",
   "execution_count": 177,
   "metadata": {},
   "outputs": [
    {
     "data": {
      "text/plain": [
       "Text(0,0.5,'Média de Chutes Longos')"
      ]
     },
     "execution_count": 177,
     "metadata": {},
     "output_type": "execute_result"
    },
    {
     "data": {
      "image/png": "[encoded data removed]",
      "text/plain": [
       "<matplotlib.figure.Figure at 0x1f683b935f8>"
      ]
     },
     "metadata": {},
     "output_type": "display_data"
    }
   ],
   "source": [
    "eixo_temporadas = df_Real['ano']\n",
    "plt.plot(eixo_temporadas, df_Real['indice_chute_longo'], 'go', color='black')\n",
    "plt.plot(eixo_temporadas, df_Real['indice_chute_longo'], '--', color='black')\n",
    "\n",
    "plt.plot(eixo_temporadas, df_Barcelona['indice_chute_longo'], 'ro')\n",
    "plt.plot(eixo_temporadas, df_Barcelona['indice_chute_longo'], '--', color='red')\n",
    "\n",
    "plt.title(\"índices de Finalizações de Longa Distância\")\n",
    "plt.grid(True)\n",
    "\n",
    "preto_patch = mpatches.Patch(color='black', label='Real Madrid')\n",
    "vermelho_patch = mpatches.Patch(color='red', label='Barcelona')\n",
    "\n",
    "plt.legend(handles=[vermelho_patch, preto_patch])\n",
    "\n",
    "plt.xlabel(\"Temporadas\")\n",
    "plt.ylabel(\"Média de Chutes Longos\")"
   ]
  },
  {
   "cell_type": "markdown",
   "metadata": {
    "collapsed": true
   },
   "source": [
    "* **O maior índice de finalizações de longa distância do Real Madrid é 1.6% do total de chutes, alcançado em 2012.**\n",
    "* **Já o Barcelona tem como maior índice 0.8%, valor alcançado também em 2012.**"
   ]
  },
  {
   "cell_type": "code",
   "execution_count": null,
   "metadata": {
    "collapsed": true
   },
   "outputs": [],
   "source": []
  }
 ],
 "metadata": {
  "kernelspec": {
   "display_name": "Python 3",
   "language": "python",
   "name": "python3"
  },
  "language_info": {
   "codemirror_mode": {
    "name": "ipython",
    "version": 3
   },
   "file_extension": ".py",
   "mimetype": "text/x-python",
   "name": "python",
   "nbconvert_exporter": "python",
   "pygments_lexer": "ipython3",
   "version": "3.6.3"
  }
 },
 "nbformat": 4,
 "nbformat_minor": 2
}
