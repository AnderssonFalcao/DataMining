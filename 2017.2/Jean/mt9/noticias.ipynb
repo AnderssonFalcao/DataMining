{
 "cells": [
  {
   "cell_type": "markdown",
   "metadata": {},
   "source": [
    "<h1>Links das noticias do site Globo.com</h1>"
   ]
  },
  {
   "cell_type": "code",
   "execution_count": 135,
   "metadata": {},
   "outputs": [],
   "source": [
    "import urllib\n",
    "import urllib.request\n",
    "from bs4 import BeautifulSoup"
   ]
  },
  {
   "cell_type": "code",
   "execution_count": 136,
   "metadata": {},
   "outputs": [],
   "source": [
    "dados_html = urllib.request.urlopen('http://www.globo.com/')\n",
    "dados = BeautifulSoup(dados_html, 'html.parser')"
   ]
  },
  {
   "cell_type": "code",
   "execution_count": 137,
   "metadata": {
    "collapsed": true
   },
   "outputs": [],
   "source": [
    "def exibir_links(classe):\n",
    "    for link in dados.find_all('a', {'class': classe}):\n",
    "        print (link.get('href'))"
   ]
  },
  {
   "cell_type": "code",
   "execution_count": 138,
   "metadata": {},
   "outputs": [
    {
     "name": "stdout",
     "output_type": "stream",
     "text": [
      "https://g1.globo.com/politica/noticia/camara-marca-para-as-19h-de-segunda-feira-votacao-do-decreto-de-intervencao-no-rio.ghtml\n",
      "https://oglobo.globo.com/rio/imprensa-internacional-repercute-intervencao-federal-no-rio-22406387\n",
      "https://g1.globo.com/politica/noticia/apos-intervencao-no-rj-secretarios-de-seguranca-de-sp-mg-e-es-pedem-reuniao-com-ministro-da-justica.ghtml\n",
      "https://g1.globo.com/es/espirito-santo/noticia/intervencao-no-rio-se-bandidos-vieram-pra-ca-vao-se-dar-mal-diz-andre-garcia-sobre-divisa-do-es-com-rj.ghtml\n",
      "https://g1.globo.com/rj/rio-de-janeiro/noticia/cerca-de-15-mil-pessoas-continuavam-desalojados-pelas-chuvas-no-rio-nesta-sexta-feira.ghtml\n",
      "https://g1.globo.com/sp/sao-paulo/noticia/justica-aceita-recurso-e-determina-soltura-imediata-de-mulher-presa-com-bebe-em-sp.ghtml\n",
      "https://oglobo.globo.com/mundo/2018/02/16/2273-fbi-reconhece-que-nao-investigou-dica-que-recebeu-sobre-atirador-da-florida\n",
      "https://sportv.globo.com/site/programas/troca-de-passes/noticia/muricy-defende-neymar-nao-acho-mimado-cara-profissional-para-caramba.ghtml\n",
      "https://globoesporte.globo.com/futebol/times/atletico-mg/noticia/galo-nao-paga-1-parcela-da-rescisao-de-fred-e-aguarda-multa-devida-por-atacante.ghtml\n",
      "https://globoesporte.globo.com/futebol/times/flamengo/noticia/no-embalo-de-vinicius-jr-jean-lucas-renova-com-multa-superior-a-r-100-milhoes.ghtml\n",
      "https://gshow.globo.com/realities/bbb/BBB18/agora-na-casa/noticia/jessica-diz-para-lucas-a-gente-tem-que-viver-isso.ghtml\n",
      "https://gshow.globo.com/realities/bbb/BBB18/agora-na-casa/noticia/wagner-sobre-comportamento-de-nayara-esta-feio.ghtml\n",
      "https://gshow.globo.com/novelas/o-outro-lado-do-paraiso/vem-por-ai/noticia/sophia-manda-matar-vinicius.ghtml\n",
      "https://g1.globo.com/politica/noticia/camara-marca-para-as-19h-de-segunda-feira-votacao-do-decreto-de-intervencao-no-rio.ghtml\n",
      "https://g1.globo.com/politica/blog/cristiana-lobo/post/a-surpresa-de-pezao-com-a-proposta-de-intervencao-no-rio-de-janeiro.ghtml\n",
      "http://blogs.oglobo.globo.com/lauro-jardim/post/decreto-de-temer-e-questionado-no-stf.html\n",
      "https://g1.globo.com/politica/blog/gerson-camarotti/post/2018/02/16/com-intervencao-no-rj-temer-tira-prioridade-da-reforma-da-previdencia.ghtml\n",
      "https://oglobo.globo.com/rio/imprensa-internacional-repercute-intervencao-federal-no-rio-22406387\n",
      "https://g1.globo.com/politica/noticia/apos-intervencao-no-rj-secretarios-de-seguranca-de-sp-mg-e-es-pedem-reuniao-com-ministro-da-justica.ghtml\n",
      "https://g1.globo.com/es/espirito-santo/noticia/intervencao-no-rio-se-bandidos-vieram-pra-ca-vao-se-dar-mal-diz-andre-garcia-sobre-divisa-do-es-com-rj.ghtml\n",
      "https://g1.globo.com/rj/rio-de-janeiro/noticia/cerca-de-15-mil-pessoas-continuavam-desalojados-pelas-chuvas-no-rio-nesta-sexta-feira.ghtml\n",
      "https://g1.globo.com/sp/sao-paulo/noticia/justica-aceita-recurso-e-determina-soltura-imediata-de-mulher-presa-com-bebe-em-sp.ghtml\n",
      "https://oglobo.globo.com/mundo/2018/02/16/2273-fbi-reconhece-que-nao-investigou-dica-que-recebeu-sobre-atirador-da-florida\n",
      "https://sportv.globo.com/site/programas/troca-de-passes/noticia/muricy-defende-neymar-nao-acho-mimado-cara-profissional-para-caramba.ghtml\n",
      "https://sportv.globo.com/site/programas/redacao-sportv/noticia/comentaristas-criticam-resposta-do-pai-de-neymar-apos-opiniao-de-casagrande.ghtml\n",
      "https://globoesporte.globo.com/futebol/times/atletico-mg/noticia/galo-nao-paga-1-parcela-da-rescisao-de-fred-e-aguarda-multa-devida-por-atacante.ghtml\n",
      "https://globoesporte.globo.com/futebol/times/flamengo/noticia/no-embalo-de-vinicius-jr-jean-lucas-renova-com-multa-superior-a-r-100-milhoes.ghtml\n",
      "https://globoesporte.globo.com/rj/futebol/noticia/botafogo-e-flamengo-acertaram-aluguel-por-dois-jogos-madureira-e-river.ghtml\n",
      "https://gshow.globo.com/realities/bbb/BBB18/agora-na-casa/noticia/jessica-diz-para-lucas-a-gente-tem-que-viver-isso.ghtml\n",
      "https://revistaquem.globo.com/QUEM-News/noticia/2018/02/simone-comenta-sobre-lucas-e-jessica-no-bbb-e-dispara-gente-pega-ela-e-da-uma-surra.html\n",
      "https://g1.globo.com/ac/acre/noticia/gleici-do-bbb-18-e-chamada-de-macaca-em-perfil-no-twitter-e-mae-desabafa-nao-vai-deixar-impune.ghtml\n",
      "https://gshow.globo.com/realities/bbb/BBB18/agora-na-casa/noticia/wagner-sobre-comportamento-de-nayara-esta-feio.ghtml\n",
      "https://gshow.globo.com/realities/bbb/BBB18/noticia/ana-clara-e-paula-lideram-ranking-dos-brothers-que-mais-ganharam-peso-no-bbb18.ghtml\n",
      "https://gshow.globo.com/novelas/o-outro-lado-do-paraiso/vem-por-ai/noticia/sophia-manda-matar-vinicius.ghtml\n",
      "https://gshow.globo.com/novelas/o-outro-lado-do-paraiso/vem-por-ai/noticia/clara-encontra-aura-se-e-minha-irma-a-recebo-de-bracos-abertos.ghtml\n",
      "https://gshow.globo.com/realities/bbb/BBB18/agora-na-casa/noticia/ayrton-dispara-para-ana-clara-voce-nao-tem-amigo.ghtml\n",
      "https://gshow.globo.com/realities/bbb/BBB18/agora-na-casa/noticia/jessica-comenta-sobre-gleici-fez-escandalo.ghtml\n",
      "https://globoplay.globo.com/ao-vivo/244881/\n",
      "https://g1.globo.com/sp/bauru-marilia/noticia/celular-perdido-no-mar-e-achado-por-crianca-e-devolvido-ao-dono-virou-oferenda.ghtml\n",
      "https://g1.globo.com/rn/rio-grande-do-norte/noticia/consulesa-francesa-e-estuprada-no-litoral-do-rn.ghtml\n",
      "https://g1.globo.com/sp/sao-carlos-regiao/noticia/menina-de-4-anos-leva-diversas-mordidas-em-escola-municipal-e-pais-fazem-bo.ghtml\n",
      "https://g1.globo.com/ro/ariquemes-e-vale-do-jamari/noticia/mulher-manda-matar-marido-para-se-livrar-de-agressoes-vai-ao-velorio-e-e-presa-em-ro.ghtml\n",
      "https://g1.globo.com/pr/parana/noticia/justica-condena-ex-prefeito-de-araucaria-e-a-filha-dele-por-desvio-de-dinheiro-publico-com-a-nomeacao-de-comissionados.ghtml\n",
      "https://www.techtudo.com.br/noticias/2018/02/locao-do-boticario-vira-isca-para-golpe-no-whatsapp-alerta-psafe.ghtml\n",
      "https://g1.globo.com/rj/rio-de-janeiro/noticia/uma-pessoa-morreu-e-outra-teve-as-pernas-amputadas-na-queda-de-um-elevador-no-catete-no-rio.ghtml\n",
      "https://g1.globo.com/sp/sorocaba-jundiai/noticia/cadeirante-preso-com-submetralhadoras-fabricava-armas-para-se-vingar-de-agressor-diz-policia.ghtml\n",
      "https://extra.globo.com/noticias/page-not-found/imagem-de-viuvo-jantando-com-as-cinzas-da-esposa-no-dia-dos-namorados-comove-web-22403338.html\n",
      "http://g1.globo.com/\n",
      "https://extra.globo.com/esporte/vaz-apresentado-na-la-e-diz-entender-criticas-da-torcida-do-fla-vim-de-um-rival-22405133.html\n",
      "https://globoesporte.globo.com/blogs/brasil-mundial-fc/noticia/willian-ganha-trofeu-de-gol-do-mes-do-campeonato-ingles-especial.ghtml\n",
      "https://extra.globo.com/esporte/gilmar-ferreira/vasco-busca-equiparacao-entre-titulo-do-sul-americano-de-48-a-libertadores-22404389.html\n",
      "https://globoesporte.globo.com/futebol/futebol-internacional/noticia/quatro-brasileiros-sao-citados-em-lista-de-piores-da-historia-do-futebol-ingles.ghtml\n",
      "https://globoesporte.globo.com/futebol/times/cruzeiro/noticia/cruzeiro-inicia-conversa-para-renovar-com-arrascaeta-e-acertar-divida-com-o-defensor.ghtml\n",
      "https://sportv.globo.com/site/nba/ao-vivo/all-star-game-2018.ghtml\n",
      "https://sportv.globo.com/site/combate/noticia/ultimate-acerta-vitor-belfort-x-lyoto-machida-para-o-ufc-rio-9-em-maio.ghtml\n",
      "https://globoesporte.globo.com/tenis/noticia/historico-federer-vence-holandes-e-volta-a-ser-o-tenista-numero-1-do-mundo.ghtml\n",
      "https://globoesporte.globo.com/olimpiadas-de-inverno/noticia/o-que-voce-precisa-saber-sobre-as-calcas-fashion-da-noruega-no-curling.ghtml\n",
      "http://globoesporte.globo.com/\n",
      "https://revistaquem.globo.com/QUEM-News/noticia/2018/02/isis-valverde-curte-praia-carioca-e-posa-com-fa-mirim.html\n",
      "http://revistaglamour.globo.com/Celebridades/noticia/2018/02/cristiana-oliveira-curte-ferias-no-maranhao-viagem-para-vida.html\n",
      "https://revistaquem.globo.com/QUEM-News/noticia/2018/02/apos-sair-do-bbb-18-com-recorde-de-rejeicao-ana-paula-muda-o-visual.html\n",
      "http://revistamonet.globo.com/Celebridades/noticia/2018/02/filha-de-elvis-tem-dividas-de-mais-de-us-16-milhoes.html\n",
      "https://gshow.globo.com/novelas/deus-salve-o-rei/vem-por-ai/noticia/afonso-e-catarina-tentam-escapar-das-garras-de-constantino.ghtml\n",
      "http://multishow.globo.com/programas/os-gretchens/materias/nos-bastidores-de-reality-gretchen-conhece-iza-e-pabllo-vittar-enquanto-thammy-e-andresse-terminam-festa-com-dr.htm\n",
      "https://extra.globo.com/tv-e-lazer/musica/jojo-todynho-diz-como-descobriu-que-tinha-perdido-12kg-passei-sem-esforco-pelo-banheiro-do-aviao-22404192.html\n",
      "https://extra.globo.com/famosos/caua-reymond-faz-guerra-de-lama-com-amigos-em-fernando-de-noronha-fotos-22405157.html\n",
      "https://extra.globo.com/esporte/flamengo/julio-cesar-da-festinha-em-casa-recebe-os-diegos-depois-cai-na-faxina-com-mulher-22405001.html\n",
      "http://famosos.globo.com/\n",
      "https://www.techtudo.com.br/noticias/2018/02/street-fighter-5-e-kingdom-hearts-sao-destaques-nos-trailers-da-semana.ghtml\n",
      "https://www.techtudo.com.br/noticias/2018/02/pes-2018-confira-as-novidades-da-atualizacao-mais-aguardada-do-jogo.ghtml\n",
      "https://www.techtudo.com.br/noticias/2018/02/nintendo-switch-e-homologado-no-brasil-e-recebe-loja-online-nacional.ghtml\n",
      "https://www.techtudo.com.br/noticias/2018/02/10-redes-sociais-que-quase-todo-mundo-ja-usou.ghtml\n",
      "http://vogue.globo.com/moda/guia-de-estilo/noticia/2018/02/ano-do-cao-inspire-se-no-horoscopo-chines-para-incorporar-o-animal-da-vez-nos-looks.html\n",
      "https://revistamarieclaire.globo.com/Beleza/noticia/2018/02/dossie-da-fotodepilacao-como-funciona-e-seus-resultados.html\n",
      "http://revistaglamour.globo.com/Beleza/Maquiagem/noticia/2018/02/reunimos-top-7-tendencias-de-make-e-cabelo-para-o-inverno-2018.html\n",
      "http://vogue.globo.com/beleza/fitness-e-dieta/noticia/2018/02/detox-pos-folia-um-cardapio-para-recuperar-dos-excessos-do-carnaval.html\n",
      "https://globoesporte.globo.com/eu-atleta/saude/noticia/confira-10-dicas-para-manter-os-seus-pes-saudaveis-e-sem-dores.ghtml\n",
      "https://revistacrescer.globo.com/Criancas/Alimentacao/Lancheira/noticia/2018/02/como-preparar-lancheira-do-seu-filho.html\n",
      "https://gshow.globo.com/realities/the-voice-kids/noticia/the-voice-kids-entra-na-fase-das-batalhas-neste-domingo-182.ghtml\n",
      "https://gshow.globo.com/novelas/tempo-de-amar/vem-por-ai/noticia/olimpia-flagra-beijo-de-edgar-e-carolina-de-sobral.ghtml\n",
      "https://gshow.globo.com/novelas/malhacao/2017/vem-por-ai/noticia/tato-descobre-pista-sobre-paradeiro-do-seu-pai.ghtml\n",
      "https://gshow.globo.com/programas/video-show/noticia/bruna-marquezine-fala-de-neymar-todo-dia-e-dia-para-se-declarar-falar-de-amor.ghtml\n",
      "http://revistamarieclaire.globo.com/Amor-e-Sexo/noticia/2018/02/influencers-do-sexo-vida-das-prostitutas-que-sao-famosas-na-web.html\n",
      "https://g1.globo.com/pr/parana/noticia/suspeitos-da-morte-de-youtuber-no-parana-falam-como-ocorreu-o-crime-assista-ao-video.ghtml\n",
      "https://g1.globo.com/politica/noticia/temer-assina-decreto-de-intervencao-federal-na-seguranca-do-rio-de-janeiro.ghtml\n",
      "https://g1.globo.com/rn/rio-grande-do-norte/noticia/consulesa-francesa-e-estuprada-no-litoral-do-rn.ghtml\n",
      "https://g1.globo.com/pr/parana/noticia/a-legitima-defesa-nao-ocorreu-diz-promotor-do-caso-da-youtuber-morta-com-tiro-na-cabeca-no-litoral-do-parana.ghtml\n",
      "https://sportv.globo.com/site/programas/redacao-sportv/noticia/comentaristas-criticam-resposta-do-pai-de-neymar-apos-opiniao-de-casagrande.ghtml\n",
      "https://globoesporte.globo.com/futebol/times/atletico-mg/noticia/galo-nao-paga-1-parcela-da-rescisao-de-fred-e-aguarda-multa-devida-por-atacante.ghtml\n",
      "https://globoesporte.globo.com/futebol/futebol-internacional/futebol-frances/noticia/emery-diz-que-deixou-thiago-silva-no-banco-contra-o-real-por-questao-tatica.ghtml\n",
      "https://globoesporte.globo.com/futebol/times/corinthians/noticia/preocupada-direcao-do-corinthians-admite-sondagem-a-diego-tardelli-e-nega-kardec.ghtml\n",
      "https://globoesporte.globo.com/futebol/times/sao-paulo/noticia/gol-com-dedo-do-tecnico-e-serie-invicta-como-o-sao-paulo-se-protege-das-criticas.ghtml\n",
      "http://multishow.globo.com/programas/os-gretchens/materias/nos-bastidores-de-reality-gretchen-conhece-iza-e-pabllo-vittar-enquanto-thammy-e-andresse-terminam-festa-com-dr.htm\n",
      "https://extra.globo.com/famosos/noiva-do-bbb-lucas-ana-vilela-contrata-assessoria-para-apagar-comentarios-negativos-22402964.html\n",
      "http://revistaglamour.globo.com/Celebridades/noticia/2018/02/foi-meu-corpo-quem-pediu-ajuda-diz-bruna-marquezine-sobre-perda-de-peso.html\n",
      "https://gshow.globo.com/realities/bbb/BBB18/agora-na-casa/noticia/jessica-chora-deitada-no-ombro-de-lucas-e-brother-consola-eu-estou-aqui.ghtml\n",
      "http://vogue.globo.com/moda/gente/noticia/2018/02/giovanna-ewbank-revela-o-local-mais-inusitado-que-ja-fez-sexo.html\n"
     ]
    }
   ],
   "source": [
    "#classes usadas pelo site para representar as noticias\n",
    "exibir_links('hui-premium__link') #noticias em alta\n",
    "exibir_links('hui-highlight__link')\n",
    "exibir_links('topglobocom__content-title') #TOP 10 noticias mais visitadas"
   ]
  }
 ],
 "metadata": {
  "kernelspec": {
   "display_name": "Python 3",
   "language": "python",
   "name": "python3"
  },
  "language_info": {
   "codemirror_mode": {
    "name": "ipython",
    "version": 3
   },
   "file_extension": ".py",
   "mimetype": "text/x-python",
   "name": "python",
   "nbconvert_exporter": "python",
   "pygments_lexer": "ipython3",
   "version": "3.6.3"
  }
 },
 "nbformat": 4,
 "nbformat_minor": 2
}
