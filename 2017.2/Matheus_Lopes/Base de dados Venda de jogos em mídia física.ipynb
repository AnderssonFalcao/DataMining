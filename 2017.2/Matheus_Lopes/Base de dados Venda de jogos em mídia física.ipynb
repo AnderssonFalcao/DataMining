{
 "cells": [
  {
   "cell_type": "markdown",
   "metadata": {},
   "source": [
    "# Base de dados vendas de jogos Mídia Física"
   ]
  },
  {
   "cell_type": "markdown",
   "metadata": {},
   "source": [
    "# Perguntas"
   ]
  },
  {
   "cell_type": "markdown",
   "metadata": {},
   "source": [
    "Foi utilizado duas ferramentas para a resolução das perguntas, Excel juntamente com o SGBD MySQL."
   ]
  },
  {
   "cell_type": "markdown",
   "metadata": {},
   "source": [
    "1 - Qual o gênero de jogo mais vendido?\n",
    "\n",
    "Representado gráficamente no excel\n",
    "\n",
    "2 - Qual o gênero de jogo mais criado?\n",
    "\n",
    "Representado gráficamente no excel\n",
    "\n",
    "3 - Qual o console que mais se destacou?\n",
    "\n",
    "Representado gráficamente no excel\n",
    "\n",
    "4 - Qual o gênero se destacou ao passar das gerações?\n",
    "\n",
    "Representado gráficamente no excel\n",
    "\n",
    "5 - Venda de jogos ao decorrer dos anos\n",
    "\n",
    "Representado gráficamente no excel\n",
    "\n",
    "6 - Quais as 10 empresas com maiores lucros ?\n",
    "\n",
    "Representado gráficamente no excel\n",
    "\n",
    "7 - As empresas precisam criar muitos jogos para se destacar nas vendas?\n",
    "\n",
    "Representado gráficamente no excel\n",
    "\n",
    "8 - Quais os jogos mais vendidos?\n",
    "\n",
    "Representado gráficamente no excel\n",
    "\n",
    "9 - Qual o genêro de destaque de cada empresa? \n",
    "\n",
    "Representado gráficamente no excel\n"
   ]
  },
  {
   "cell_type": "code",
   "execution_count": null,
   "metadata": {},
   "outputs": [],
   "source": []
  }
 ],
 "metadata": {
  "kernelspec": {
   "display_name": "Python 3",
   "language": "python",
   "name": "python3"
  },
  "language_info": {
   "codemirror_mode": {
    "name": "ipython",
    "version": 3
   },
   "file_extension": ".py",
   "mimetype": "text/x-python",
   "name": "python",
   "nbconvert_exporter": "python",
   "pygments_lexer": "ipython3",
   "version": "3.6.4"
  }
 },
 "nbformat": 4,
 "nbformat_minor": 2
}
