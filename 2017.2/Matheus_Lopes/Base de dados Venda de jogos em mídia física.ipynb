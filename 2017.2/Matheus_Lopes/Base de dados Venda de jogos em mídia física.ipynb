{
 "cells": [
  {
   "cell_type": "markdown",
   "metadata": {},
   "source": [
    "# Base de dados vendas de jogos Mídia Física"
   ]
  },
  {
   "cell_type": "markdown",
   "metadata": {},
   "source": [
    "# Perguntas"
   ]
  },
  {
   "cell_type": "markdown",
   "metadata": {},
   "source": [
    "Foi utilizado duas ferramentas para a resolução das perguntas, Excel juntamente com o SGBD MySQL."
   ]
  },
  {
   "cell_type": "markdown",
   "metadata": {},
   "source": [
    "1 - Qual o gênero de jogo mais vendido?\n",
    "\n",
    "Representado gráficamente no excel\n",
    "\n",
    "2 - Qual o gênero de jogo mais criado?\n",
    "\n",
    "Representado gráficamente no excel\n",
    "\n",
    "3 - Qual o console que mais se destacou?\n",
    "\n",
    "Representado gráficamente no excel\n",
    "\n",
    "4 - Qual o gênero se destacou ao passar das gerações?\n",
    "\n",
    "Representado gráficamente no excel\n",
    "\n",
    "5 - Venda de jogos ao decorrer dos anos\n",
    "\n",
    "Representado gráficamente no excel\n",
    "\n",
    "6 - Qual foi o jogo que se destacou em cada console\n",
    "\n",
    "Comando em SQL\n",
    "\n",
    "SELECT Plataforma,Nome,MAX(VendasGlobais) FROM venda GROUP BY Plataforma ORDER BY VendasGlobais DESC\n",
    "\n",
    "7 - Qual o gênero que as empresas se destacaram\n",
    "\n",
    "Comando em SQL\n",
    "\n",
    "SELECT Empresa,Genero,SUM(VendasGlobais) FROM vendas GROUP BY Genero,Empresa ORDER BY SUM(VendasGlobais) DESC\n",
    "\n",
    "8 - Fator de destaque na venda de jogos\n",
    "\n",
    "O fator de destaque para o sucesso de um jogo é a inovação, os jogos que mais venderam trouxeram uma grande novidade consigo, como exemplo o Jogo mais vendido WII Sports inovou a forma de jogar com o Wii Motion, captando movimentos dos jogadores.\n",
    "\n",
    "9 - Queda nas vendas de jogos em mídia física\n",
    "    A queda na vendas dos jogos estão diretamente ligadas a vendas de jogos em mídia digital, sendo uma grande concorrente, pois as mídias digitais possuem um preço mais atraente.\n",
    "\n",
    "10-"
   ]
  },
  {
   "cell_type": "code",
   "execution_count": null,
   "metadata": {},
   "outputs": [],
   "source": []
  }
 ],
 "metadata": {
  "kernelspec": {
   "display_name": "Python 3",
   "language": "python",
   "name": "python3"
  },
  "language_info": {
   "codemirror_mode": {
    "name": "ipython",
    "version": 3
   },
   "file_extension": ".py",
   "mimetype": "text/x-python",
   "name": "python",
   "nbconvert_exporter": "python",
   "pygments_lexer": "ipython3",
   "version": "3.6.4"
  }
 },
 "nbformat": 4,
 "nbformat_minor": 2
}
