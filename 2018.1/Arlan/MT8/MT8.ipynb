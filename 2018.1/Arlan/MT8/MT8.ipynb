{
 "cells": [
  {
   "cell_type": "markdown",
   "metadata": {},
   "source": [
    "Modifique o código de crawler apresentado para coletar as notícias do globo.com (https://github.com/zegildo/DataMining/blob/master/2018.1/crawler_globo_com.py) e estruture um arquivo .csv que contenha os seguintes atributos: título, link da notícia respectivamente.\n",
    "\n",
    "Submeta seu código para o github da turma."
   ]
  },
  {
   "cell_type": "code",
   "execution_count": 55,
   "metadata": {},
   "outputs": [
    {
     "name": "stdout",
     "output_type": "stream",
     "text": [
      "Alerta: arquivo sobrescrito!\n"
     ]
    }
   ],
   "source": [
    "import requests\n",
    "from lxml import html\n",
    "import pandas as pd\n",
    "import glob #checar se o nome do arquivo já existe\n",
    "\n",
    "def padroniza_titulo(titulo):\n",
    "    return titulo.encode('latin-1').decode('utf-8')\n",
    "\n",
    "def get_lista_noticias():\n",
    "    URL = 'http://www.globo.com/'\n",
    "    response = requests.get(URL)  \n",
    "    body = html.fromstring(response.text)\n",
    "    noticias = body.xpath('//a[contains(@class,\"hui-highlight__link\")]')\n",
    "    return noticias\n",
    "\n",
    "def lista_titulos_links(noticias):\n",
    "    lista_titulos_links=[['Notícia', 'Link']]\n",
    "    \n",
    "    for noticia in noticias:\n",
    "        if 'title' in noticia.attrib:\n",
    "            titulo = padroniza_titulo(noticia.attrib['title'])\n",
    "            link = noticia.attrib['href']\n",
    "            lista_titulos_links.append([titulo, link])\n",
    "            \n",
    "    return lista_titulos_links\n",
    "\n",
    "noticias = get_lista_noticias()\n",
    "lista_titulos_links = lista_titulos_links(noticias)\n",
    "df = pd.DataFrame(data=lista_titulos_links[1:], columns=lista_titulos_links[0])\n",
    "\n",
    "#salve seu csv aqui\n",
    "\n",
    "filename = 'Notícias e Links.csv'\n",
    "files_present = glob.glob(filename)\n",
    "\n",
    "if not files_present:\n",
    "    df.to_csv(filename)\n",
    "    print('Arquivo salvo com sucesso.')\n",
    "else:\n",
    "    try:\n",
    "        df.to_csv(filename)\n",
    "        print ('Alerta: arquivo sobrescrito!')\n",
    "    except PermissionError:\n",
    "        print('Permissão para sobrescrever o arquivo negada. Verifique se o documento está em uso.')\n",
    "\n",
    "\n"
   ]
  },
  {
   "cell_type": "code",
   "execution_count": null,
   "metadata": {},
   "outputs": [],
   "source": []
  }
 ],
 "metadata": {
  "kernelspec": {
   "display_name": "Python 3",
   "language": "python",
   "name": "python3"
  },
  "language_info": {
   "codemirror_mode": {
    "name": "ipython",
    "version": 3
   },
   "file_extension": ".py",
   "mimetype": "text/x-python",
   "name": "python",
   "nbconvert_exporter": "python",
   "pygments_lexer": "ipython3",
   "version": "3.6.5"
  }
 },
 "nbformat": 4,
 "nbformat_minor": 2
}
