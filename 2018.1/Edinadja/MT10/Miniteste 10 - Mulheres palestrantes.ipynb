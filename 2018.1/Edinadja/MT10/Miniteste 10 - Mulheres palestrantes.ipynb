{
 "cells": [
  {
   "cell_type": "code",
   "execution_count": 1,
   "metadata": {},
   "outputs": [
    {
     "ename": "SyntaxError",
     "evalue": "(unicode error) 'unicodeescape' codec can't decode bytes in position 2-3: truncated \\UXXXXXXXX escape (<ipython-input-1-7357e245f8bf>, line 7)",
     "output_type": "error",
     "traceback": [
      "\u001b[1;36m  File \u001b[1;32m\"<ipython-input-1-7357e245f8bf>\"\u001b[1;36m, line \u001b[1;32m7\u001b[0m\n\u001b[1;33m    arquivo = open('C:\\Users\\Edinadja\\.ipynb_checkpoints\\mulheres_palestrantes.htm').read()\u001b[0m\n\u001b[1;37m                  ^\u001b[0m\n\u001b[1;31mSyntaxError\u001b[0m\u001b[1;31m:\u001b[0m (unicode error) 'unicodeescape' codec can't decode bytes in position 2-3: truncated \\UXXXXXXXX escape\n"
     ]
    }
   ],
   "source": [
    "#coding: utf-8\n",
    "\n",
    "from lxml import html \n",
    "from lxml import etree \n",
    "\n",
    "if __name__ == \"__main__\":\n",
    "    arquivo = open('C:\\Users\\Edinadja\\.ipynb_checkpoints\\mulheres_palestrantes.htm').read()\n",
    "    pagina = etree.HTML(arquivo)\n",
    "\n",
    "    nomes = pagina.xpath('//article[@class=\"card\"]/h3/text()')\n",
    "    fotos = pagina.xpath('//article[@class=\"card\"]/img/@src')\n",
    "    localizacoes = pagina.xpath('//article[@class=\"card\"]/div/p[@class=\"location\"]/text()')\n",
    "\n",
    "    participantes = []\n",
    "    \n",
    "    for nome,foto,localizacao in zip(nomes,fotos,localizacoes):\n",
    "        participante = {'nome':nome, 'foto':foto, 'localizacao':localizacao}\n",
    "        participantes.append(participante)\n",
    "    print (participantes)\n",
    "\n",
    "    cards = pagina.xpath('//article[@class=\"card\"]/ul')\n",
    "    for card in cards: print [[tema.text for tema in card.getchildren()]]\n",
    "    temas_de_interesse = pagina.xpath('//article[@class=\"card\"]/ul/li/text()')\n",
    "\n",
    "print (temas_de_interesse)"
   ]
  },
  {
   "cell_type": "code",
   "execution_count": null,
   "metadata": {},
   "outputs": [],
   "source": []
  }
 ],
 "metadata": {
  "kernelspec": {
   "display_name": "Python 3",
   "language": "python",
   "name": "python3"
  },
  "language_info": {
   "codemirror_mode": {
    "name": "ipython",
    "version": 3
   },
   "file_extension": ".py",
   "mimetype": "text/x-python",
   "name": "python",
   "nbconvert_exporter": "python",
   "pygments_lexer": "ipython3",
   "version": "3.6.5"
  }
 },
 "nbformat": 4,
 "nbformat_minor": 2
}
