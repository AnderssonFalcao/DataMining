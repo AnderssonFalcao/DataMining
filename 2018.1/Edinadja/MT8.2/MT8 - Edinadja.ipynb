import requests
from lxml import html
import pandas as pd
import csv

def padroniza_titulo(titulo):
    return titulo.encode('latin-1').decode('utf-8')

def get_lista_noticias():
    URL = 'http://www.globo.com/'
    response = requests.get(URL)  
    body = html.fromstring(response.text)
    noticias = body.xpath('//a[contains(@class,"hui-highlight__link")]')
    return noticias

def lista_titulos_links(noticias):
    lista_titulos_links = []
    for noticia in noticias:
        if 'title' in noticia.attrib:
            titulo = padroniza_titulo(noticia.attrib['title'])
            link = noticia.attrib['href']
            titulos_links = (titulo, link)
            lista_titulos_links.append(titulos_links)
    return lista_titulos_links

noticias = get_lista_noticias()
lista_titulos_links = lista_titulos_links(noticias)
#Criando csv_file
with open ('tb_noticias.csv', 'w', newline = '') as tb_noticias:
    escrever = csv.writer(tb_noticias)
    for titulos_links in lista_titulos_links:
        escrever.writerow(titulos_links)
csv_file = (open('tb_noticias.csv', 'r').read())
#print (csv_file)
