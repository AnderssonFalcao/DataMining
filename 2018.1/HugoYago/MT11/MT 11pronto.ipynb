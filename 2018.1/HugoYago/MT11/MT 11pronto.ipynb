{
 "cells": [
  {
   "cell_type": "code",
   "execution_count": null,
   "metadata": {
    "collapsed": true
   },
   "outputs": [],
   "source": [
    "import  pandas as  pdpd\n",
    "import  matplotlib.pyplot as plt"
   ]
  },
  {
   "cell_type": "code",
   "execution_count": null,
   "metadata": {},
   "outputs": [],
   "source": [
    "x = ['JAN','FEV','MAR','ABR','MAI','JUN','JUL','AGO','SET','OUT','NOV']\n",
    "y = [273026.44,197963.83,237754.81,248757.67,265345.23,211406.82,218744.72,319725.87,275540.09,273191.89,220214.01]\n",
    "\n",
    "plt.plot(x, y, color='g')\n",
    "plt.title('Relatorio de Despesas 2017')\n",
    "plt.xlabel('Meses')\n",
    "plt.ylabel('Capital usado')\n",
    "\n",
    "plt.show()"
   ]
  },
  {
   "cell_type": "markdown",
   "metadata": {},
   "source": [
    "Questão 1: Qual o mês teve maior gasto?\n",
    "\n",
    "R: Em agosto houve um aumento significativo na energia, bolsas/auxilios \n",
    "e motoristas e está no topodos maiores orçamentos gasto na ufersa campus Angicos."
   ]
  },
  {
   "cell_type": "code",
   "execution_count": null,
   "metadata": {},
   "outputs": [],
   "source": [
    "x = ['Energia','Água','Correios','Bolsas\\ne Auxílios','Limpeza','Portaria',\n",
    "     'Vigilância','Água\\nMineral','Motorista','Reprografia','Inscrições','Aluno\\nEvento','Dispensas']\n",
    "y = [42899.09,2200.66,21.5,105580,46404.04,20570.24,18667.74,602,76002.5,478.05,0,6300,0]\n",
    "\n",
    "plt.bar(x,y, label= 'Barsl', color='r')\n",
    "plt.xlabel('Tipos de Despesas')\n",
    "plt.ylabel('Gastos')\n",
    "plt.title('Despesas de Agosto de 2017')\n",
    "plt.rcParams['figure.figsize']=(10,6)\n",
    "\n",
    "plt.show()"
   ]
  },
  {
   "cell_type": "markdown",
   "metadata": {},
   "source": [
    "Questão 2: Por qual motivo no mês de agosto os gastos com motoristas subiram?\n",
    "\n",
    "R:De acordo com o gráfico pode-se afirmar que o aumento no orçamento correspondente aos \n",
    "motoristas dá-se ao numero de eventos externos que ocorreram naquele respectivo mês."
   ]
  },
  {
   "cell_type": "markdown",
   "metadata": {},
   "source": [
    "Questão 3: Por qual motivo no mês de agosto os gastos com bolsas/auxilios subiram?\n",
    "\n",
    "R:De acordo com o gráfico nota-se um aumentos no orçamento da UFERSA correspondente a bolsas/auxilios em agosto o mesmo dá-se por conta de uma nova cota de alunos concorrentes das bolsas/auxilios."
   ]
  },
  {
   "cell_type": "markdown",
   "metadata": {},
   "source": [
    "Questão 4: Por qual motivo no mês de agosto os gastos com energia subiram?\n",
    "\n",
    "R:De acordo com o gráfico nota-se um aumentos no orçamento da UFERSA em agosto na energia dá-se por conta da utilização de espaços com maior frequencia exemplo o auditório central, laboratorios etc."
   ]
  },
  {
   "cell_type": "code",
   "execution_count": null,
   "metadata": {},
   "outputs": [],
   "source": [
    "gastosCom = ['Energia','Água','Correios','Bolsas e Auxílios','Limpeza','Vigilância','Água Mineral','Motorista']\n",
    "\n",
    "qtdGasta = [19181.70, 5041.66, 38.66, 44500, 149748.98, 36887.62, 1083.60, 16482.12]\n",
    "cores = ['c','m','brown','orange','r','b','black','gold']\n",
    "\n",
    "plt.pie(qtdGasta, labels = gastosCom, colors = cores)\n",
    "plt.title('Capital usado em Janeiro de 2017')\n",
    "plt.xlabel('OBS: Valores zerados e minimos seriam irrelevantes para esse gráfico')\n",
    "plt.rcParams['figure.figsize']=(7,7)\n",
    "\n",
    "plt.show()"
   ]
  },
  {
   "cell_type": "markdown",
   "metadata": {},
   "source": []
  },
  {
   "cell_type": "markdown",
   "metadata": {},
   "source": []
  }
 ],
 "metadata": {
  "kernelspec": {
   "display_name": "Python 2",
   "language": "python",
   "name": "python2"
  },
  "language_info": {
   "codemirror_mode": {
    "name": "ipython",
    "version": 2
   },
   "file_extension": ".py",
   "mimetype": "text/x-python",
   "name": "python",
   "nbconvert_exporter": "python",
   "pygments_lexer": "ipython2",
   "version": "2.7.6"
  }
 },
 "nbformat": 4,
 "nbformat_minor": 0
}
