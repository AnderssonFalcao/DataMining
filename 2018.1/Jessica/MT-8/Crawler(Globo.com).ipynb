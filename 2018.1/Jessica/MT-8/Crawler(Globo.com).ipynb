{
 "cells": [
  {
   "cell_type": "code",
   "execution_count": 33,
   "metadata": {},
   "outputs": [],
   "source": [
    "import requests\n",
    "from lxml import html\n",
    "import pandas as pd\n",
    "import urllib\n",
    "\n",
    "\n",
    "def padroniza_titulo(titulo):\n",
    "    return titulo.encode('latin-1').decode('utf-8')\n",
    "\n",
    "\n",
    "def get_lista_noticias():\n",
    "    URL = 'http://www.globo.com/' \n",
    "    response = requests.get(URL)  \n",
    "    body = html.fromstring(response.text)\n",
    "    noticias = body.xpath('//a[contains(@class,\"hui-highlight__link\")]')\n",
    "    \n",
    "    return noticias\n",
    "\n",
    "    \n",
    "\n",
    "def lista_titulos_links(noticias):\n",
    "    lista_titulos_links = []\n",
    "    for noticia in noticias:\n",
    "        if 'title' in noticia.attrib:\n",
    "            titulo = padroniza_titulo(noticia.attrib['title'])\n",
    "            link = noticia.attrib['href']\n",
    "            raw_data = {\"Titulo\":[titulo], \"Link\":[link]}\n",
    "            lista_titulos_links.append(raw_data)\n",
    "            \n",
    "    return lista_titulos_links\n",
    "\n",
    "\n",
    "noticias = get_lista_noticias()\n",
    "lista_titulos_links = lista_titulos_links(noticias)\n",
    "csv_file = pd.DataFrame(lista_titulos_links, columns = [\"Titulo\" , \"Link\"])\n",
    "csv_file.to_csv(\"noticias.csv\", sep=',', index= False)\n",
    "            \n",
    "            \n",
    "\n",
    "\n",
    "        \n",
    "    \n",
    "    \n",
    "\n",
    "    \n",
    "    \n",
    "    "
   ]
  },
  {
   "cell_type": "code",
   "execution_count": null,
   "metadata": {},
   "outputs": [],
   "source": []
  }
 ],
 "metadata": {
  "kernelspec": {
   "display_name": "Python 3",
   "language": "python",
   "name": "python3"
  },
  "language_info": {
   "codemirror_mode": {
    "name": "ipython",
    "version": 3
   },
   "file_extension": ".py",
   "mimetype": "text/x-python",
   "name": "python",
   "nbconvert_exporter": "python",
   "pygments_lexer": "ipython3",
   "version": "3.6.5"
  }
 },
 "nbformat": 4,
 "nbformat_minor": 2
}
