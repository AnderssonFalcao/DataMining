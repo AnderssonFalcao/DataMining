{
 "cells": [
  {
   "cell_type": "code",
   "execution_count": 1,
   "metadata": {},
   "outputs": [],
   "source": [
    "import pandas as pd"
   ]
  },
  {
   "cell_type": "code",
   "execution_count": 2,
   "metadata": {},
   "outputs": [],
   "source": [
    "import matplotlib.pyplot as plt"
   ]
  },
  {
   "cell_type": "code",
   "execution_count": 19,
   "metadata": {},
   "outputs": [
    {
     "data": {
      "text/plain": [
       "'Quanto foi gasto com energia na UFERSA - Campus Angicos nos ultimos 3 anos?\\n\\n2017: R$ 408.547,34\\n2016: R$ 415.759,70 \\n2015: R$ 334.345,66 \\n\\nTOTAL = R$ 1.158.652,7 Gastos nos ultimos 3 anos. \\n\\nQual seria os gastos aproximados para construir uma Usina Solar Fotovoltaica? \\n\\nDe acordo com a UFERSA - Campus Mossoro é nescessario aproximadamente um milhão de reais para construir uma usina de aproximadamente 580 paineis, que gera aproximadamente 18.000 kWh/mês. \\n\\n( https://usinasolar.ufersa.edu.br/historico/ )  \\n\\n\\nQual seria aproximadamente a economia da UFERSA em 11 anos? \\n\\nMEDIA DOS GASTOS DOS ULTIMOS 3 ANOS * 3 - 7k * 12 \\n\\n\\nNos ultimos 3 anos quanto foi gasto com Água na UFERSA - Campus Angicos? \\n\\n2015: R$ 24,449,99\\n2016: R$ 30.843,93\\n2017: R$ 48.641,86\\n\\nTOTAL = R$ 103935.78 Gastos nos ultimos 3 anos. \\n\\nEm quantos % aumentou os gastos com agua na UFERSA - Campus Angicos nos ultimos 3 anos? \\n\\n# Calculos \\n'"
      ]
     },
     "execution_count": 19,
     "metadata": {},
     "output_type": "execute_result"
    }
   ],
   "source": [
    "'''Quanto foi gasto com energia na UFERSA - Campus Angicos nos ultimos 3 anos?\n",
    "\n",
    "2017: R$ 408.547,34\n",
    "2016: R$ 415.759,70 \n",
    "2015: R$ 334.345,66 \n",
    "\n",
    "TOTAL = R$ 1.158.652,7 Gastos nos ultimos 3 anos. \n",
    "\n",
    "Qual seria os gastos aproximados para construir uma Usina Solar Fotovoltaica? \n",
    "\n",
    "De acordo com a UFERSA - Campus Mossoro é nescessario aproximadamente um milhão de reais para construir uma usina de aproximadamente 580 paineis, que gera aproximadamente 18.000 kWh/mês. \n",
    "\n",
    "( https://usinasolar.ufersa.edu.br/historico/ )  \n",
    "\n",
    "\n",
    "Qual seria aproximadamente a economia da UFERSA em 11 anos? \n",
    "\n",
    "MEDIA DOS GASTOS DOS ULTIMOS 3 ANOS * 3 - 7k * 12 \n",
    "\n",
    "\n",
    "Nos ultimos 3 anos quanto foi gasto com Água na UFERSA - Campus Angicos? \n",
    "\n",
    "2015: R$ 24,449,99\n",
    "2016: R$ 30.843,93\n",
    "2017: R$ 48.641,86\n",
    "\n",
    "TOTAL = R$ 103935.78 Gastos nos ultimos 3 anos. \n",
    "\n",
    "Em quantos % aumentou os gastos com agua na UFERSA - Campus Angicos nos ultimos 3 anos? \n",
    "\n",
    "# Calculos \n",
    "'''"
   ]
  },
  {
   "cell_type": "code",
   "execution_count": null,
   "metadata": {},
   "outputs": [],
   "source": []
  }
 ],
 "metadata": {
  "kernelspec": {
   "display_name": "Python 3",
   "language": "python",
   "name": "python3"
  },
  "language_info": {
   "codemirror_mode": {
    "name": "ipython",
    "version": 3
   },
   "file_extension": ".py",
   "mimetype": "text/x-python",
   "name": "python",
   "nbconvert_exporter": "python",
   "pygments_lexer": "ipython3",
   "version": "3.6.5"
  }
 },
 "nbformat": 4,
 "nbformat_minor": 2
}
