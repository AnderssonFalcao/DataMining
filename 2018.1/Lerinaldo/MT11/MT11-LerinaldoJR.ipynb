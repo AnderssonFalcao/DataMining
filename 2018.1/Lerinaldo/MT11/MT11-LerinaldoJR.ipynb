{
 "cells": [
  {
   "cell_type": "code",
   "execution_count": 1,
   "metadata": {},
   "outputs": [],
   "source": [
    "import pandas as pd"
   ]
  },
  {
   "cell_type": "code",
   "execution_count": 3,
   "metadata": {},
   "outputs": [],
   "source": [
    "import matplotlib.pyplot as plt\n",
    "import numpy as np"
   ]
  },
  {
   "cell_type": "markdown",
   "metadata": {},
   "source": [
    "# 1. Quanto foi gasto com energia na UFERSA - Campus Angicos nos ultimos 3 anos?"
   ]
  },
  {
   "cell_type": "raw",
   "metadata": {},
   "source": [
    "2015: 334.345,66 R$\n",
    "2016: 415.759,70 R$\n",
    "2017: 408.547,34 R$ \n",
    "\n",
    "TOTAL = 1.158.652,7 R$ Gastos nos ultimos 3 anos. \n"
   ]
  },
  {
   "cell_type": "code",
   "execution_count": null,
   "metadata": {},
   "outputs": [],
   "source": []
  },
  {
   "cell_type": "code",
   "execution_count": null,
   "metadata": {},
   "outputs": [],
   "source": []
  },
  {
   "cell_type": "markdown",
   "metadata": {},
   "source": [
    "# 2. Qual seria os gastos aproximados para construir uma Usina Solar Fotovoltaica? \n"
   ]
  },
  {
   "cell_type": "raw",
   "metadata": {},
   "source": [
    "De acordo com a UFERSA - Campus Mossoro é nescessario aproximadamente um milhão de reais para construir uma usina de aproximadamente 580 paineis, que gera aproximadamente 18.000 kWh/mês. \n",
    "\n",
    "( https://usinasolar.ufersa.edu.br/historico/ )  "
   ]
  },
  {
   "cell_type": "code",
   "execution_count": null,
   "metadata": {},
   "outputs": [],
   "source": []
  },
  {
   "cell_type": "code",
   "execution_count": null,
   "metadata": {},
   "outputs": [],
   "source": []
  },
  {
   "cell_type": "markdown",
   "metadata": {},
   "source": [
    "# 3. Qual seria aproximadamente a economia com gastos de energia da UFERSA em 10 anos? \n"
   ]
  },
  {
   "cell_type": "markdown",
   "metadata": {},
   "source": [
    "Formula: 7k * 12 = 84k\n",
    "\n",
    "84.000 * 10 = 840.000"
   ]
  },
  {
   "cell_type": "code",
   "execution_count": null,
   "metadata": {},
   "outputs": [],
   "source": []
  },
  {
   "cell_type": "markdown",
   "metadata": {},
   "source": [
    "# 4. Nos ultimos 3 anos quanto foi gasto com Água na UFERSA - Campus Angicos? \n"
   ]
  },
  {
   "cell_type": "raw",
   "metadata": {},
   "source": [
    "2015: R$ 2444999\n",
    "2016: R$ 3084393\n",
    "2017: R$ 4864186\n",
    "\n",
    "TOTAL = R$ 103935.78 Gastos nos ultimos 3 anos. "
   ]
  },
  {
   "cell_type": "code",
   "execution_count": null,
   "metadata": {},
   "outputs": [],
   "source": []
  }
 ],
 "metadata": {
  "kernelspec": {
   "display_name": "Python 3",
   "language": "python",
   "name": "python3"
  },
  "language_info": {
   "codemirror_mode": {
    "name": "ipython",
    "version": 3
   },
   "file_extension": ".py",
   "mimetype": "text/x-python",
   "name": "python",
   "nbconvert_exporter": "python",
   "pygments_lexer": "ipython3",
   "version": "3.6.5"
  }
 },
 "nbformat": 4,
 "nbformat_minor": 2
}
