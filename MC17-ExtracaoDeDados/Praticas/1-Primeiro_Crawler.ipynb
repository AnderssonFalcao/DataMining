{
 "cells": [
  {
   "cell_type": "markdown",
   "metadata": {},
   "source": [
    "# Coletar notícias do Globo.com"
   ]
  },
  {
   "cell_type": "markdown",
   "metadata": {},
   "source": [
    "1. Acessar a página globo.com\n",
    "2. Analisar o html da página\n",
    "3. Encontrar algum padrão que me permita obter o que eu desejo\n",
    "4. Automalizar o processo"
   ]
  },
  {
   "cell_type": "code",
   "execution_count": 17,
   "metadata": {
    "collapsed": false
   },
   "outputs": [
    {
     "name": "stdout",
     "output_type": "stream",
     "text": [
      "Done!\n"
     ]
    },
    {
     "data": {
      "text/plain": [
       "'\\ndata = {\"titulo\": titulo, \"link\": link}\\ncsv_file = pd.DataFrame(lista_titulos_links)\\ncsv_file.to_csv(\\'globo.csv\\', sep=\\',\\', encoding=\\'utf-8\\')\\n'"
      ]
     },
     "execution_count": 17,
     "metadata": {},
     "output_type": "execute_result"
    }
   ],
   "source": [
    "import requests\n",
    "from lxml import html\n",
    "import pandas as pd\n",
    "\n",
    "def padroniza_titulo(titulo):\n",
    "    return titulo.encode('latin-1').decode('string_escape')\n",
    "\n",
    "def get_lista_noticias():\n",
    "    URL = 'http://www.globo.com/'\n",
    "    response = requests.get(URL)  \n",
    "    body = html.fromstring(response.text)\n",
    "    noticias = body.xpath('//a[contains(@class,\"hui-highlight__link\")]')\n",
    "    return noticias\n",
    "\n",
    "def lista_titulos_links(noticias):\n",
    "    lista_titulos_links = []\n",
    "    for noticia in noticias:\n",
    "        if 'title' in noticia.attrib:\n",
    "            titulo = padroniza_titulo(noticia.attrib['title'])\n",
    "            link = noticia.attrib['href']\n",
    "            data = {\"titulo\": titulo, \"link\": link}#adicione seu cógico aqui\n",
    "            lista_titulos_links.append(data)\n",
    "    return lista_titulos_links\n",
    "\n",
    "noticias = get_lista_noticias()\n",
    "lista_titulos_links = lista_titulos_links(noticias)\n",
    "\n",
    "print 'Done!'\n",
    "\"\"\"\n",
    "data = {\"titulo\": titulo, \"link\": link}\n",
    "csv_file = pd.DataFrame(lista_titulos_links)\n",
    "csv_file.to_csv('globo.csv', sep='|', encoding='utf-8', index=False)\n",
    "\"\"\"\n"
   ]
  },
  {
   "cell_type": "markdown",
   "metadata": {},
   "source": [
    "# E se eu ficar sem conexão com a Internet?"
   ]
  },
  {
   "cell_type": "markdown",
   "metadata": {},
   "source": [
    "# E como maximizar meus crawlers ?"
   ]
  },
  {
   "cell_type": "markdown",
   "metadata": {},
   "source": [
    "# E se mudarem a estrutura da página ?"
   ]
  },
  {
   "cell_type": "code",
   "execution_count": null,
   "metadata": {
    "collapsed": true
   },
   "outputs": [],
   "source": []
  }
 ],
 "metadata": {
  "kernelspec": {
   "display_name": "Python 2",
   "language": "python",
   "name": "python2"
  },
  "language_info": {
   "codemirror_mode": {
    "name": "ipython",
    "version": 2
   },
   "file_extension": ".py",
   "mimetype": "text/x-python",
   "name": "python",
   "nbconvert_exporter": "python",
   "pygments_lexer": "ipython2",
   "version": "2.7.10"
  }
 },
 "nbformat": 4,
 "nbformat_minor": 0
}
