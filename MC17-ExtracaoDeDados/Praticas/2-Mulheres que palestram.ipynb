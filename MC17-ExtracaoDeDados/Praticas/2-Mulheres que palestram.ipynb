{
 "cells": [
  {
   "cell_type": "code",
   "execution_count": null,
   "metadata": {
    "collapsed": false
   },
   "outputs": [],
   "source": [
    "#coding: utf-8\n",
    "\n",
    "from lxml import html \n",
    "from lxml import etree \n",
    "\n",
    "if __name__ == \"__main__\":\n",
    "    \n",
    "    \"\"\"\n",
    "        http://insideoutproject.xyz/mulheres-palestrantes/\n",
    "    \"\"\"\n",
    "    arquivo = open('mulheres_palestrantes.htm').read()\n",
    "    pagina = etree.HTML(arquivo)\n",
    "    \n",
    "    nomes = pagina.xpath('//article[@class=\"card\"]/h3/text()')\n",
    "    fotos = pagina.xpath('//article[@class=\"card\"]/img/@src')\n",
    "    localizacoes = pagina.xpath('//article[@class=\"card\"]/div/p[@class=\"location\"]/text()')\n",
    "\n",
    "    participantes = []\n",
    "    \n",
    "    for nome,foto,localizacao in zip(nomes,fotos,localizacoes):\n",
    "        participante = {'nome':nome, 'foto':foto, 'localizacao':localizacao}\n",
    "        participantes.append(participante)\n",
    "    print participantes\n",
    "\n",
    "    '''\n",
    "    cards = pagina.xpath('//article[@class=\"card\"]/ul')\n",
    "    for card in cards: print [[tema.text for tema in card.getchildren()]]\n",
    "    temas_de_interesse = pagina.xpath('//article[@class=\"card\"]/ul/li/text()')\n",
    "\n",
    "    '''\n"
   ]
  },
  {
   "cell_type": "markdown",
   "metadata": {},
   "source": [
    "# Como ficaria o banco de dados relacional para armazenar listas?"
   ]
  },
  {
   "cell_type": "code",
   "execution_count": null,
   "metadata": {
    "collapsed": true
   },
   "outputs": [],
   "source": []
  }
 ],
 "metadata": {
  "kernelspec": {
   "display_name": "Python 2",
   "language": "python",
   "name": "python2"
  },
  "language_info": {
   "codemirror_mode": {
    "name": "ipython",
    "version": 2
   },
   "file_extension": ".py",
   "mimetype": "text/x-python",
   "name": "python",
   "nbconvert_exporter": "python",
   "pygments_lexer": "ipython2",
   "version": "2.7.10"
  }
 },
 "nbformat": 4,
 "nbformat_minor": 0
}
